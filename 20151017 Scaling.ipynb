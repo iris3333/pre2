{
 "cells": [
  {
   "cell_type": "markdown",
   "metadata": {},
   "source": [
    "# Scaling"
   ]
  },
  {
   "cell_type": "code",
   "execution_count": 1,
   "metadata": {
    "collapsed": true
   },
   "outputs": [],
   "source": [
    "import numpy as np\n",
    "import pandas as pd\n",
    "import matplotlib.pyplot as plt"
   ]
  },
  {
   "cell_type": "code",
   "execution_count": 2,
   "metadata": {
    "collapsed": true
   },
   "outputs": [],
   "source": [
    "from sklearn.model_selection import train_test_split\n",
    "from sklearn.preprocessing import StandardScaler, RobustScaler, MinMaxScaler, Normalizer"
   ]
  },
  {
   "cell_type": "code",
   "execution_count": 3,
   "metadata": {},
   "outputs": [
    {
     "name": "stdout",
     "output_type": "stream",
     "text": [
      "Sepal_Length    float64\n",
      "Sepal_Width     float64\n",
      "Petal_Length    float64\n",
      "Petal_Width     float64\n",
      "Species          object\n",
      "dtype: object\n"
     ]
    }
   ],
   "source": [
    "iris = pd.read_csv(\"Iris.csv\")\n",
    "print(iris.dtypes)"
   ]
  },
  {
   "cell_type": "markdown",
   "metadata": {},
   "source": [
    "### 1. Data Split\n",
    "The fitted scaler from a train set will be applied to the test set.<br>\n",
    "Note that the splited data are pandas dataframes and the scaled data are numpy arrays."
   ]
  },
  {
   "cell_type": "code",
   "execution_count": 4,
   "metadata": {},
   "outputs": [
    {
     "name": "stdout",
     "output_type": "stream",
     "text": [
      "Train: (105, 4) (105,)\n",
      "Test: (45, 4) (45,)\n"
     ]
    }
   ],
   "source": [
    "X_train, X_test, y_train, y_test = train_test_split(iris.iloc[:, :-1], iris[\"Species\"],\n",
    "                                                    test_size=0.3, random_state=96)\n",
    "print(\"Train:\", X_train.shape, y_train.shape)\n",
    "print(\"Test:\", X_test.shape, y_test.shape)"
   ]
  },
  {
   "cell_type": "markdown",
   "metadata": {},
   "source": [
    "### 2.1. Standard Scaler\n",
    "Using mean and variance of each feature. Behave badly if not normally distributed or with outliers."
   ]
  },
  {
   "cell_type": "code",
   "execution_count": 5,
   "metadata": {
    "collapsed": true
   },
   "outputs": [],
   "source": [
    "standard_scaler = StandardScaler()\n",
    "standard_scaler.fit(X_train)\n",
    "X_train_standard = standard_scaler.transform(X_train)\n",
    "X_test_standard = standard_scaler.transform(X_test)"
   ]
  },
  {
   "cell_type": "code",
   "execution_count": 6,
   "metadata": {},
   "outputs": [
    {
     "name": "stdout",
     "output_type": "stream",
     "text": [
      "              Initial  Scaled\n",
      "Sepal_Length    5.908     0.0\n",
      "Sepal_Width     3.010    -0.0\n",
      "Petal_Length    3.952    -0.0\n",
      "Petal_Width     1.258     0.0\n"
     ]
    }
   ],
   "source": [
    "## Mean of Train Set\n",
    "print(round(pd.DataFrame({\"Initial\":X_train.mean(axis=0),\n",
    "                          \"Scaled\":X_train_standard.mean(axis=0)}), 3))"
   ]
  },
  {
   "cell_type": "code",
   "execution_count": 7,
   "metadata": {},
   "outputs": [
    {
     "name": "stdout",
     "output_type": "stream",
     "text": [
      "              Initial  Scaled\n",
      "Sepal_Length    0.832     1.0\n",
      "Sepal_Width     0.396     1.0\n",
      "Petal_Length    1.706     1.0\n",
      "Petal_Width     0.742     1.0\n"
     ]
    }
   ],
   "source": [
    "## Standard Deviation of Train Set\n",
    "print(round(pd.DataFrame({\"Initial\":X_train.std(axis=0),\n",
    "                          \"Scaled\":X_train_standard.std(axis=0)}), 3))"
   ]
  },
  {
   "cell_type": "code",
   "execution_count": 8,
   "metadata": {},
   "outputs": [
    {
     "name": "stdout",
     "output_type": "stream",
     "text": [
      "              Initial  Scaled\n",
      "Sepal_Length    5.693  -0.259\n",
      "Sepal_Width     3.156   0.368\n",
      "Petal_Length    3.307  -0.380\n",
      "Petal_Width     1.060  -0.268\n"
     ]
    }
   ],
   "source": [
    "## Mean of Test Set\n",
    "print(round(pd.DataFrame({\"Initial\":X_test.mean(axis=0),\n",
    "                          \"Scaled\":X_test_standard.mean(axis=0)}), 3))"
   ]
  },
  {
   "cell_type": "code",
   "execution_count": 9,
   "metadata": {},
   "outputs": [
    {
     "name": "stdout",
     "output_type": "stream",
     "text": [
      "              Initial  Scaled\n",
      "Sepal_Length    0.808   0.964\n",
      "Sepal_Width     0.501   1.256\n",
      "Petal_Length    1.834   1.068\n",
      "Petal_Width     0.802   1.073\n"
     ]
    }
   ],
   "source": [
    "## Standard Deviation of Test Set\n",
    "print(round(pd.DataFrame({\"Initial\":X_test.std(axis=0),\n",
    "                          \"Scaled\":X_test_standard.std(axis=0)}), 3))"
   ]
  },
  {
   "cell_type": "markdown",
   "metadata": {},
   "source": [
    "### 2.2. Robust Scaler\n",
    "Using median and quantiles of each feature. Robust to outliers."
   ]
  },
  {
   "cell_type": "code",
   "execution_count": 10,
   "metadata": {
    "collapsed": true
   },
   "outputs": [],
   "source": [
    "robust_scaler = RobustScaler()\n",
    "robust_scaler.fit(X_train)\n",
    "X_train_robust = robust_scaler.transform(X_train)\n",
    "X_test_robust = robust_scaler.transform(X_test)"
   ]
  },
  {
   "cell_type": "code",
   "execution_count": 11,
   "metadata": {},
   "outputs": [
    {
     "name": "stdout",
     "output_type": "stream",
     "text": [
      "              Initial  Scaled\n",
      "Sepal_Length      5.9     0.0\n",
      "Sepal_Width       3.0     0.0\n",
      "Petal_Length      4.5     0.0\n",
      "Petal_Width       1.4     0.0\n"
     ]
    }
   ],
   "source": [
    "## Median of Train Set\n",
    "print(round(pd.DataFrame({\"Initial\":X_train.median(axis=0),\n",
    "                          \"Scaled\":np.median(X_train_robust, axis=0)}), 3))"
   ]
  },
  {
   "cell_type": "code",
   "execution_count": 12,
   "metadata": {},
   "outputs": [
    {
     "name": "stdout",
     "output_type": "stream",
     "text": [
      "              Initial  Scaled\n",
      "Sepal_Length      5.5  -0.286\n",
      "Sepal_Width       3.1   0.250\n",
      "Petal_Length      3.6  -0.265\n",
      "Petal_Width       1.1  -0.200\n"
     ]
    }
   ],
   "source": [
    "## Median of Test Set\n",
    "print(round(pd.DataFrame({\"Initial\":X_test.median(axis=0),\n",
    "                          \"Scaled\":np.median(X_test_robust, axis=0)}), 3))"
   ]
  },
  {
   "cell_type": "markdown",
   "metadata": {},
   "source": [
    "### 2.3. Min Max Scaler\n",
    "Using minimum and maximum of each feature. Each feature gets [0, 1] values."
   ]
  },
  {
   "cell_type": "code",
   "execution_count": 13,
   "metadata": {
    "collapsed": true
   },
   "outputs": [],
   "source": [
    "minmax_scaler = MinMaxScaler()\n",
    "minmax_scaler.fit(X_train)\n",
    "X_train_minmax = minmax_scaler.transform(X_train)\n",
    "X_test_minmax = minmax_scaler.transform(X_test)"
   ]
  },
  {
   "cell_type": "code",
   "execution_count": 14,
   "metadata": {},
   "outputs": [
    {
     "name": "stdout",
     "output_type": "stream",
     "text": [
      "              Initial  Scaled\n",
      "Sepal_Length      4.4     0.0\n",
      "Sepal_Width       2.0     0.0\n",
      "Petal_Length      1.0     0.0\n",
      "Petal_Width       0.1     0.0\n"
     ]
    }
   ],
   "source": [
    "## Minimum of Train Set\n",
    "print(round(pd.DataFrame({\"Initial\":X_train.min(axis=0),\n",
    "                          \"Scaled\":X_train_minmax.min(axis=0)}), 3))"
   ]
  },
  {
   "cell_type": "code",
   "execution_count": 15,
   "metadata": {},
   "outputs": [
    {
     "name": "stdout",
     "output_type": "stream",
     "text": [
      "              Initial  Scaled\n",
      "Sepal_Length      7.9     1.0\n",
      "Sepal_Width       4.0     1.0\n",
      "Petal_Length      6.9     1.0\n",
      "Petal_Width       2.5     1.0\n"
     ]
    }
   ],
   "source": [
    "## Maximum of Train Set\n",
    "print(round(pd.DataFrame({\"Initial\":X_train.max(axis=0),\n",
    "                          \"Scaled\":X_train_minmax.max(axis=0)}), 3))"
   ]
  },
  {
   "cell_type": "code",
   "execution_count": 16,
   "metadata": {},
   "outputs": [
    {
     "name": "stdout",
     "output_type": "stream",
     "text": [
      "              Initial  Scaled\n",
      "Sepal_Length      4.3  -0.029\n",
      "Sepal_Width       2.3   0.150\n",
      "Petal_Length      1.1   0.017\n",
      "Petal_Width       0.1   0.000\n"
     ]
    }
   ],
   "source": [
    "## Minimum of Test Set\n",
    "print(round(pd.DataFrame({\"Initial\":X_test.min(axis=0),\n",
    "                          \"Scaled\":X_test_minmax.min(axis=0)}), 3))"
   ]
  },
  {
   "cell_type": "code",
   "execution_count": 17,
   "metadata": {},
   "outputs": [
    {
     "name": "stdout",
     "output_type": "stream",
     "text": [
      "              Initial  Scaled\n",
      "Sepal_Length      7.7   0.943\n",
      "Sepal_Width       4.4   1.200\n",
      "Petal_Length      6.7   0.966\n",
      "Petal_Width       2.5   1.000\n"
     ]
    }
   ],
   "source": [
    "## Maximum of Test Set\n",
    "print(round(pd.DataFrame({\"Initial\":X_test.max(axis=0),\n",
    "                          \"Scaled\":X_test_minmax.max(axis=0)}), 3))"
   ]
  },
  {
   "cell_type": "markdown",
   "metadata": {},
   "source": [
    "### 2.4. Normalizer\n",
    "Using vector of each instance. Each vector to have an unit norm.\n",
    "Importance of direction rather than length."
   ]
  },
  {
   "cell_type": "code",
   "execution_count": 18,
   "metadata": {
    "collapsed": true
   },
   "outputs": [],
   "source": [
    "normalizer = Normalizer(norm=\"l2\")\n",
    "normalizer.fit(X_train)\n",
    "X_train_norm = normalizer.transform(X_train)\n",
    "X_test_norm = normalizer.transform(X_test)"
   ]
  },
  {
   "cell_type": "code",
   "execution_count": 19,
   "metadata": {},
   "outputs": [
    {
     "name": "stdout",
     "output_type": "stream",
     "text": [
      "                       Initial                        Scaled\n",
      "Instance  [6.0, 3.0, 4.8, 1.8]  [0.711, 0.355, 0.569, 0.213]\n",
      "Norm                   8.44275                             1\n"
     ]
    }
   ],
   "source": [
    "## Norm of the First Instance in Train Set\n",
    "print(pd.DataFrame({\"Initial\":[X_train.iloc[0, :].values, sum(X_train.iloc[0, :]**2)**0.5],\n",
    "                    \"Scaled\":[np.round(X_train_norm[0], 3), sum(X_train_norm[0]**2)**0.5]},\n",
    "                   index=[\"Instance\", \"Norm\"]))"
   ]
  },
  {
   "cell_type": "code",
   "execution_count": 20,
   "metadata": {},
   "outputs": [
    {
     "name": "stdout",
     "output_type": "stream",
     "text": [
      "                       Initial                        Scaled\n",
      "Instance  [4.8, 3.1, 1.6, 0.2]  [0.808, 0.522, 0.269, 0.034]\n",
      "Norm                   5.93717                             1\n"
     ]
    }
   ],
   "source": [
    "## Norm of the First Instance in Test Set\n",
    "print(pd.DataFrame({\"Initial\":[X_test.iloc[0, :].values, sum(X_test.iloc[0, :]**2)**0.5],\n",
    "                    \"Scaled\":[np.round(X_test_norm[0], 3), sum(X_test_norm[0]**2)**0.5]},\n",
    "                   index=[\"Instance\", \"Norm\"]))"
   ]
  },
  {
   "cell_type": "markdown",
   "metadata": {},
   "source": [
    "### 3. Scaler Comparison"
   ]
  },
  {
   "cell_type": "code",
   "execution_count": 21,
   "metadata": {
    "collapsed": true
   },
   "outputs": [],
   "source": [
    "def Scaler_Plot(X, y, colormap):\n",
    "    \n",
    "    plt.figure(figsize=(11, 5))\n",
    "    \n",
    "    main_ax = plt.subplot2grid((2, 4), (0, 0), rowspan=2, colspan=2)\n",
    "    main_ax.scatter(X.iloc[:, 0], X.iloc[:, 1], c=[colormap[target] for target in y], s=5)\n",
    "    main_ax.set_xlim(-8, 8); main_ax.set_ylim(-6, 6); main_ax.tick_params(labelsize=10)\n",
    "    main_ax.set_title(\"Raw Data\", fontsize=12, x=0.5, y=1.02)\n",
    "    \n",
    "    axes = [plt.subplot2grid((2, 4), (i, j)) for i in range(0, 2) for j in range(2, 4)]\n",
    "    scalers = [StandardScaler(), RobustScaler(), MinMaxScaler(), Normalizer(norm=\"l2\")]\n",
    "    for ax, scaler in zip(axes, scalers):\n",
    "        X_scaled = scaler.fit_transform(X)\n",
    "        ax.scatter(X_scaled[:, 0], X_scaled[:, 1], c=[colormap[target] for target in y], s=3)\n",
    "        ax.set_xlim(-4, 4); ax.set_ylim(-4, 4); ax.tick_params(labelsize=8)\n",
    "        ax.set_title(type(scaler).__name__, fontsize=10, x=0.5, y=1.02)\n",
    "    \n",
    "    axes.append(main_ax)\n",
    "    for ax in axes:\n",
    "        ax.spines[\"left\"].set_position(\"center\"); ax.spines[\"right\"].set_color(\"none\")\n",
    "        ax.spines[\"bottom\"].set_position(\"center\"); ax.spines[\"top\"].set_color(\"none\")\n",
    "        ax.xaxis.set_ticks_position(\"bottom\"); ax.yaxis.set_ticks_position(\"left\")\n",
    "        \n",
    "    plt.show()"
   ]
  },
  {
   "cell_type": "code",
   "execution_count": 22,
   "metadata": {},
   "outputs": [
    {
     "data": {
      "image/png": "[encoded data removed]",
      "text/plain": [
       "<matplotlib.figure.Figure at 0x26cdf4037f0>"
      ]
     },
     "metadata": {},
     "output_type": "display_data"
    }
   ],
   "source": [
    "Scaler_Plot(X=iris.loc[:, [\"Sepal_Length\", \"Sepal_Width\"]], y=iris[\"Species\"],\n",
    "            colormap={\"Setosa\":\"Red\", \"Versicolour\":\"Green\", \"Virginica\":\"Blue\"})"
   ]
  }
 ],
 "metadata": {
  "kernelspec": {
   "display_name": "Python 3",
   "language": "python",
   "name": "python3"
  },
  "language_info": {
   "codemirror_mode": {
    "name": "ipython",
    "version": 3
   },
   "file_extension": ".py",
   "mimetype": "text/x-python",
   "name": "python",
   "nbconvert_exporter": "python",
   "pygments_lexer": "ipython3",
   "version": "3.6.1"
  }
 },
 "nbformat": 4,
 "nbformat_minor": 2
}
