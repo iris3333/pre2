{
 "cells": [
  {
   "cell_type": "markdown",
   "id": "inside-matthew",
   "metadata": {},
   "source": [
    "# class str: immutable sequence"
   ]
  },
  {
   "cell_type": "code",
   "execution_count": 1,
   "id": "about-trunk",
   "metadata": {},
   "outputs": [
    {
     "name": "stdout",
     "output_type": "stream",
     "text": [
      "<class 'str'>\n"
     ]
    }
   ],
   "source": [
    "print(type(\"\"\"Three quotation marks mean a long string.\"\"\"))"
   ]
  },
  {
   "cell_type": "markdown",
   "id": "determined-smell",
   "metadata": {},
   "source": [
    "### sequence: index, slice"
   ]
  },
  {
   "cell_type": "code",
   "execution_count": 2,
   "id": "exposed-patrol",
   "metadata": {},
   "outputs": [
    {
     "name": "stdout",
     "output_type": "stream",
     "text": [
      "1\n",
      "1234\n"
     ]
    }
   ],
   "source": [
    "my_str = '1234567'\n",
    "print(my_str[0]) # get item: str[i]\n",
    "print(my_str[0:4]) # get slice: str[i:j:k]"
   ]
  },
  {
   "cell_type": "code",
   "execution_count": 3,
   "id": "textile-zimbabwe",
   "metadata": {},
   "outputs": [
    {
     "name": "stdout",
     "output_type": "stream",
     "text": [
      "1357\n",
      "7654321\n"
     ]
    }
   ],
   "source": [
    "my_str = '1234567'\n",
    "print(my_str[::2]) # by step\n",
    "print(my_str[::-1]) # reverse"
   ]
  },
  {
   "cell_type": "code",
   "execution_count": 4,
   "id": "express-yield",
   "metadata": {},
   "outputs": [
    {
     "name": "stdout",
     "output_type": "stream",
     "text": [
      "12345671234567\n",
      "12345671234567\n"
     ]
    }
   ],
   "source": [
    "my_str = '1234567'\n",
    "print(my_str + my_str) # concatenate: str + str\n",
    "print(my_str * 2) # multiply: str * int"
   ]
  },
  {
   "cell_type": "markdown",
   "id": "associate-north",
   "metadata": {},
   "source": [
    "### methods: find, count"
   ]
  },
  {
   "cell_type": "code",
   "execution_count": 5,
   "id": "unable-coordination",
   "metadata": {},
   "outputs": [
    {
     "name": "stdout",
     "output_type": "stream",
     "text": [
      "3\n",
      "6\n"
     ]
    }
   ],
   "source": [
    "# return the first index, -1 when unfound\n",
    "# str.find(sub,i,j)\n",
    "my_str = '#FF0000'\n",
    "print(my_str.find('0'))\n",
    "print(my_str.rfind('0'))"
   ]
  },
  {
   "cell_type": "code",
   "execution_count": 6,
   "id": "noted-radical",
   "metadata": {},
   "outputs": [
    {
     "name": "stdout",
     "output_type": "stream",
     "text": [
      "4\n"
     ]
    }
   ],
   "source": [
    "# return the number of substrings\n",
    "# str.count(sub,i,j)\n",
    "my_str = '#FF0000'\n",
    "print(my_str.count('0'))"
   ]
  },
  {
   "cell_type": "markdown",
   "id": "reverse-optimum",
   "metadata": {},
   "source": [
    "### string methods"
   ]
  },
  {
   "cell_type": "code",
   "execution_count": 7,
   "id": "welsh-italian",
   "metadata": {},
   "outputs": [
    {
     "name": "stdout",
     "output_type": "stream",
     "text": [
      "HELLO WORLD\n",
      "hello world\n",
      "hEllO wOrld\n"
     ]
    }
   ],
   "source": [
    "my_str = 'HeLLo WoRLD'\n",
    "print(my_str.upper()) # str.upper()\n",
    "print(my_str.lower()) # str.lower()\n",
    "print(my_str.swapcase()) # str.swapcase()"
   ]
  },
  {
   "cell_type": "code",
   "execution_count": 8,
   "id": "sophisticated-commons",
   "metadata": {},
   "outputs": [
    {
     "name": "stdout",
     "output_type": "stream",
     "text": [
      "Hello World\n",
      "Hello world\n"
     ]
    }
   ],
   "source": [
    "my_str = 'HeLLo WoRLD'\n",
    "print(my_str.title()) # str.title()\n",
    "print(my_str.capitalize()) # str.capitalize()"
   ]
  },
  {
   "cell_type": "code",
   "execution_count": 9,
   "id": "broad-auction",
   "metadata": {},
   "outputs": [
    {
     "name": "stdout",
     "output_type": "stream",
     "text": [
      "False\n",
      "True\n"
     ]
    }
   ],
   "source": [
    "my_str = '1234567'\n",
    "print(my_str.isalpha()) # str.isalpha() # 문자열 내의 모든 문자가 알파벳\n",
    "print(my_str.isdecimal()) # str.isdecimal() # 문자열 내의 모든 문자가 10진법 숫자"
   ]
  },
  {
   "cell_type": "code",
   "execution_count": 10,
   "id": "cooperative-formula",
   "metadata": {},
   "outputs": [
    {
     "name": "stdout",
     "output_type": "stream",
     "text": [
      "['YYYY', 'mm-dd']\n",
      "['YYYY-mm', 'dd']\n"
     ]
    }
   ],
   "source": [
    "# str.split(sep=None, maxsplit=-1)\n",
    "my_str = 'YYYY-mm-dd'\n",
    "print(my_str.split(sep='-', maxsplit=1))\n",
    "print(my_str.rsplit(sep='-', maxsplit=1))"
   ]
  },
  {
   "cell_type": "code",
   "execution_count": 11,
   "id": "proprietary-drawing",
   "metadata": {},
   "outputs": [
    {
     "name": "stdout",
     "output_type": "stream",
     "text": [
      "YYYY-mm-dd\n"
     ]
    }
   ],
   "source": [
    "# str.join(iterable)\n",
    "my_iter = ['YYYY','mm','dd']\n",
    "print('-'.join(my_iter))"
   ]
  },
  {
   "cell_type": "code",
   "execution_count": 12,
   "id": "isolated-anime",
   "metadata": {
    "scrolled": true
   },
   "outputs": [
    {
     "name": "stdout",
     "output_type": "stream",
     "text": [
      "YYYY.mm.dd\n"
     ]
    }
   ],
   "source": [
    "# str.replace(sub1,sub2,n)\n",
    "my_str = 'YYYY-mm-dd'\n",
    "print(my_str.replace('-','.'))"
   ]
  },
  {
   "cell_type": "code",
   "execution_count": 13,
   "id": "foster-explosion",
   "metadata": {},
   "outputs": [
    {
     "name": "stdout",
     "output_type": "stream",
     "text": [
      "ror\n",
      "rora\n",
      "auror\n"
     ]
    }
   ],
   "source": [
    "# return a copy of the string with leading and trailing characters removed\n",
    "# str.strip(chars)\n",
    "# all combinations removed, 해당하지 않는 문자가 나올 때까지\n",
    "# 공백 제거에 사용\n",
    "my_str = 'aurora'\n",
    "print(my_str.strip('aeiou'))\n",
    "print(my_str.lstrip('aeiou'))\n",
    "print(my_str.rstrip('aeiou'))"
   ]
  },
  {
   "cell_type": "code",
   "execution_count": 14,
   "id": "rolled-beijing",
   "metadata": {},
   "outputs": [
    {
     "name": "stdout",
     "output_type": "stream",
     "text": [
      "+36275140\n",
      "0+3627514\n"
     ]
    }
   ],
   "source": [
    "# justify and width by filling\n",
    "# return original string when width is less than or equal to length\n",
    "# str.ljust(width,x) # justify left, fill right\n",
    "my_str = '+3627514'\n",
    "print(my_str.ljust(9,'0')) \n",
    "print(my_str.rjust(9,'0'))"
   ]
  },
  {
   "cell_type": "code",
   "execution_count": 15,
   "id": "emerging-blues",
   "metadata": {},
   "outputs": [
    {
     "name": "stdout",
     "output_type": "stream",
     "text": [
      "+03627514\n"
     ]
    }
   ],
   "source": [
    "# return original string when width is less than or equal to length\n",
    "# str.zfill(width) # justify right, fill left with zero\n",
    "my_str = '+3627514'\n",
    "print(my_str.zfill(9))"
   ]
  }
 ],
 "metadata": {
  "kernelspec": {
   "display_name": "Python 3",
   "language": "python",
   "name": "python3"
  },
  "language_info": {
   "codemirror_mode": {
    "name": "ipython",
    "version": 3
   },
   "file_extension": ".py",
   "mimetype": "text/x-python",
   "name": "python",
   "nbconvert_exporter": "python",
   "pygments_lexer": "ipython3",
   "version": "3.8.5"
  }
 },
 "nbformat": 4,
 "nbformat_minor": 5
}
