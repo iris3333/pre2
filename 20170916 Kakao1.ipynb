{
 "cells": [
  {
   "cell_type": "markdown",
   "metadata": {},
   "source": [
    "# Kakao Coding Test #1"
   ]
  },
  {
   "cell_type": "code",
   "execution_count": 1,
   "metadata": {
    "collapsed": true
   },
   "outputs": [],
   "source": [
    "n = 5\n",
    "arr1 = [9, 20, 28, 18, 11]\n",
    "arr2 = [30, 1, 21, 17, 28]"
   ]
  },
  {
   "cell_type": "code",
   "execution_count": 2,
   "metadata": {
    "collapsed": true
   },
   "outputs": [],
   "source": [
    "for i in range(len(arr1)):\n",
    "    arr1[i] = bin(arr1[i]).replace(\"b\", \"\")\n",
    "    if len(arr1[i]) > n:\n",
    "        arr1[i] = arr1[i][-n:]\n",
    "    elif len(arr1[i]) < n:\n",
    "        arr1[i] = \"0\"*(n-len(arr1[i])) + arr1[i]"
   ]
  },
  {
   "cell_type": "code",
   "execution_count": 3,
   "metadata": {
    "collapsed": true
   },
   "outputs": [],
   "source": [
    "for i in range(len(arr2)):\n",
    "    arr2[i] = bin(arr2[i]).replace(\"b\", \"\")\n",
    "    if len(arr2[i]) > n:\n",
    "        arr2[i] = arr2[i][-n:]\n",
    "    elif len(arr2[i]) < n:\n",
    "        arr2[i] = \"0\"*(n-len(arr2[i])) + arr2[i]"
   ]
  },
  {
   "cell_type": "code",
   "execution_count": 4,
   "metadata": {},
   "outputs": [
    {
     "name": "stdout",
     "output_type": "stream",
     "text": [
      "['01001', '10100', '11100', '10010', '01011']\n",
      "['11110', '00001', '10101', '10001', '11100']\n"
     ]
    }
   ],
   "source": [
    "print(arr1)\n",
    "print(arr2)"
   ]
  },
  {
   "cell_type": "code",
   "execution_count": 5,
   "metadata": {
    "collapsed": true
   },
   "outputs": [],
   "source": [
    "output = []\n",
    "for i in range(n):\n",
    "    x = \"\"\n",
    "    for j in range(n):\n",
    "        if int(arr1[i][j]) + int(arr2[i][j]) == 0:\n",
    "            x = x + \" \"\n",
    "        else:\n",
    "            x = x + \"#\"\n",
    "    output.append(x)"
   ]
  },
  {
   "cell_type": "code",
   "execution_count": 6,
   "metadata": {},
   "outputs": [
    {
     "name": "stdout",
     "output_type": "stream",
     "text": [
      "['#####', '# # #', '### #', '#  ##', '#####']\n"
     ]
    }
   ],
   "source": [
    "print(output)"
   ]
  }
 ],
 "metadata": {
  "kernelspec": {
   "display_name": "Python 3",
   "language": "python",
   "name": "python3"
  },
  "language_info": {
   "codemirror_mode": {
    "name": "ipython",
    "version": 3
   },
   "file_extension": ".py",
   "mimetype": "text/x-python",
   "name": "python",
   "nbconvert_exporter": "python",
   "pygments_lexer": "ipython3",
   "version": "3.6.1"
  }
 },
 "nbformat": 4,
 "nbformat_minor": 2
}
