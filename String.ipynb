{
 "cells": [
  {
   "cell_type": "markdown",
   "metadata": {},
   "source": [
    "# String"
   ]
  },
  {
   "cell_type": "code",
   "execution_count": 1,
   "metadata": {},
   "outputs": [
    {
     "name": "stdout",
     "output_type": "stream",
     "text": [
      "<class 'str'>\n"
     ]
    }
   ],
   "source": [
    "print(type(\"\"\"Three quotation marks mean a long string.\"\"\"))"
   ]
  },
  {
   "cell_type": "code",
   "execution_count": 2,
   "metadata": {},
   "outputs": [
    {
     "name": "stdout",
     "output_type": "stream",
     "text": [
      "HELLO WORLD!\n",
      "hello world!\n"
     ]
    }
   ],
   "source": [
    "print(\"Hello World!\".upper())\n",
    "print(\"Hello World!\".lower())"
   ]
  },
  {
   "cell_type": "code",
   "execution_count": 3,
   "metadata": {},
   "outputs": [
    {
     "name": "stdout",
     "output_type": "stream",
     "text": [
      "Hello world!\n",
      "Hello World!\n"
     ]
    }
   ],
   "source": [
    "print(\"HELLO WORLD!\".capitalize())\n",
    "print(\"HELLO WORLD!\".title())"
   ]
  },
  {
   "cell_type": "code",
   "execution_count": 4,
   "metadata": {},
   "outputs": [
    {
     "name": "stdout",
     "output_type": "stream",
     "text": [
      "C:/Users/Iris/Desktop/Python\n",
      "['C:', 'Users', 'Iris', 'Desktop', 'Python']\n"
     ]
    }
   ],
   "source": [
    "print(\"/\".join([\"C:\", \"Users\", \"Iris\", \"Desktop\", \"Python\"]))\n",
    "print(\"C:/Users/Iris/Desktop/Python\".split(\"/\"))"
   ]
  },
  {
   "cell_type": "code",
   "execution_count": 5,
   "metadata": {},
   "outputs": [
    {
     "name": "stdout",
     "output_type": "stream",
     "text": [
      "C:/Users/Iris/Desktop/SAS\n"
     ]
    }
   ],
   "source": [
    "print(\"C:/Users/Iris/Desktop/Python\".replace(\"Python\", \"SAS\"))"
   ]
  },
  {
   "cell_type": "code",
   "execution_count": 6,
   "metadata": {},
   "outputs": [
    {
     "name": "stdout",
     "output_type": "stream",
     "text": [
      "2\n",
      "4\n"
     ]
    }
   ],
   "source": [
    "print(\"C:/Users/Iris/Desktop/Python\".find(\"/\"))\n",
    "print(\"C:/Users/Iris/Desktop/Python\".count(\"/\"))"
   ]
  },
  {
   "cell_type": "code",
   "execution_count": 7,
   "metadata": {},
   "outputs": [
    {
     "name": "stdout",
     "output_type": "stream",
     "text": [
      "String: Pi\n",
      "Integer: 180\n",
      "Float: 3.14\n"
     ]
    }
   ],
   "source": [
    "print(\"String: %s\" % \"Pi\")\n",
    "print(\"Integer: %d\" % 180)\n",
    "print(\"Float: %.2f\" % 3.14)"
   ]
  },
  {
   "cell_type": "code",
   "execution_count": 8,
   "metadata": {},
   "outputs": [
    {
     "name": "stdout",
     "output_type": "stream",
     "text": [
      "String: Pi\n",
      "Numeric: 180 or 3.14\n"
     ]
    }
   ],
   "source": [
    "print(\"String: {}\".format(\"Pi\"))\n",
    "print(\"Numeric: {} or {}\".format(180, 3.14))"
   ]
  }
 ],
 "metadata": {
  "kernelspec": {
   "display_name": "Python 3",
   "language": "python",
   "name": "python3"
  },
  "language_info": {
   "codemirror_mode": {
    "name": "ipython",
    "version": 3
   },
   "file_extension": ".py",
   "mimetype": "text/x-python",
   "name": "python",
   "nbconvert_exporter": "python",
   "pygments_lexer": "ipython3",
   "version": "3.6.5"
  }
 },
 "nbformat": 4,
 "nbformat_minor": 2
}
