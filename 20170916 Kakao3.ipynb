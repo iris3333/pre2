{
 "cells": [
  {
   "cell_type": "markdown",
   "metadata": {},
   "source": [
    "# Kakao Coding Test #3"
   ]
  },
  {
   "cell_type": "code",
   "execution_count": 1,
   "metadata": {
    "collapsed": true
   },
   "outputs": [],
   "source": [
    "cacheSize = 3\n",
    "cities = [\"Jeju\", \"Pangyo\", \"Seoul\", \"NewYork\", \"LA\", \"Jeju\", \"Pangyo\", \"Seoul\", \"NewYork\", \"LA\"]"
   ]
  },
  {
   "cell_type": "code",
   "execution_count": 2,
   "metadata": {},
   "outputs": [
    {
     "name": "stdout",
     "output_type": "stream",
     "text": [
      "['JEJU', 'PANGYO', 'SEOUL', 'NEWYORK', 'LA', 'JEJU', 'PANGYO', 'SEOUL', 'NEWYORK', 'LA']\n"
     ]
    }
   ],
   "source": [
    "cache = []\n",
    "cities = [cities[i].upper() for i in range(len(cities))]\n",
    "print(cities)"
   ]
  },
  {
   "cell_type": "code",
   "execution_count": 3,
   "metadata": {},
   "outputs": [
    {
     "name": "stdout",
     "output_type": "stream",
     "text": [
      "{'PANGYO': 0, 'SEOUL': 0, 'JEJU': 0, 'NEWYORK': 0, 'LA': 0}\n"
     ]
    }
   ],
   "source": [
    "count = {}\n",
    "for city in set(cities):\n",
    "    count.setdefault(city, 0)\n",
    "print(count)"
   ]
  },
  {
   "cell_type": "code",
   "execution_count": 4,
   "metadata": {
    "collapsed": true
   },
   "outputs": [],
   "source": [
    "time = 0\n",
    "for i in range(len(cities)):\n",
    "    if cacheSize == 0:\n",
    "        time = 5*len(cities)\n",
    "    elif cities[i] not in cache:\n",
    "        time += 5\n",
    "        if cacheSize == len(cache):\n",
    "            cache.pop([count[c] for c in cache].index(min([count[c] for c in cache])))\n",
    "        cache.append(cities[i])\n",
    "        count[cities[i]] += 1\n",
    "    else:\n",
    "        time += 1\n",
    "        count[cities[i]] += 1"
   ]
  },
  {
   "cell_type": "code",
   "execution_count": 5,
   "metadata": {},
   "outputs": [
    {
     "name": "stdout",
     "output_type": "stream",
     "text": [
      "50\n"
     ]
    }
   ],
   "source": [
    "print(time)"
   ]
  }
 ],
 "metadata": {
  "kernelspec": {
   "display_name": "Python 3",
   "language": "python",
   "name": "python3"
  },
  "language_info": {
   "codemirror_mode": {
    "name": "ipython",
    "version": 3
   },
   "file_extension": ".py",
   "mimetype": "text/x-python",
   "name": "python",
   "nbconvert_exporter": "python",
   "pygments_lexer": "ipython3",
   "version": "3.6.1"
  }
 },
 "nbformat": 4,
 "nbformat_minor": 2
}
