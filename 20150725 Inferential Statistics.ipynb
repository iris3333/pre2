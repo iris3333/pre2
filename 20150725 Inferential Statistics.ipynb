{
 "cells": [
  {
   "cell_type": "markdown",
   "metadata": {},
   "source": [
    "# Inferential Statistics"
   ]
  },
  {
   "cell_type": "code",
   "execution_count": 1,
   "metadata": {
    "collapsed": true
   },
   "outputs": [],
   "source": [
    "import numpy as np\n",
    "import pandas as pd\n",
    "import matplotlib.pyplot as plt"
   ]
  },
  {
   "cell_type": "code",
   "execution_count": 2,
   "metadata": {
    "collapsed": true
   },
   "outputs": [],
   "source": [
    "import scipy.stats as stats\n",
    "from statsmodels.stats.multicomp import pairwise_tukeyhsd"
   ]
  },
  {
   "cell_type": "markdown",
   "metadata": {},
   "source": [
    "### 1. Chi-square"
   ]
  },
  {
   "cell_type": "code",
   "execution_count": 3,
   "metadata": {},
   "outputs": [
    {
     "name": "stdout",
     "output_type": "stream",
     "text": [
      "        Bread       Filling\n",
      "0   WhiteRice  PeanutButter\n",
      "1  MultiGrain  SmokedSalmon\n",
      "2  MultiGrain    VegeOlives\n",
      "3   WhiteRice  SmokedSalmon\n",
      "4   WhiteRice    VegeOlives\n"
     ]
    }
   ],
   "source": [
    "sandwich = pd.read_csv(\"Sandwich.csv\")\n",
    "print(sandwich.head())"
   ]
  },
  {
   "cell_type": "code",
   "execution_count": 4,
   "metadata": {},
   "outputs": [
    {
     "name": "stdout",
     "output_type": "stream",
     "text": [
      "col_0       Counts\n",
      "Bread             \n",
      "MultiGrain      50\n",
      "WhiteRice       42\n",
      "WholeWheat      28\n"
     ]
    }
   ],
   "source": [
    "## Goodness-of-fit\n",
    "one_freq = pd.crosstab(index=sandwich[\"Bread\"], columns=\"Counts\")\n",
    "print(one_freq)"
   ]
  },
  {
   "cell_type": "code",
   "execution_count": 5,
   "metadata": {},
   "outputs": [
    {
     "name": "stdout",
     "output_type": "stream",
     "text": [
      "Power_divergenceResult(statistic=array([ 6.2]), pvalue=array([ 0.0450492]))\n"
     ]
    }
   ],
   "source": [
    "## H0: Following the given distribution\n",
    "print(stats.chisquare(f_obs=one_freq,\n",
    "                      f_exp=pd.DataFrame([len(sandwich)/len(one_freq)]*len(one_freq))))"
   ]
  },
  {
   "cell_type": "code",
   "execution_count": 6,
   "metadata": {},
   "outputs": [
    {
     "name": "stdout",
     "output_type": "stream",
     "text": [
      "Filling     PeanutButter  SmokedSalmon  VegeOlives\n",
      "Bread                                             \n",
      "MultiGrain            10            16          24\n",
      "WhiteRice             16            12          14\n",
      "WholeWheat             8            11           9\n"
     ]
    }
   ],
   "source": [
    "## Independence or Homogeneity\n",
    "two_freq = pd.crosstab(index=sandwich[\"Bread\"], columns=sandwich[\"Filling\"], margins=False)\n",
    "print(two_freq)"
   ]
  },
  {
   "cell_type": "code",
   "execution_count": 7,
   "metadata": {},
   "outputs": [
    {
     "name": "stdout",
     "output_type": "stream",
     "text": [
      "[('Statistic', 4.9523332737350261), ('P-value', 0.29222346118659787)]\n"
     ]
    }
   ],
   "source": [
    "## H0: Independent features or equal feature proportions among groups\n",
    "print(list(zip([\"Statistic\", \"P-value\"],\n",
    "               stats.chi2_contingency(two_freq, correction=False)[0:2])))"
   ]
  },
  {
   "cell_type": "markdown",
   "metadata": {},
   "source": [
    "### 2. Student's T"
   ]
  },
  {
   "cell_type": "code",
   "execution_count": 8,
   "metadata": {},
   "outputs": [
    {
     "name": "stdout",
     "output_type": "stream",
     "text": [
      "   Sepal_Length  Sepal_Width  Petal_Length  Petal_Width Species\n",
      "0           5.1          3.5           1.4          0.2  Setosa\n",
      "1           4.9          3.0           1.4          0.2  Setosa\n",
      "2           4.7          3.2           1.3          0.2  Setosa\n",
      "3           4.6          3.1           1.5          0.2  Setosa\n",
      "4           5.0          3.6           1.4          0.2  Setosa\n"
     ]
    }
   ],
   "source": [
    "iris = pd.read_csv(\"Iris.csv\")\n",
    "print(iris.head())"
   ]
  },
  {
   "cell_type": "code",
   "execution_count": 9,
   "metadata": {
    "collapsed": true
   },
   "outputs": [],
   "source": [
    "setosa = iris[iris[\"Species\"]==\"Setosa\"]\n",
    "versicolour = iris[iris[\"Species\"]==\"Versicolour\"]\n",
    "virginica = iris[iris[\"Species\"]==\"Virginica\"]"
   ]
  },
  {
   "cell_type": "code",
   "execution_count": 10,
   "metadata": {},
   "outputs": [
    {
     "name": "stdout",
     "output_type": "stream",
     "text": [
      "Ttest_1sampResult(statistic=18.909305173004462, pvalue=3.694510829751633e-24)\n"
     ]
    }
   ],
   "source": [
    "## 1-Sample\n",
    "print(stats.ttest_1samp(a=setosa[\"Petal_Length\"],\n",
    "                        popmean=round(setosa[\"Petal_Length\"].mean(), 0)))"
   ]
  },
  {
   "cell_type": "code",
   "execution_count": 11,
   "metadata": {},
   "outputs": [
    {
     "name": "stdout",
     "output_type": "stream",
     "text": [
      "Ttest_indResult(statistic=-39.468662593972709, pvalue=1.057210030060334e-45)\n"
     ]
    }
   ],
   "source": [
    "## 2-Sample\n",
    "print(stats.ttest_ind(a=setosa[\"Petal_Length\"], b=versicolour[\"Petal_Length\"], equal_var=False))"
   ]
  },
  {
   "cell_type": "code",
   "execution_count": 12,
   "metadata": {},
   "outputs": [
    {
     "name": "stdout",
     "output_type": "stream",
     "text": [
      "Ttest_relResult(statistic=-6.7898609657008402, pvalue=1.8721444894111092e-07)\n"
     ]
    }
   ],
   "source": [
    "## Pairwise\n",
    "before = stats.norm.rvs(loc=100, scale=30, size=30)\n",
    "after = before + stats.norm.rvs(loc=10, scale=10, size=30)\n",
    "print(stats.ttest_rel(a=before, b=after))"
   ]
  },
  {
   "cell_type": "markdown",
   "metadata": {},
   "source": [
    "### 3. ANOVA"
   ]
  },
  {
   "cell_type": "code",
   "execution_count": 13,
   "metadata": {},
   "outputs": [
    {
     "name": "stdout",
     "output_type": "stream",
     "text": [
      "F_onewayResult(statistic=1179.0343277002194, pvalue=3.0519758018278374e-91)\n"
     ]
    }
   ],
   "source": [
    "print(stats.f_oneway(setosa[\"Petal_Length\"],\n",
    "                     versicolour[\"Petal_Length\"],\n",
    "                     virginica[\"Petal_Length\"]))"
   ]
  },
  {
   "cell_type": "code",
   "execution_count": 14,
   "metadata": {},
   "outputs": [
    {
     "name": "stdout",
     "output_type": "stream",
     "text": [
      "  Multiple Comparison of Means - Tukey HSD,FWER=0.05 \n",
      "=====================================================\n",
      "   group1      group2   meandiff lower  upper  reject\n",
      "-----------------------------------------------------\n",
      "   Setosa   Versicolour  2.796   2.5922 2.9998  True \n",
      "   Setosa    Virginica   4.088   3.8842 4.2918  True \n",
      "Versicolour  Virginica   1.292   1.0882 1.4958  True \n",
      "-----------------------------------------------------\n"
     ]
    }
   ],
   "source": [
    "tukey = pairwise_tukeyhsd(endog=iris[\"Petal_Length\"], groups=iris[\"Species\"], alpha=0.05)\n",
    "print(tukey.summary())"
   ]
  },
  {
   "cell_type": "code",
   "execution_count": 15,
   "metadata": {},
   "outputs": [
    {
     "data": {
      "image/png": "[encoded data removed]",
      "text/plain": [
       "<matplotlib.figure.Figure at 0x148465e9cf8>"
      ]
     },
     "metadata": {},
     "output_type": "display_data"
    }
   ],
   "source": [
    "tukey.plot_simultaneous(figsize=(6, 4))\n",
    "plt.xlim(1, 6); plt.xlabel(\"Petal Length\"); plt.title(\"\"); plt.show()"
   ]
  },
  {
   "cell_type": "markdown",
   "metadata": {},
   "source": [
    "### 4. Correlation"
   ]
  },
  {
   "cell_type": "code",
   "execution_count": 16,
   "metadata": {},
   "outputs": [
    {
     "name": "stdout",
     "output_type": "stream",
     "text": [
      "(0.30630821115803558, 0.030507161205929209)\n"
     ]
    }
   ],
   "source": [
    "print(stats.pearsonr(x=setosa[\"Petal_Length\"], y=setosa[\"Petal_Width\"]))"
   ]
  },
  {
   "cell_type": "code",
   "execution_count": 17,
   "metadata": {},
   "outputs": [
    {
     "name": "stdout",
     "output_type": "stream",
     "text": [
      "SpearmanrResult(correlation=0.22727471454826645, pvalue=0.11244979654481418)\n"
     ]
    }
   ],
   "source": [
    "print(stats.spearmanr(a=setosa[\"Petal_Length\"], b=setosa[\"Petal_Width\"]))"
   ]
  },
  {
   "cell_type": "markdown",
   "metadata": {},
   "source": [
    "### 5. Regression"
   ]
  },
  {
   "cell_type": "code",
   "execution_count": 18,
   "metadata": {},
   "outputs": [
    {
     "name": "stdout",
     "output_type": "stream",
     "text": [
      "           0         1\n",
      "0      Slope  0.189262\n",
      "1  Intercept  0.306308\n",
      "2         R2  0.093825\n",
      "3    P-value  0.030507\n"
     ]
    }
   ],
   "source": [
    "reg = stats.linregress(x=setosa[\"Petal_Length\"], y=setosa[\"Petal_Width\"])\n",
    "print(pd.DataFrame(list(zip([\"Slope\", \"Intercept\", \"R2\", \"P-value\"],\n",
    "                            [reg[0]]+[reg[2]]+[reg[2]**2]+[reg[3]]))))"
   ]
  }
 ],
 "metadata": {
  "kernelspec": {
   "display_name": "Python 3",
   "language": "python",
   "name": "python3"
  },
  "language_info": {
   "codemirror_mode": {
    "name": "ipython",
    "version": 3
   },
   "file_extension": ".py",
   "mimetype": "text/x-python",
   "name": "python",
   "nbconvert_exporter": "python",
   "pygments_lexer": "ipython3",
   "version": "3.6.1"
  }
 },
 "nbformat": 4,
 "nbformat_minor": 2
}
