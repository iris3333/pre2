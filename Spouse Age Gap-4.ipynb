{
 "cells": [
  {
   "cell_type": "code",
   "execution_count": 1,
   "metadata": {},
   "outputs": [],
   "source": [
    "import numpy as np\n",
    "import pandas as pd\n",
    "import matplotlib.pyplot as plt"
   ]
  },
  {
   "cell_type": "code",
   "execution_count": 2,
   "metadata": {},
   "outputs": [],
   "source": [
    "import re\n",
    "from collections import Counter\n",
    "from statistics import median"
   ]
  },
  {
   "cell_type": "code",
   "execution_count": 3,
   "metadata": {},
   "outputs": [],
   "source": [
    "df0 = pd.read_csv(\"train.csv\")\n",
    "df1 = pd.read_csv(\"test.csv\")"
   ]
  },
  {
   "cell_type": "code",
   "execution_count": 4,
   "metadata": {},
   "outputs": [],
   "source": [
    "df0[\"Set\"] = [0]*len(df0)\n",
    "df1[\"Set\"] = [1]*len(df1)"
   ]
  },
  {
   "cell_type": "code",
   "execution_count": 5,
   "metadata": {},
   "outputs": [],
   "source": [
    "df = pd.merge(df0, df1, how=\"outer\")"
   ]
  },
  {
   "cell_type": "code",
   "execution_count": 6,
   "metadata": {},
   "outputs": [],
   "source": [
    "## 범주형 Dummy 생성\n",
    "df = pd.get_dummies(df, columns=[\"Sex\"]).drop([\"Sex_male\"], axis=1)\n",
    "df = df.join(pd.get_dummies(df[[\"Embarked\"]], columns=[\"Embarked\"]))"
   ]
  },
  {
   "cell_type": "code",
   "execution_count": 7,
   "metadata": {},
   "outputs": [
    {
     "data": {
      "text/plain": [
       "Index(['PassengerId', 'Survived', 'Pclass', 'Name', 'Age', 'SibSp', 'Parch',\n",
       "       'Ticket', 'Fare', 'Cabin', 'Embarked', 'Set', 'Sex_female',\n",
       "       'Embarked_C', 'Embarked_Q', 'Embarked_S'],\n",
       "      dtype='object')"
      ]
     },
     "execution_count": 7,
     "metadata": {},
     "output_type": "execute_result"
    }
   ],
   "source": [
    "df.columns"
   ]
  },
  {
   "cell_type": "code",
   "execution_count": 8,
   "metadata": {},
   "outputs": [],
   "source": [
    "## 일관된 형식을 위해 Name2 생성\n",
    "df[\"Name2\"] = df[\"Name\"].replace({\n",
    "    'Duff Gordon, Lady. (Lucille Christiana Sutherland) (\"Mrs Morgan\")':\n",
    "    'Duff Gordon, Mrs. Morgan',\n",
    "    'Duff Gordon, Sir. Cosmo Edmund (\"Mr Morgan\")':\n",
    "    'Duff Gordon, Mr. Morgan',\n",
    "    'Mayne, Mlle. Berthe Antonine (\"Mrs de Villiers\")':\n",
    "    'Mayne, Mrs. Villiers',\n",
    "    'Phillips, Miss. Kate Florence (\"Mrs Kate Louise Phillips Marshall\")':\n",
    "    'Phillips, Mrs. Kate Louise Phillips Marshall',\n",
    "    'Rothes, the Countess. of (Lucy Noel Martha Dyer-Edwards)':\n",
    "    'Rothes, Countess. Lucy Noel Martha Dyer-Edwards',\n",
    "    'Yrois, Miss. Henriette (\"Mrs Harbeck\")':\n",
    "    'Yrois, Mrs. Harbeck'})"
   ]
  },
  {
   "cell_type": "code",
   "execution_count": 9,
   "metadata": {},
   "outputs": [],
   "source": [
    "## Title\n",
    "df[\"Title\"] = df[\"Name2\"].apply(lambda x: x.split(\",\")[1].strip().split(\".\")[0].strip())\n",
    "df[\"Title\"] = df[\"Title\"].replace({\"Don\": \"Mr\", \"Dona\": \"Ms\", \"Mlle\": \"Ms\", \"Mme\": \"Ms\"})"
   ]
  },
  {
   "cell_type": "code",
   "execution_count": 10,
   "metadata": {},
   "outputs": [],
   "source": [
    "df[\"Title\"] = df[\"Title\"].replace({\"Capt\": \"Mr\", \"Col\": \"Mr\", \"Countess\": \"Ms\",\n",
    "                                   \"Dr\": \"Mr\", \"Jonkheer\": \"Mr\", \"Major\": \"Mr\", \"Rev\": \"Mr\"})"
   ]
  },
  {
   "cell_type": "code",
   "execution_count": 11,
   "metadata": {},
   "outputs": [],
   "source": [
    "## Last Name\n",
    "df[\"LName\"] = df[\"Name2\"].apply(lambda x: x.split(\",\")[0].strip())\n",
    "df[\"LName\"] = df[\"LName\"].apply(lambda x: re.sub('[-()\\'\\\"]', \"\", x.title()))\n",
    "df[\"LName\"] = df[\"LName\"].apply(lambda x: x.replace(\" \", \"\"))"
   ]
  },
  {
   "cell_type": "code",
   "execution_count": 12,
   "metadata": {},
   "outputs": [],
   "source": [
    "## First Name\n",
    "df[\"FName\"] = df[\"Name2\"].apply(lambda x: x.split(\".\")[1].strip())\n",
    "df[\"FName\"] = df[\"FName\"].apply(lambda x: x.replace(\"/\", \" \").split(\" \")[0].strip())\n",
    "df[\"FName\"] = df[\"FName\"].apply(lambda x: re.sub('[-()\\'\\\"]', \"\", x))"
   ]
  },
  {
   "cell_type": "code",
   "execution_count": 13,
   "metadata": {},
   "outputs": [
    {
     "data": {
      "text/html": [
       "<div>\n",
       "<style scoped>\n",
       "    .dataframe tbody tr th:only-of-type {\n",
       "        vertical-align: middle;\n",
       "    }\n",
       "\n",
       "    .dataframe tbody tr th {\n",
       "        vertical-align: top;\n",
       "    }\n",
       "\n",
       "    .dataframe thead th {\n",
       "        text-align: right;\n",
       "    }\n",
       "</style>\n",
       "<table border=\"1\" class=\"dataframe\">\n",
       "  <thead>\n",
       "    <tr style=\"text-align: right;\">\n",
       "      <th></th>\n",
       "      <th>Name2</th>\n",
       "      <th>Title</th>\n",
       "      <th>LName</th>\n",
       "      <th>FName</th>\n",
       "    </tr>\n",
       "  </thead>\n",
       "  <tbody>\n",
       "    <tr>\n",
       "      <th>0</th>\n",
       "      <td>Braund, Mr. Owen Harris</td>\n",
       "      <td>Mr</td>\n",
       "      <td>Braund</td>\n",
       "      <td>Owen</td>\n",
       "    </tr>\n",
       "    <tr>\n",
       "      <th>1</th>\n",
       "      <td>Cumings, Mrs. John Bradley (Florence Briggs Th...</td>\n",
       "      <td>Mrs</td>\n",
       "      <td>Cumings</td>\n",
       "      <td>John</td>\n",
       "    </tr>\n",
       "    <tr>\n",
       "      <th>2</th>\n",
       "      <td>Heikkinen, Miss. Laina</td>\n",
       "      <td>Miss</td>\n",
       "      <td>Heikkinen</td>\n",
       "      <td>Laina</td>\n",
       "    </tr>\n",
       "    <tr>\n",
       "      <th>3</th>\n",
       "      <td>Futrelle, Mrs. Jacques Heath (Lily May Peel)</td>\n",
       "      <td>Mrs</td>\n",
       "      <td>Futrelle</td>\n",
       "      <td>Jacques</td>\n",
       "    </tr>\n",
       "    <tr>\n",
       "      <th>4</th>\n",
       "      <td>Allen, Mr. William Henry</td>\n",
       "      <td>Mr</td>\n",
       "      <td>Allen</td>\n",
       "      <td>William</td>\n",
       "    </tr>\n",
       "  </tbody>\n",
       "</table>\n",
       "</div>"
      ],
      "text/plain": [
       "                                               Name2 Title      LName    FName\n",
       "0                            Braund, Mr. Owen Harris    Mr     Braund     Owen\n",
       "1  Cumings, Mrs. John Bradley (Florence Briggs Th...   Mrs    Cumings     John\n",
       "2                             Heikkinen, Miss. Laina  Miss  Heikkinen    Laina\n",
       "3       Futrelle, Mrs. Jacques Heath (Lily May Peel)   Mrs   Futrelle  Jacques\n",
       "4                           Allen, Mr. William Henry    Mr      Allen  William"
      ]
     },
     "execution_count": 13,
     "metadata": {},
     "output_type": "execute_result"
    }
   ],
   "source": [
    "df[[\"Name2\", \"Title\", \"LName\", \"FName\"]].head()"
   ]
  },
  {
   "cell_type": "code",
   "execution_count": 14,
   "metadata": {},
   "outputs": [],
   "source": [
    "## 일관된 형식을 위해 Ticket2 생성\n",
    "df[\"Ticket2\"] = df[\"Ticket\"].apply(lambda x: re.sub('[./]', \"\", x.upper()))\n",
    "df[\"Ticket2\"] = df[\"Ticket2\"].apply(lambda x: \"/\".join(x.rsplit(\" \", 1)))\n",
    "df[\"Ticket2\"] = df[\"Ticket2\"].apply(lambda x: x.replace(\" \", \"\"))"
   ]
  },
  {
   "cell_type": "code",
   "execution_count": 15,
   "metadata": {},
   "outputs": [
    {
     "data": {
      "text/html": [
       "<div>\n",
       "<style scoped>\n",
       "    .dataframe tbody tr th:only-of-type {\n",
       "        vertical-align: middle;\n",
       "    }\n",
       "\n",
       "    .dataframe tbody tr th {\n",
       "        vertical-align: top;\n",
       "    }\n",
       "\n",
       "    .dataframe thead th {\n",
       "        text-align: right;\n",
       "    }\n",
       "</style>\n",
       "<table border=\"1\" class=\"dataframe\">\n",
       "  <thead>\n",
       "    <tr style=\"text-align: right;\">\n",
       "      <th></th>\n",
       "      <th>Ticket2</th>\n",
       "    </tr>\n",
       "  </thead>\n",
       "  <tbody>\n",
       "    <tr>\n",
       "      <th>0</th>\n",
       "      <td>A5/21171</td>\n",
       "    </tr>\n",
       "    <tr>\n",
       "      <th>1</th>\n",
       "      <td>PC/17599</td>\n",
       "    </tr>\n",
       "    <tr>\n",
       "      <th>2</th>\n",
       "      <td>STONO2/3101282</td>\n",
       "    </tr>\n",
       "    <tr>\n",
       "      <th>3</th>\n",
       "      <td>113803</td>\n",
       "    </tr>\n",
       "    <tr>\n",
       "      <th>4</th>\n",
       "      <td>373450</td>\n",
       "    </tr>\n",
       "  </tbody>\n",
       "</table>\n",
       "</div>"
      ],
      "text/plain": [
       "          Ticket2\n",
       "0        A5/21171\n",
       "1        PC/17599\n",
       "2  STONO2/3101282\n",
       "3          113803\n",
       "4          373450"
      ]
     },
     "execution_count": 15,
     "metadata": {},
     "output_type": "execute_result"
    }
   ],
   "source": [
    "df[[\"Ticket2\"]].head()"
   ]
  },
  {
   "cell_type": "code",
   "execution_count": 16,
   "metadata": {},
   "outputs": [
    {
     "data": {
      "text/plain": [
       "Counter({1: 1174, 2: 9})"
      ]
     },
     "execution_count": 16,
     "metadata": {},
     "output_type": "execute_result"
    }
   ],
   "source": [
    "## 가정: 부부이면 티켓 동일하다\n",
    "## 예외: LName FName 같은데 티켓 2종류 >> 9건\n",
    "Counter({k: len(set(v[\"Ticket2\"].tolist()))\n",
    "         for k, v in df[[\"LName\", \"FName\", \"Ticket2\"]].groupby([\"LName\", \"FName\"])}.values())"
   ]
  },
  {
   "cell_type": "code",
   "execution_count": 17,
   "metadata": {},
   "outputs": [
    {
     "data": {
      "text/plain": [
       "{('Connolly', 'Kate'): {'330972', '370373'},\n",
       " ('Crosby', 'Edward'): {'112901', 'WEP/5735'},\n",
       " ('Davies', 'John'): {'A4/48871', 'CA/33112'},\n",
       " ('DuffGordon', 'Morgan'): {'11755', 'PC/17485'},\n",
       " ('Elias', 'Joseph'): {'2675', '2690'},\n",
       " ('Flynn', 'John'): {'368323', 'PC/17474'},\n",
       " ('Kelly', 'James'): {'330911', '363592'},\n",
       " ('Svensson', 'Johan'): {'347060', '7538'},\n",
       " ('Williams', 'Charles'): {'244373', 'PC/17597'}}"
      ]
     },
     "execution_count": 17,
     "metadata": {},
     "output_type": "execute_result"
    }
   ],
   "source": [
    "{k: set(v[\"Ticket2\"].tolist())\n",
    " for k, v in df[[\"Name2\", \"LName\", \"FName\", \"Ticket2\"]].groupby([\"LName\", \"FName\"])\n",
    " if len(set(v[\"Ticket2\"].tolist())) > 1}"
   ]
  },
  {
   "cell_type": "code",
   "execution_count": 18,
   "metadata": {},
   "outputs": [],
   "source": [
    "cols = [\"PassengerId\", \"Name2\", \"Ticket2\", \"Pclass\", \"Embarked\", \"Age\", \"SibSp\", \"Parch\"]"
   ]
  },
  {
   "cell_type": "code",
   "execution_count": 19,
   "metadata": {},
   "outputs": [
    {
     "data": {
      "text/html": [
       "<div>\n",
       "<style scoped>\n",
       "    .dataframe tbody tr th:only-of-type {\n",
       "        vertical-align: middle;\n",
       "    }\n",
       "\n",
       "    .dataframe tbody tr th {\n",
       "        vertical-align: top;\n",
       "    }\n",
       "\n",
       "    .dataframe thead th {\n",
       "        text-align: right;\n",
       "    }\n",
       "</style>\n",
       "<table border=\"1\" class=\"dataframe\">\n",
       "  <thead>\n",
       "    <tr style=\"text-align: right;\">\n",
       "      <th></th>\n",
       "      <th>PassengerId</th>\n",
       "      <th>Name2</th>\n",
       "      <th>Ticket2</th>\n",
       "      <th>Pclass</th>\n",
       "      <th>Embarked</th>\n",
       "      <th>Age</th>\n",
       "      <th>SibSp</th>\n",
       "      <th>Parch</th>\n",
       "    </tr>\n",
       "  </thead>\n",
       "  <tbody>\n",
       "    <tr>\n",
       "      <th>17</th>\n",
       "      <td>18</td>\n",
       "      <td>Williams, Mr. Charles Eugene</td>\n",
       "      <td>244373</td>\n",
       "      <td>2</td>\n",
       "      <td>S</td>\n",
       "      <td>NaN</td>\n",
       "      <td>0</td>\n",
       "      <td>0</td>\n",
       "    </tr>\n",
       "    <tr>\n",
       "      <th>155</th>\n",
       "      <td>156</td>\n",
       "      <td>Williams, Mr. Charles Duane</td>\n",
       "      <td>PC/17597</td>\n",
       "      <td>1</td>\n",
       "      <td>C</td>\n",
       "      <td>51.0</td>\n",
       "      <td>0</td>\n",
       "      <td>1</td>\n",
       "    </tr>\n",
       "  </tbody>\n",
       "</table>\n",
       "</div>"
      ],
      "text/plain": [
       "     PassengerId                         Name2   Ticket2  Pclass Embarked  \\\n",
       "17            18  Williams, Mr. Charles Eugene    244373       2        S   \n",
       "155          156   Williams, Mr. Charles Duane  PC/17597       1        C   \n",
       "\n",
       "      Age  SibSp  Parch  \n",
       "17    NaN      0      0  \n",
       "155  51.0      0      1  "
      ]
     },
     "execution_count": 19,
     "metadata": {},
     "output_type": "execute_result"
    }
   ],
   "source": [
    "## 조건 필요: 결혼 & 남녀\n",
    "df[(df.LName==\"Connolly\")&(df.FName==\"Kate\")][cols]\n",
    "df[(df.LName==\"Flynn\")&(df.FName==\"John\")][cols]\n",
    "df[(df.LName==\"Kelly\")&(df.FName==\"James\")][cols]\n",
    "df[(df.LName==\"Svensson\")&(df.FName==\"Johan\")][cols]\n",
    "df[(df.LName==\"Williams\")&(df.FName==\"Charles\")][cols]"
   ]
  },
  {
   "cell_type": "code",
   "execution_count": 20,
   "metadata": {},
   "outputs": [
    {
     "data": {
      "text/html": [
       "<div>\n",
       "<style scoped>\n",
       "    .dataframe tbody tr th:only-of-type {\n",
       "        vertical-align: middle;\n",
       "    }\n",
       "\n",
       "    .dataframe tbody tr th {\n",
       "        vertical-align: top;\n",
       "    }\n",
       "\n",
       "    .dataframe thead th {\n",
       "        text-align: right;\n",
       "    }\n",
       "</style>\n",
       "<table border=\"1\" class=\"dataframe\">\n",
       "  <thead>\n",
       "    <tr style=\"text-align: right;\">\n",
       "      <th></th>\n",
       "      <th>PassengerId</th>\n",
       "      <th>Name2</th>\n",
       "      <th>Ticket2</th>\n",
       "      <th>Pclass</th>\n",
       "      <th>Embarked</th>\n",
       "      <th>Age</th>\n",
       "      <th>SibSp</th>\n",
       "      <th>Parch</th>\n",
       "    </tr>\n",
       "  </thead>\n",
       "  <tbody>\n",
       "    <tr>\n",
       "      <th>532</th>\n",
       "      <td>533</td>\n",
       "      <td>Elias, Mr. Joseph Jr</td>\n",
       "      <td>2690</td>\n",
       "      <td>3</td>\n",
       "      <td>C</td>\n",
       "      <td>17.0</td>\n",
       "      <td>1</td>\n",
       "      <td>1</td>\n",
       "    </tr>\n",
       "    <tr>\n",
       "      <th>1228</th>\n",
       "      <td>1229</td>\n",
       "      <td>Elias, Mr. Joseph</td>\n",
       "      <td>2675</td>\n",
       "      <td>3</td>\n",
       "      <td>C</td>\n",
       "      <td>39.0</td>\n",
       "      <td>0</td>\n",
       "      <td>2</td>\n",
       "    </tr>\n",
       "  </tbody>\n",
       "</table>\n",
       "</div>"
      ],
      "text/plain": [
       "      PassengerId                 Name2 Ticket2  Pclass Embarked   Age  SibSp  \\\n",
       "532           533  Elias, Mr. Joseph Jr    2690       3        C  17.0      1   \n",
       "1228         1229     Elias, Mr. Joseph    2675       3        C  39.0      0   \n",
       "\n",
       "      Parch  \n",
       "532       1  \n",
       "1228      2  "
      ]
     },
     "execution_count": 20,
     "metadata": {},
     "output_type": "execute_result"
    }
   ],
   "source": [
    "## 조건 필요: Jr 제외\n",
    "df[(df.LName==\"Davies\")&(df.FName==\"John\")][cols]\n",
    "df[(df.LName==\"Elias\")&(df.FName==\"Joseph\")][cols]"
   ]
  },
  {
   "cell_type": "code",
   "execution_count": 21,
   "metadata": {},
   "outputs": [
    {
     "data": {
      "text/html": [
       "<div>\n",
       "<style scoped>\n",
       "    .dataframe tbody tr th:only-of-type {\n",
       "        vertical-align: middle;\n",
       "    }\n",
       "\n",
       "    .dataframe tbody tr th {\n",
       "        vertical-align: top;\n",
       "    }\n",
       "\n",
       "    .dataframe thead th {\n",
       "        text-align: right;\n",
       "    }\n",
       "</style>\n",
       "<table border=\"1\" class=\"dataframe\">\n",
       "  <thead>\n",
       "    <tr style=\"text-align: right;\">\n",
       "      <th></th>\n",
       "      <th>PassengerId</th>\n",
       "      <th>Name2</th>\n",
       "      <th>Ticket2</th>\n",
       "      <th>Pclass</th>\n",
       "      <th>Embarked</th>\n",
       "      <th>Age</th>\n",
       "      <th>SibSp</th>\n",
       "      <th>Parch</th>\n",
       "    </tr>\n",
       "  </thead>\n",
       "  <tbody>\n",
       "    <tr>\n",
       "      <th>540</th>\n",
       "      <td>541</td>\n",
       "      <td>Crosby, Miss. Harriet R</td>\n",
       "      <td>WEP/5735</td>\n",
       "      <td>1</td>\n",
       "      <td>S</td>\n",
       "      <td>36.0</td>\n",
       "      <td>0</td>\n",
       "      <td>2</td>\n",
       "    </tr>\n",
       "    <tr>\n",
       "      <th>745</th>\n",
       "      <td>746</td>\n",
       "      <td>Crosby, Capt. Edward Gifford</td>\n",
       "      <td>WEP/5735</td>\n",
       "      <td>1</td>\n",
       "      <td>S</td>\n",
       "      <td>70.0</td>\n",
       "      <td>1</td>\n",
       "      <td>1</td>\n",
       "    </tr>\n",
       "    <tr>\n",
       "      <th>1196</th>\n",
       "      <td>1197</td>\n",
       "      <td>Crosby, Mrs. Edward Gifford (Catherine Elizabe...</td>\n",
       "      <td>112901</td>\n",
       "      <td>1</td>\n",
       "      <td>S</td>\n",
       "      <td>64.0</td>\n",
       "      <td>1</td>\n",
       "      <td>1</td>\n",
       "    </tr>\n",
       "  </tbody>\n",
       "</table>\n",
       "</div>"
      ],
      "text/plain": [
       "      PassengerId                                              Name2  \\\n",
       "540           541                            Crosby, Miss. Harriet R   \n",
       "745           746                       Crosby, Capt. Edward Gifford   \n",
       "1196         1197  Crosby, Mrs. Edward Gifford (Catherine Elizabe...   \n",
       "\n",
       "       Ticket2  Pclass Embarked   Age  SibSp  Parch  \n",
       "540   WEP/5735       1        S  36.0      0      2  \n",
       "745   WEP/5735       1        S  70.0      1      1  \n",
       "1196    112901       1        S  64.0      1      1  "
      ]
     },
     "execution_count": 21,
     "metadata": {},
     "output_type": "execute_result"
    }
   ],
   "source": [
    "## 티켓2 수정\n",
    "df[(df.LName==\"Crosby\")&(df.FName==\"Edward\")][cols]\n",
    "df[(df.LName==\"Crosby\")][cols]"
   ]
  },
  {
   "cell_type": "code",
   "execution_count": 22,
   "metadata": {},
   "outputs": [
    {
     "data": {
      "text/html": [
       "<div>\n",
       "<style scoped>\n",
       "    .dataframe tbody tr th:only-of-type {\n",
       "        vertical-align: middle;\n",
       "    }\n",
       "\n",
       "    .dataframe tbody tr th {\n",
       "        vertical-align: top;\n",
       "    }\n",
       "\n",
       "    .dataframe thead th {\n",
       "        text-align: right;\n",
       "    }\n",
       "</style>\n",
       "<table border=\"1\" class=\"dataframe\">\n",
       "  <thead>\n",
       "    <tr style=\"text-align: right;\">\n",
       "      <th></th>\n",
       "      <th>PassengerId</th>\n",
       "      <th>Name2</th>\n",
       "      <th>Ticket2</th>\n",
       "      <th>Pclass</th>\n",
       "      <th>Embarked</th>\n",
       "      <th>Age</th>\n",
       "      <th>SibSp</th>\n",
       "      <th>Parch</th>\n",
       "    </tr>\n",
       "  </thead>\n",
       "  <tbody>\n",
       "    <tr>\n",
       "      <th>309</th>\n",
       "      <td>310</td>\n",
       "      <td>Francatelli, Miss. Laura Mabel</td>\n",
       "      <td>PC/17485</td>\n",
       "      <td>1</td>\n",
       "      <td>C</td>\n",
       "      <td>30.0</td>\n",
       "      <td>0</td>\n",
       "      <td>0</td>\n",
       "    </tr>\n",
       "    <tr>\n",
       "      <th>556</th>\n",
       "      <td>557</td>\n",
       "      <td>Duff Gordon, Mrs. Morgan</td>\n",
       "      <td>11755</td>\n",
       "      <td>1</td>\n",
       "      <td>C</td>\n",
       "      <td>48.0</td>\n",
       "      <td>1</td>\n",
       "      <td>0</td>\n",
       "    </tr>\n",
       "    <tr>\n",
       "      <th>599</th>\n",
       "      <td>600</td>\n",
       "      <td>Duff Gordon, Mr. Morgan</td>\n",
       "      <td>PC/17485</td>\n",
       "      <td>1</td>\n",
       "      <td>C</td>\n",
       "      <td>49.0</td>\n",
       "      <td>1</td>\n",
       "      <td>0</td>\n",
       "    </tr>\n",
       "  </tbody>\n",
       "</table>\n",
       "</div>"
      ],
      "text/plain": [
       "     PassengerId                           Name2   Ticket2  Pclass Embarked  \\\n",
       "309          310  Francatelli, Miss. Laura Mabel  PC/17485       1        C   \n",
       "556          557        Duff Gordon, Mrs. Morgan     11755       1        C   \n",
       "599          600         Duff Gordon, Mr. Morgan  PC/17485       1        C   \n",
       "\n",
       "      Age  SibSp  Parch  \n",
       "309  30.0      0      0  \n",
       "556  48.0      1      0  \n",
       "599  49.0      1      0  "
      ]
     },
     "execution_count": 22,
     "metadata": {},
     "output_type": "execute_result"
    }
   ],
   "source": [
    "df[(df.Ticket2==\"11755\")|(df.Ticket2==\"PC/17485\")][cols]"
   ]
  },
  {
   "cell_type": "code",
   "execution_count": 23,
   "metadata": {},
   "outputs": [
    {
     "data": {
      "text/html": [
       "<div>\n",
       "<style scoped>\n",
       "    .dataframe tbody tr th:only-of-type {\n",
       "        vertical-align: middle;\n",
       "    }\n",
       "\n",
       "    .dataframe tbody tr th {\n",
       "        vertical-align: top;\n",
       "    }\n",
       "\n",
       "    .dataframe thead th {\n",
       "        text-align: right;\n",
       "    }\n",
       "</style>\n",
       "<table border=\"1\" class=\"dataframe\">\n",
       "  <thead>\n",
       "    <tr style=\"text-align: right;\">\n",
       "      <th></th>\n",
       "      <th>PassengerId</th>\n",
       "      <th>Name2</th>\n",
       "      <th>Ticket2</th>\n",
       "      <th>Pclass</th>\n",
       "      <th>Embarked</th>\n",
       "      <th>Age</th>\n",
       "      <th>SibSp</th>\n",
       "      <th>Parch</th>\n",
       "    </tr>\n",
       "  </thead>\n",
       "  <tbody>\n",
       "    <tr>\n",
       "      <th>309</th>\n",
       "      <td>310</td>\n",
       "      <td>Francatelli, Miss. Laura Mabel</td>\n",
       "      <td>PC/17485</td>\n",
       "      <td>1</td>\n",
       "      <td>C</td>\n",
       "      <td>30.0</td>\n",
       "      <td>0</td>\n",
       "      <td>0</td>\n",
       "    </tr>\n",
       "    <tr>\n",
       "      <th>556</th>\n",
       "      <td>557</td>\n",
       "      <td>Duff Gordon, Mrs. Morgan</td>\n",
       "      <td>11755</td>\n",
       "      <td>1</td>\n",
       "      <td>C</td>\n",
       "      <td>48.0</td>\n",
       "      <td>1</td>\n",
       "      <td>0</td>\n",
       "    </tr>\n",
       "    <tr>\n",
       "      <th>599</th>\n",
       "      <td>600</td>\n",
       "      <td>Duff Gordon, Mr. Morgan</td>\n",
       "      <td>PC/17485</td>\n",
       "      <td>1</td>\n",
       "      <td>C</td>\n",
       "      <td>49.0</td>\n",
       "      <td>1</td>\n",
       "      <td>0</td>\n",
       "    </tr>\n",
       "  </tbody>\n",
       "</table>\n",
       "</div>"
      ],
      "text/plain": [
       "     PassengerId                           Name2   Ticket2  Pclass Embarked  \\\n",
       "309          310  Francatelli, Miss. Laura Mabel  PC/17485       1        C   \n",
       "556          557        Duff Gordon, Mrs. Morgan     11755       1        C   \n",
       "599          600         Duff Gordon, Mr. Morgan  PC/17485       1        C   \n",
       "\n",
       "      Age  SibSp  Parch  \n",
       "309  30.0      0      0  \n",
       "556  48.0      1      0  \n",
       "599  49.0      1      0  "
      ]
     },
     "execution_count": 23,
     "metadata": {},
     "output_type": "execute_result"
    }
   ],
   "source": [
    "## id 600번 티켓2 수정\n",
    "df[(df.LName==\"DuffGordon\")&(df.FName==\"Morgan\")][cols]\n",
    "df[(df.Ticket2==\"11755\")|(df.Ticket2==\"PC/17485\")][cols]"
   ]
  },
  {
   "cell_type": "code",
   "execution_count": 24,
   "metadata": {},
   "outputs": [],
   "source": [
    "#######################################################################"
   ]
  },
  {
   "cell_type": "code",
   "execution_count": 25,
   "metadata": {},
   "outputs": [],
   "source": [
    "## Spouse\n",
    "sp = {k: v[\"PassengerId\"].tolist() for k, v in df[\n",
    "    (df[\"SibSp\"] > 0) &\n",
    "    (df[\"Title\"].apply(lambda x: x in [\"Mr\", \"Mrs\"])) &\n",
    "    (df[\"Name2\"].apply(lambda x: \" Jr\" not in x))].groupby([\"LName\", \"FName\", \"Ticket2\"])\n",
    "      if (len(v[\"PassengerId\"]) > 1) &\n",
    "      (sum([df[df[\"PassengerId\"]==x][\"Sex_female\"].values[0] for x in v[\"PassengerId\"].tolist()])==1 )}"
   ]
  },
  {
   "cell_type": "code",
   "execution_count": 26,
   "metadata": {},
   "outputs": [],
   "source": [
    "## [Mr, Mrs] 순서로 정렬\n",
    "## 코드 합쳐서 나이까지 한 번에\n",
    "sp = {(k if df[df[\"PassengerId\"]==v[0]][\"Sex_female\"].values[0]==0 else k):\n",
    "      (v if df[df[\"PassengerId\"]==v[0]][\"Sex_female\"].values[0]==0 else list(reversed(v)))\n",
    "      for k, v in sp.items()}\n",
    "\n",
    "sp = {k: [(v[0], df[df[\"PassengerId\"]==v[0]][\"Age\"].values[0]),\n",
    "          (v[1], df[df[\"PassengerId\"]==v[1]][\"Age\"].values[0])]\n",
    "      for k, v in sp.items()}"
   ]
  },
  {
   "cell_type": "code",
   "execution_count": 27,
   "metadata": {},
   "outputs": [
    {
     "data": {
      "text/plain": [
       "(('Abelson', 'Samuel', 'PPP/3381'), [(309, 30.0), (875, 28.0)])"
      ]
     },
     "execution_count": 27,
     "metadata": {},
     "output_type": "execute_result"
    }
   ],
   "source": [
    "list(sp.items())[0]"
   ]
  },
  {
   "cell_type": "code",
   "execution_count": 28,
   "metadata": {},
   "outputs": [
    {
     "data": {
      "text/plain": [
       "(array([ 1.,  0.,  1.,  0.,  0.,  0.,  3.,  8., 38., 18., 13.,  3.,  1.]),\n",
       " array([-40, -35, -30, -25, -20, -15, -10,  -5,   0,   5,  10,  15,  20,\n",
       "         25]),\n",
       " <a list of 13 Patch objects>)"
      ]
     },
     "execution_count": 28,
     "metadata": {},
     "output_type": "execute_result"
    },
    {
     "data": {
      "image/png": "[encoded data removed]",
      "text/plain": [
       "<Figure size 432x288 with 1 Axes>"
      ]
     },
     "metadata": {
      "needs_background": "light"
     },
     "output_type": "display_data"
    }
   ],
   "source": [
    "## 배우자 나이 차이\n",
    "diff = [v[0][1] - v[1][1] for v in sp.values()]\n",
    "plt.hist(diff, bins=range(-40, 30, 5))"
   ]
  },
  {
   "cell_type": "code",
   "execution_count": 29,
   "metadata": {},
   "outputs": [
    {
     "data": {
      "text/plain": [
       "'median: 4.0'"
      ]
     },
     "execution_count": 29,
     "metadata": {},
     "output_type": "execute_result"
    }
   ],
   "source": [
    "\"median: {}\".format(round(median([v for v in diff if np.isnan(v)==False]), 3))"
   ]
  },
  {
   "cell_type": "code",
   "execution_count": 30,
   "metadata": {},
   "outputs": [],
   "source": [
    "## 중앙값 활용해서 결측값 처리\n",
    "df[\"Age2\"] = df[\"Age\"].copy()\n",
    "\n",
    "for v in sp.values():\n",
    "    if (np.isnan(v[0][1])==True) & (np.isnan(v[1][1])==False):\n",
    "        df.loc[df[\"PassengerId\"]==v[0][0], \"Age2\"] = v[1][1] + 3.5\n",
    "    elif (np.isnan(v[0][1])==False) & (np.isnan(v[1][1])==True):\n",
    "        df.loc[df[\"PassengerId\"]==v[1][0], \"Age2\"] = v[0][1] - 3.5"
   ]
  },
  {
   "cell_type": "code",
   "execution_count": null,
   "metadata": {},
   "outputs": [],
   "source": []
  }
 ],
 "metadata": {
  "kernelspec": {
   "display_name": "Python 3",
   "language": "python",
   "name": "python3"
  },
  "language_info": {
   "codemirror_mode": {
    "name": "ipython",
    "version": 3
   },
   "file_extension": ".py",
   "mimetype": "text/x-python",
   "name": "python",
   "nbconvert_exporter": "python",
   "pygments_lexer": "ipython3",
   "version": "3.7.3"
  }
 },
 "nbformat": 4,
 "nbformat_minor": 2
}
