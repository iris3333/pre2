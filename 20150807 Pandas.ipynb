{
 "cells": [
  {
   "cell_type": "markdown",
   "metadata": {},
   "source": [
    "# Data Structures: Pandas Dataframe\n",
    "\n",
    "Two dimensions, each column with its own type."
   ]
  },
  {
   "cell_type": "code",
   "execution_count": 1,
   "metadata": {
    "collapsed": true
   },
   "outputs": [],
   "source": [
    "import pandas as pd"
   ]
  },
  {
   "cell_type": "markdown",
   "metadata": {},
   "source": [
    "### 1.1. Create Dataframes"
   ]
  },
  {
   "cell_type": "code",
   "execution_count": 2,
   "metadata": {},
   "outputs": [
    {
     "name": "stdout",
     "output_type": "stream",
     "text": [
      "   A  B\n",
      "x  1  2\n",
      "y  2  4\n",
      "z  4  8\n"
     ]
    }
   ],
   "source": [
    "df1 = pd.DataFrame([[1, 2], [2, 4], [4, 8]], index=[\"x\", \"y\", \"z\"], columns=[\"A\", \"B\"])\n",
    "print(df1)"
   ]
  },
  {
   "cell_type": "code",
   "execution_count": 3,
   "metadata": {},
   "outputs": [
    {
     "name": "stdout",
     "output_type": "stream",
     "text": [
      "(3, 2)\n",
      "Index(['x', 'y', 'z'], dtype='object')\n",
      "Index(['A', 'B'], dtype='object')\n"
     ]
    }
   ],
   "source": [
    "print(df1.shape)\n",
    "print(df1.index)\n",
    "print(df1.columns)"
   ]
  },
  {
   "cell_type": "code",
   "execution_count": 4,
   "metadata": {},
   "outputs": [
    {
     "name": "stdout",
     "output_type": "stream",
     "text": [
      "   a  b\n",
      "x  1  2\n",
      "y  2  4\n",
      "z  4  8\n"
     ]
    }
   ],
   "source": [
    "print(df1.rename(columns={\"A\":\"a\", \"B\":\"b\"}))"
   ]
  },
  {
   "cell_type": "markdown",
   "metadata": {},
   "source": [
    "### 1.2. Summary of Dataframes"
   ]
  },
  {
   "cell_type": "code",
   "execution_count": 5,
   "metadata": {},
   "outputs": [
    {
     "name": "stdout",
     "output_type": "stream",
     "text": [
      "   A  B\n",
      "x  1  2\n",
      "y  2  4\n",
      "z  4  8\n"
     ]
    }
   ],
   "source": [
    "df2 = pd.DataFrame([[1, 2], [2, 4], [4, 8]], index=[\"x\", \"y\", \"z\"], columns=[\"A\", \"B\"])\n",
    "print(df2)"
   ]
  },
  {
   "cell_type": "code",
   "execution_count": 6,
   "metadata": {},
   "outputs": [
    {
     "name": "stdout",
     "output_type": "stream",
     "text": [
      "[[1 2]\n",
      " [2 4]\n",
      " [4 8]]\n"
     ]
    }
   ],
   "source": [
    "print(df2.values)"
   ]
  },
  {
   "cell_type": "code",
   "execution_count": 7,
   "metadata": {},
   "outputs": [
    {
     "name": "stdout",
     "output_type": "stream",
     "text": [
      "   A  B\n",
      "x  1  2\n",
      "y  2  4\n"
     ]
    }
   ],
   "source": [
    "print(df2.head(2))"
   ]
  },
  {
   "cell_type": "code",
   "execution_count": 8,
   "metadata": {},
   "outputs": [
    {
     "name": "stdout",
     "output_type": "stream",
     "text": [
      "   A  B\n",
      "y  2  4\n",
      "z  4  8\n"
     ]
    }
   ],
   "source": [
    "print(df2.tail(2))"
   ]
  },
  {
   "cell_type": "code",
   "execution_count": 9,
   "metadata": {},
   "outputs": [
    {
     "name": "stdout",
     "output_type": "stream",
     "text": [
      "A    3\n",
      "B    3\n",
      "dtype: int64\n"
     ]
    }
   ],
   "source": [
    "print(df2.count(axis=0, numeric_only=True))"
   ]
  },
  {
   "cell_type": "code",
   "execution_count": 10,
   "metadata": {},
   "outputs": [
    {
     "name": "stdout",
     "output_type": "stream",
     "text": [
      "x    2\n",
      "y    2\n",
      "z    2\n",
      "dtype: int64\n"
     ]
    }
   ],
   "source": [
    "print(df2.count(axis=1, numeric_only=True))"
   ]
  },
  {
   "cell_type": "code",
   "execution_count": 11,
   "metadata": {},
   "outputs": [
    {
     "name": "stdout",
     "output_type": "stream",
     "text": [
      "              A         B\n",
      "count  3.000000  3.000000\n",
      "mean   2.333333  4.666667\n",
      "std    1.527525  3.055050\n",
      "min    1.000000  2.000000\n",
      "25%    1.500000  3.000000\n",
      "50%    2.000000  4.000000\n",
      "75%    3.000000  6.000000\n",
      "max    4.000000  8.000000\n"
     ]
    }
   ],
   "source": [
    "print(df2.describe())"
   ]
  },
  {
   "cell_type": "markdown",
   "metadata": {},
   "source": [
    "### 2.1. Subset by Indexing"
   ]
  },
  {
   "cell_type": "code",
   "execution_count": 12,
   "metadata": {},
   "outputs": [
    {
     "name": "stdout",
     "output_type": "stream",
     "text": [
      "   A  B\n",
      "x  1  2\n",
      "y  2  4\n",
      "z  4  8\n"
     ]
    }
   ],
   "source": [
    "df3 = pd.DataFrame([[1, 2], [2, 4], [4, 8]], index=[\"x\", \"y\", \"z\"], columns=[\"A\", \"B\"])\n",
    "print(df3)"
   ]
  },
  {
   "cell_type": "code",
   "execution_count": 13,
   "metadata": {},
   "outputs": [
    {
     "name": "stdout",
     "output_type": "stream",
     "text": [
      "   A  B\n",
      "x  1  2\n",
      "y  2  4\n"
     ]
    }
   ],
   "source": [
    "## By Label\n",
    "print(df3.loc[[\"x\", \"y\"], [\"A\", \"B\"]])"
   ]
  },
  {
   "cell_type": "code",
   "execution_count": 14,
   "metadata": {},
   "outputs": [
    {
     "name": "stdout",
     "output_type": "stream",
     "text": [
      "   A  B\n",
      "x  1  2\n",
      "y  2  4\n"
     ]
    }
   ],
   "source": [
    "## By Position\n",
    "print(df3.iloc[[0, 1], [0, 1]])"
   ]
  },
  {
   "cell_type": "markdown",
   "metadata": {},
   "source": [
    "### 2.2. Subset by Conditions"
   ]
  },
  {
   "cell_type": "code",
   "execution_count": 15,
   "metadata": {},
   "outputs": [
    {
     "name": "stdout",
     "output_type": "stream",
     "text": [
      "   A  B\n",
      "x  1  2\n",
      "y  2  4\n",
      "z  4  8\n"
     ]
    }
   ],
   "source": [
    "df4 = pd.DataFrame([[1, 2], [2, 4], [4, 8]], index=[\"x\", \"y\", \"z\"], columns=[\"A\", \"B\"])\n",
    "print(df4)"
   ]
  },
  {
   "cell_type": "code",
   "execution_count": 16,
   "metadata": {},
   "outputs": [
    {
     "name": "stdout",
     "output_type": "stream",
     "text": [
      "   A  B\n",
      "z  4  8\n"
     ]
    }
   ],
   "source": [
    "print(df4[df4[\"A\"] > 2])"
   ]
  },
  {
   "cell_type": "code",
   "execution_count": 17,
   "metadata": {},
   "outputs": [
    {
     "name": "stdout",
     "output_type": "stream",
     "text": [
      "   A  B\n",
      "z  4  8\n"
     ]
    }
   ],
   "source": [
    "print(df4.query(\"A > 2\"))"
   ]
  },
  {
   "cell_type": "code",
   "execution_count": 18,
   "metadata": {},
   "outputs": [
    {
     "name": "stdout",
     "output_type": "stream",
     "text": [
      "Index of Minimum A: x\n",
      "Index of Maximum A: z\n"
     ]
    }
   ],
   "source": [
    "print(\"Index of Minimum A:\", df4[\"A\"].idxmin())\n",
    "print(\"Index of Maximum A:\", df4[\"A\"].idxmax())"
   ]
  },
  {
   "cell_type": "markdown",
   "metadata": {},
   "source": [
    "### 3.1. Insert and Delete"
   ]
  },
  {
   "cell_type": "code",
   "execution_count": 19,
   "metadata": {},
   "outputs": [
    {
     "name": "stdout",
     "output_type": "stream",
     "text": [
      "   A  B\n",
      "x  1  2\n",
      "y  2  4\n",
      "z  4  8\n"
     ]
    }
   ],
   "source": [
    "df5 = pd.DataFrame([[1, 2], [2, 4], [4, 8]], index=[\"x\", \"y\", \"z\"], columns=[\"A\", \"B\"])\n",
    "print(df5)"
   ]
  },
  {
   "cell_type": "code",
   "execution_count": 20,
   "metadata": {},
   "outputs": [
    {
     "name": "stdout",
     "output_type": "stream",
     "text": [
      "   A  B\n",
      "x  1  2\n",
      "y  2  4\n",
      "z  4  8\n",
      "#  0  0\n"
     ]
    }
   ],
   "source": [
    "print(pd.concat([df5, pd.DataFrame([[0, 0]], index=[\"#\"], columns=[\"A\", \"B\"])],\n",
    "                axis=0, ignore_index=False))"
   ]
  },
  {
   "cell_type": "code",
   "execution_count": 21,
   "metadata": {},
   "outputs": [
    {
     "name": "stdout",
     "output_type": "stream",
     "text": [
      "   A  B  #\n",
      "x  1  2  0\n",
      "y  2  4  0\n",
      "z  4  8  0\n"
     ]
    }
   ],
   "source": [
    "print(pd.concat([df5, pd.DataFrame([[0], [0], [0]], index=[\"x\", \"y\", \"z\"], columns=[\"#\"])],\n",
    "                axis=1, ignore_index=False))"
   ]
  },
  {
   "cell_type": "code",
   "execution_count": 22,
   "metadata": {},
   "outputs": [
    {
     "name": "stdout",
     "output_type": "stream",
     "text": [
      "   A  B\n",
      "y  2  4\n",
      "z  4  8\n"
     ]
    }
   ],
   "source": [
    "print(df5.drop([\"x\"], axis=0))"
   ]
  },
  {
   "cell_type": "code",
   "execution_count": 23,
   "metadata": {},
   "outputs": [
    {
     "name": "stdout",
     "output_type": "stream",
     "text": [
      "   B\n",
      "x  2\n",
      "y  4\n",
      "z  8\n"
     ]
    }
   ],
   "source": [
    "print(df5.drop([\"A\"], axis=1))"
   ]
  },
  {
   "cell_type": "markdown",
   "metadata": {},
   "source": [
    "### 3.2. Merge Dataframes"
   ]
  },
  {
   "cell_type": "code",
   "execution_count": 24,
   "metadata": {},
   "outputs": [
    {
     "name": "stdout",
     "output_type": "stream",
     "text": [
      "   #  LFT\n",
      "0  X    1\n",
      "1  Y    2\n",
      "   #  RGT\n",
      "1  Y    3\n",
      "2  Z    4\n"
     ]
    }
   ],
   "source": [
    "df_lft = pd.DataFrame({\"#\":[\"X\", \"Y\"], \"LFT\":[1, 2]}); df_lft.index = [0, 1]; print(df_lft)\n",
    "df_rgt = pd.DataFrame({\"#\":[\"Y\", \"Z\"], \"RGT\":[3, 4]}); df_rgt.index = [1, 2]; print(df_rgt)"
   ]
  },
  {
   "cell_type": "code",
   "execution_count": 25,
   "metadata": {},
   "outputs": [
    {
     "name": "stdout",
     "output_type": "stream",
     "text": [
      "    #L  LFT   #R  RGT\n",
      "0    X  1.0  NaN  NaN\n",
      "1    Y  2.0    Y  3.0\n",
      "2  NaN  NaN    Z  4.0\n"
     ]
    }
   ],
   "source": [
    "## By Index\n",
    "print(df_lft.merge(df_rgt, left_index=True, right_index=True, suffixes=[\"L\", \"R\"], how=\"outer\"))"
   ]
  },
  {
   "cell_type": "code",
   "execution_count": 26,
   "metadata": {},
   "outputs": [
    {
     "name": "stdout",
     "output_type": "stream",
     "text": [
      "   #  LFT  RGT\n",
      "0  X  1.0  NaN\n",
      "1  Y  2.0  3.0\n",
      "2  Z  NaN  4.0\n"
     ]
    }
   ],
   "source": [
    "## By Columns (Index Auto-Reset)\n",
    "print(df_lft.merge(df_rgt, left_on=[\"#\"], right_on=[\"#\"], how=\"outer\"))"
   ]
  },
  {
   "cell_type": "markdown",
   "metadata": {},
   "source": [
    "### 3.3. Data Handling"
   ]
  },
  {
   "cell_type": "code",
   "execution_count": 27,
   "metadata": {},
   "outputs": [
    {
     "name": "stdout",
     "output_type": "stream",
     "text": [
      "   A    B\n",
      "x  1  NaN\n",
      "y  1  1.0\n",
      "z  1  1.0\n"
     ]
    }
   ],
   "source": [
    "print(pd.DataFrame([[0, None], [0, 0], [0, 0]],\n",
    "                   index=[\"x\", \"y\", \"z\"], columns=[\"A\", \"B\"]).replace(0, 1))"
   ]
  },
  {
   "cell_type": "code",
   "execution_count": 28,
   "metadata": {},
   "outputs": [
    {
     "name": "stdout",
     "output_type": "stream",
     "text": [
      "   A    B\n",
      "x  0  NaN\n",
      "y  0  0.0\n"
     ]
    }
   ],
   "source": [
    "print(pd.DataFrame([[0, None], [0, 0], [0, 0]],\n",
    "                   index=[\"x\", \"y\", \"z\"], columns=[\"A\", \"B\"]).drop_duplicates())"
   ]
  },
  {
   "cell_type": "code",
   "execution_count": 29,
   "metadata": {},
   "outputs": [
    {
     "name": "stdout",
     "output_type": "stream",
     "text": [
      "   A    B\n",
      "y  0  0.0\n",
      "z  0  0.0\n"
     ]
    }
   ],
   "source": [
    "print(pd.DataFrame([[0, None], [0, 0], [0, 0]],\n",
    "                   index=[\"x\", \"y\", \"z\"], columns=[\"A\", \"B\"]).dropna())"
   ]
  },
  {
   "cell_type": "code",
   "execution_count": 30,
   "metadata": {},
   "outputs": [
    {
     "name": "stdout",
     "output_type": "stream",
     "text": [
      "   A    B\n",
      "x  0  0.0\n",
      "y  0  0.0\n",
      "z  0  0.0\n"
     ]
    }
   ],
   "source": [
    "print(pd.DataFrame([[0, None], [0, 0], [0, 0]],\n",
    "                   index=[\"x\", \"y\", \"z\"], columns=[\"A\", \"B\"]).fillna(0))"
   ]
  },
  {
   "cell_type": "markdown",
   "metadata": {},
   "source": [
    "### 4.1. Sort"
   ]
  },
  {
   "cell_type": "code",
   "execution_count": 31,
   "metadata": {},
   "outputs": [
    {
     "name": "stdout",
     "output_type": "stream",
     "text": [
      "   A  B\n",
      "x  1  2\n",
      "y  2  4\n",
      "z  4  8\n"
     ]
    }
   ],
   "source": [
    "df6 = pd.DataFrame([[1, 2], [2, 4], [4, 8]], index=[\"x\", \"y\", \"z\"], columns=[\"A\", \"B\"])\n",
    "print(df6)"
   ]
  },
  {
   "cell_type": "code",
   "execution_count": 32,
   "metadata": {},
   "outputs": [
    {
     "name": "stdout",
     "output_type": "stream",
     "text": [
      "   A  B\n",
      "z  4  8\n",
      "y  2  4\n",
      "x  1  2\n"
     ]
    }
   ],
   "source": [
    "print(df6.sort_index(axis=0, ascending=False))"
   ]
  },
  {
   "cell_type": "code",
   "execution_count": 33,
   "metadata": {},
   "outputs": [
    {
     "name": "stdout",
     "output_type": "stream",
     "text": [
      "   A  B\n",
      "z  4  8\n",
      "y  2  4\n",
      "x  1  2\n"
     ]
    }
   ],
   "source": [
    "print(df6.sort_values(by=\"A\", ascending=False))"
   ]
  },
  {
   "cell_type": "markdown",
   "metadata": {},
   "source": [
    "### 4.2. Apply"
   ]
  },
  {
   "cell_type": "code",
   "execution_count": 34,
   "metadata": {},
   "outputs": [
    {
     "name": "stdout",
     "output_type": "stream",
     "text": [
      "   A  B\n",
      "x  1  2\n",
      "y  2  4\n",
      "z  4  8\n"
     ]
    }
   ],
   "source": [
    "df7 = pd.DataFrame([[1, 2], [2, 4], [4, 8]], index=[\"x\", \"y\", \"z\"], columns=[\"A\", \"B\"])\n",
    "print(df7)"
   ]
  },
  {
   "cell_type": "code",
   "execution_count": 35,
   "metadata": {},
   "outputs": [
    {
     "name": "stdout",
     "output_type": "stream",
     "text": [
      "A    3\n",
      "B    6\n",
      "dtype: int64\n"
     ]
    }
   ],
   "source": [
    "print(df7.apply(lambda col: col.max()-col.min(), axis=0))"
   ]
  },
  {
   "cell_type": "code",
   "execution_count": 36,
   "metadata": {},
   "outputs": [
    {
     "name": "stdout",
     "output_type": "stream",
     "text": [
      "x    1\n",
      "y    2\n",
      "z    4\n",
      "dtype: int64\n"
     ]
    }
   ],
   "source": [
    "print(df7.apply(lambda ix: ix.max()-ix.min(), axis=1))"
   ]
  },
  {
   "cell_type": "markdown",
   "metadata": {},
   "source": [
    "### 4.3. Group"
   ]
  },
  {
   "cell_type": "code",
   "execution_count": 37,
   "metadata": {},
   "outputs": [
    {
     "name": "stdout",
     "output_type": "stream",
     "text": [
      "   #  A  B\n",
      "0  1  T  T\n",
      "1  2  F  T\n",
      "2  3  T  F\n",
      "3  4  F  T\n",
      "4  5  T  T\n",
      "5  6  F  F\n"
     ]
    }
   ],
   "source": [
    "df8 = pd.DataFrame({\"A\":[\"T\", \"F\"]*3, \"B\":[\"T\", \"T\", \"F\"]*2, \"#\":[1, 2, 3, 4, 5, 6]})\n",
    "print(df8)"
   ]
  },
  {
   "cell_type": "code",
   "execution_count": 38,
   "metadata": {},
   "outputs": [
    {
     "name": "stdout",
     "output_type": "stream",
     "text": [
      "     #\n",
      "A B   \n",
      "F F  6\n",
      "  T  6\n",
      "T F  3\n",
      "  T  6\n"
     ]
    }
   ],
   "source": [
    "print(df8.groupby([\"A\", \"B\"]).sum())"
   ]
  },
  {
   "cell_type": "code",
   "execution_count": 39,
   "metadata": {},
   "outputs": [
    {
     "name": "stdout",
     "output_type": "stream",
     "text": [
      "B  F  T\n",
      "A      \n",
      "F  6  6\n",
      "T  3  6\n"
     ]
    }
   ],
   "source": [
    "print(pd.pivot_table(df8, values=\"#\", index=[\"A\"], columns=[\"B\"], aggfunc=\"sum\"))"
   ]
  }
 ],
 "metadata": {
  "kernelspec": {
   "display_name": "Python 3",
   "language": "python",
   "name": "python3"
  },
  "language_info": {
   "codemirror_mode": {
    "name": "ipython",
    "version": 3
   },
   "file_extension": ".py",
   "mimetype": "text/x-python",
   "name": "python",
   "nbconvert_exporter": "python",
   "pygments_lexer": "ipython3",
   "version": "3.6.5"
  }
 },
 "nbformat": 4,
 "nbformat_minor": 2
}
