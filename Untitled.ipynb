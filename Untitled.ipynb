{
 "cells": [
  {
   "cell_type": "code",
   "execution_count": null,
   "id": "norman-separate",
   "metadata": {},
   "outputs": [],
   "source": [
    "# <리스트>\n",
    "# 순서대로 저장하는 시퀀스, 가변, 입력 순서가 유지, 동적 배열\n",
    "# 다른 타입의 원소 삽입 가능"
   ]
  },
  {
   "cell_type": "code",
   "execution_count": null,
   "id": "about-married",
   "metadata": {},
   "outputs": [],
   "source": [
    "len(lst) # O(1)\n",
    "lst[i] # O(1)\n",
    "lst[i:j] # O(k)\n",
    "elem in lst # O(n)\n",
    "lst.count(elem) # O(n)\n",
    "lst.index(elem) # O(n)\n",
    "lst.append(elem) # O(1)\n",
    "\n",
    "lst.pop() # O(1) 인덱스로 삭제, 맨뒤 원소, 삭제될 값을 리턴하고 삭제가 진행된다\n",
    "lst.pop(0) # O(n) 인덱스로 삭제, 맨앞 원소\n",
    "del lst[i] # O(n) 인덱스로 삭제, i에 따라 다르고 최악의 경우 O(n)\n",
    "lst.remove(elem) # 값으로 삭제\n",
    "\n",
    "lst.sort() #O(n log n)\n",
    "min(lst), max(lst) #O(n)\n",
    "lst.reverse() #O(n)\n",
    "lst.insert(i, elem)"
   ]
  },
  {
   "cell_type": "code",
   "execution_count": null,
   "id": "educational-birthday",
   "metadata": {},
   "outputs": [],
   "source": [
    "# 인덱스 에러\n",
    "try:\n",
    "    print(a[9])\n",
    "except IndexError:\n",
    "     print('존재하지 않는 인덱스')"
   ]
  },
  {
   "cell_type": "code",
   "execution_count": null,
   "id": "scenic-antique",
   "metadata": {},
   "outputs": [],
   "source": [
    "# <딕셔너리>\n",
    "# 키: 값, 3.7+ 에서는 입력 순서가 유지되며, 내부적으로는 해쉬 테이블로 구현\n",
    "# 불변 객체를 키로 사용 가능, 입력과 조회 모두 O(1)에 가능"
   ]
  },
  {
   "cell_type": "code",
   "execution_count": null,
   "id": "unlikely-angel",
   "metadata": {},
   "outputs": [],
   "source": [
    "len(dct) # O(1)\n",
    "dct[key] # O(1)\n",
    "dct[key] = val # O(1)\n",
    "key in dct # O(1) 키가 존재하는지 확인\n",
    "del dct['key']"
   ]
  },
  {
   "cell_type": "code",
   "execution_count": null,
   "id": "determined-mainstream",
   "metadata": {},
   "outputs": [],
   "source": [
    "# 키 에러 - 삭제할 때에도 키가 있는지 확인하고 삭제해야 에러 발생 안함\n",
    "try:\n",
    "    print(dct['key'])\n",
    "except KeyError:\n",
    "    print('존재하지 않는 키')"
   ]
  },
  {
   "cell_type": "code",
   "execution_count": null,
   "id": "hispanic-terry",
   "metadata": {},
   "outputs": [],
   "source": [
    "# 추가 모듈\n",
    "# collections.OrderedDict() - 입력 순서 유지\n",
    "# collections.defaultdict() - 조회시 디폴트 값을 생성해 키 오류 방지\n",
    "# collections.Counter() - 키=요소, 값=개수"
   ]
  },
  {
   "cell_type": "code",
   "execution_count": 2,
   "id": "parliamentary-novel",
   "metadata": {},
   "outputs": [
    {
     "name": "stdout",
     "output_type": "stream",
     "text": [
      "defaultdict(<class 'int'>, {'A': 5, 'B': 4, 'C': 1})\n"
     ]
    }
   ],
   "source": [
    "import collections\n",
    "dct = collections.defaultdict(int)\n",
    "dct['A'] = 5\n",
    "dct['B'] = 4\n",
    "\n",
    "dct['C'] += 1 # C라는 키는 없었으나 디폴트 값인 0을 자동으로 생성 후 계산\n",
    "print(dct) # collections.defaultdict 클래스를 갖는다"
   ]
  },
  {
   "cell_type": "code",
   "execution_count": null,
   "id": "editorial-globe",
   "metadata": {},
   "outputs": [],
   "source": [
    "# collections.Counter\n",
    "# 딕셔너리를 한 번 더 wrapping한 collections.Counter 클래스를 갖는다\n",
    "# dct = collections.Counter(lst)\n",
    "# dct.most_common(개수) - 빈도 높은 2개 요소 추출"
   ]
  },
  {
   "cell_type": "code",
   "execution_count": 4,
   "id": "accessible-zambia",
   "metadata": {},
   "outputs": [
    {
     "name": "stdout",
     "output_type": "stream",
     "text": [
      "<class 'list'>\n",
      "<class 'tuple'>\n",
      "<class 'dict'>\n",
      "<class 'set'>\n"
     ]
    }
   ],
   "source": [
    "print(type([]))\n",
    "print(type(()))\n",
    "print(type({}))\n",
    "print(type({1})) # 키 없으면 집합 자료형으로 간주"
   ]
  },
  {
   "cell_type": "code",
   "execution_count": null,
   "id": "overhead-header",
   "metadata": {},
   "outputs": [],
   "source": []
  }
 ],
 "metadata": {
  "kernelspec": {
   "display_name": "Python 3",
   "language": "python",
   "name": "python3"
  },
  "language_info": {
   "codemirror_mode": {
    "name": "ipython",
    "version": 3
   },
   "file_extension": ".py",
   "mimetype": "text/x-python",
   "name": "python",
   "nbconvert_exporter": "python",
   "pygments_lexer": "ipython3",
   "version": "3.8.5"
  }
 },
 "nbformat": 4,
 "nbformat_minor": 5
}
