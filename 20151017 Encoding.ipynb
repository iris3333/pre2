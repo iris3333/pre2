{
 "cells": [
  {
   "cell_type": "markdown",
   "metadata": {},
   "source": [
    "# Encoding"
   ]
  },
  {
   "cell_type": "code",
   "execution_count": 1,
   "metadata": {
    "collapsed": true
   },
   "outputs": [],
   "source": [
    "import numpy as np\n",
    "import pandas as pd\n",
    "import matplotlib.pyplot as plt"
   ]
  },
  {
   "cell_type": "code",
   "execution_count": 2,
   "metadata": {
    "collapsed": true
   },
   "outputs": [],
   "source": [
    "from sklearn.preprocessing import label_binarize"
   ]
  },
  {
   "cell_type": "code",
   "execution_count": 3,
   "metadata": {},
   "outputs": [
    {
     "name": "stdout",
     "output_type": "stream",
     "text": [
      "Sepal_Length    float64\n",
      "Sepal_Width     float64\n",
      "Petal_Length    float64\n",
      "Petal_Width     float64\n",
      "Species          object\n",
      "dtype: object\n"
     ]
    }
   ],
   "source": [
    "iris = pd.read_csv(\"Iris.csv\")\n",
    "print(iris.dtypes)"
   ]
  },
  {
   "cell_type": "markdown",
   "metadata": {},
   "source": [
    "### 1. Encoding Features"
   ]
  },
  {
   "cell_type": "code",
   "execution_count": 4,
   "metadata": {
    "scrolled": true
   },
   "outputs": [
    {
     "name": "stdout",
     "output_type": "stream",
     "text": [
      "Sepal_Length           float64\n",
      "Sepal_Width            float64\n",
      "Petal_Length           float64\n",
      "Petal_Width            float64\n",
      "Species_Setosa           uint8\n",
      "Species_Versicolour      uint8\n",
      "Species_Virginica        uint8\n",
      "dtype: object\n"
     ]
    }
   ],
   "source": [
    "print(pd.get_dummies(iris, columns=[\"Species\"], prefix=[\"Species\"]).dtypes)"
   ]
  },
  {
   "cell_type": "markdown",
   "metadata": {},
   "source": [
    "### 2. Encoding Target\n",
    "Multiclass classification makes the assumption that each sample is assigned to the only one label.<br>\n",
    "All scikit-learn classifiers are capable of multiclass classification\n",
    "with either string or numeric output labels."
   ]
  },
  {
   "cell_type": "code",
   "execution_count": 5,
   "metadata": {},
   "outputs": [
    {
     "name": "stdout",
     "output_type": "stream",
     "text": [
      "         Species  Species\n",
      "0         Setosa        0\n",
      "50   Versicolour        1\n",
      "100    Virginica        2\n"
     ]
    }
   ],
   "source": [
    "targets = {\"Setosa\":0, \"Versicolour\":1, \"Virginica\":2}\n",
    "print(pd.concat([iris.loc[[0, 50, 100], \"Species\"],\n",
    "                 iris.loc[[0, 50, 100], \"Species\"].map(targets)], axis=1))"
   ]
  },
  {
   "cell_type": "code",
   "execution_count": 6,
   "metadata": {},
   "outputs": [
    {
     "name": "stdout",
     "output_type": "stream",
     "text": [
      "[('Setosa', array([1, 0, 0])), ('Versicolour', array([0, 1, 0])), ('Virginica', array([0, 0, 1]))]\n"
     ]
    }
   ],
   "source": [
    "targets = [\"Setosa\", \"Versicolour\", \"Virginica\"]\n",
    "print(list(zip(iris.loc[[0, 50, 100], \"Species\"],\n",
    "               label_binarize(iris[\"Species\"], classes=targets)[[0, 50, 100]])))"
   ]
  },
  {
   "cell_type": "markdown",
   "metadata": {},
   "source": [
    "### 3. Binarization"
   ]
  },
  {
   "cell_type": "code",
   "execution_count": 7,
   "metadata": {},
   "outputs": [
    {
     "name": "stdout",
     "output_type": "stream",
     "text": [
      "0    32\n",
      "1    41\n",
      "2    42\n",
      "3    24\n",
      "4    11\n",
      "Name: Sepal_Length, dtype: int64\n"
     ]
    }
   ],
   "source": [
    "print(pd.cut(iris[\"Sepal_Length\"],\n",
    "             bins=5, labels=list(range(0, 5)), retbins=False).value_counts(sort=False))"
   ]
  }
 ],
 "metadata": {
  "kernelspec": {
   "display_name": "Python 3",
   "language": "python",
   "name": "python3"
  },
  "language_info": {
   "codemirror_mode": {
    "name": "ipython",
    "version": 3
   },
   "file_extension": ".py",
   "mimetype": "text/x-python",
   "name": "python",
   "nbconvert_exporter": "python",
   "pygments_lexer": "ipython3",
   "version": "3.6.1"
  }
 },
 "nbformat": 4,
 "nbformat_minor": 2
}
