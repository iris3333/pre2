{
 "cells": [
  {
   "cell_type": "markdown",
   "metadata": {},
   "source": [
    "# DP: Edit Distance Algorithm"
   ]
  },
  {
   "cell_type": "markdown",
   "metadata": {},
   "source": [
    "For string-to-string correction problem. Edit distance algorithm counts the minimum number of edit operations required to transform one word into the other. A single operation may be either insertion, deletion, or substitution."
   ]
  },
  {
   "cell_type": "code",
   "execution_count": 1,
   "metadata": {
    "collapsed": true
   },
   "outputs": [],
   "source": [
    "import numpy as np"
   ]
  },
  {
   "cell_type": "markdown",
   "metadata": {},
   "source": [
    "### Initialize\n",
    "\n",
    "Because the objective of this algorithm is to compute the shortest edit distance, the values in E are set to infinite."
   ]
  },
  {
   "cell_type": "code",
   "execution_count": 2,
   "metadata": {
    "collapsed": true
   },
   "outputs": [],
   "source": [
    "word1 = list(\"LIKE\")\n",
    "word2 = list(\"LOVE\")"
   ]
  },
  {
   "cell_type": "code",
   "execution_count": 3,
   "metadata": {
    "collapsed": true
   },
   "outputs": [],
   "source": [
    "E = np.full((len(word1)+1, len(word2)+1), float(\"inf\"))"
   ]
  },
  {
   "cell_type": "code",
   "execution_count": 4,
   "metadata": {
    "collapsed": true
   },
   "outputs": [],
   "source": [
    "for i in range(len(word1)+1):\n",
    "    E[i][0] = i\n",
    "for j in range(len(word2)+1):\n",
    "    E[0][j] = j"
   ]
  },
  {
   "cell_type": "code",
   "execution_count": 5,
   "metadata": {},
   "outputs": [
    {
     "name": "stdout",
     "output_type": "stream",
     "text": [
      "[[  0.   1.   2.   3.   4.]\n",
      " [  1.  inf  inf  inf  inf]\n",
      " [  2.  inf  inf  inf  inf]\n",
      " [  3.  inf  inf  inf  inf]\n",
      " [  4.  inf  inf  inf  inf]]\n"
     ]
    }
   ],
   "source": [
    "print(E)"
   ]
  },
  {
   "cell_type": "markdown",
   "metadata": {},
   "source": [
    "### Execute\n",
    "\n",
    "The last value of the array E is the edit distance to obtain."
   ]
  },
  {
   "cell_type": "code",
   "execution_count": 6,
   "metadata": {
    "collapsed": true
   },
   "outputs": [],
   "source": [
    "for i in range(1, len(word1)+1):\n",
    "    for j in range(1, len(word2)+1):\n",
    "        if word1[i-1] == word2[j-1]:\n",
    "            E[i][j] = min(E[i-1][j-1]+0, E[i-1][j]+1, E[i][j-1]+1)\n",
    "        else:\n",
    "            E[i][j] = min(E[i-1][j-1]+1, E[i-1][j]+1, E[i][j-1]+1)"
   ]
  },
  {
   "cell_type": "code",
   "execution_count": 7,
   "metadata": {},
   "outputs": [
    {
     "name": "stdout",
     "output_type": "stream",
     "text": [
      "[[ 0.  1.  2.  3.  4.]\n",
      " [ 1.  0.  1.  2.  3.]\n",
      " [ 2.  1.  1.  2.  3.]\n",
      " [ 3.  2.  2.  2.  3.]\n",
      " [ 4.  3.  3.  3.  2.]]\n"
     ]
    }
   ],
   "source": [
    "print(E)"
   ]
  },
  {
   "cell_type": "code",
   "execution_count": 8,
   "metadata": {},
   "outputs": [
    {
     "name": "stdout",
     "output_type": "stream",
     "text": [
      "Edit Distance: 2.0\n"
     ]
    }
   ],
   "source": [
    "print(\"Edit Distance:\", E[len(word1)][len(word2)])"
   ]
  }
 ],
 "metadata": {
  "kernelspec": {
   "display_name": "Python 3",
   "language": "python",
   "name": "python3"
  },
  "language_info": {
   "codemirror_mode": {
    "name": "ipython",
    "version": 3
   },
   "file_extension": ".py",
   "mimetype": "text/x-python",
   "name": "python",
   "nbconvert_exporter": "python",
   "pygments_lexer": "ipython3",
   "version": "3.6.1"
  }
 },
 "nbformat": 4,
 "nbformat_minor": 2
}
