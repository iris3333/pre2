{
 "cells": [
  {
   "cell_type": "markdown",
   "metadata": {},
   "source": [
    "# Probability Distributions"
   ]
  },
  {
   "cell_type": "code",
   "execution_count": 1,
   "metadata": {
    "collapsed": true
   },
   "outputs": [],
   "source": [
    "import numpy as np\n",
    "import pandas as pd\n",
    "import matplotlib.pyplot as plt"
   ]
  },
  {
   "cell_type": "code",
   "execution_count": 2,
   "metadata": {
    "collapsed": true
   },
   "outputs": [],
   "source": [
    "import random\n",
    "import scipy.stats as stats"
   ]
  },
  {
   "cell_type": "markdown",
   "metadata": {},
   "source": [
    "### 1. Random Number Generation"
   ]
  },
  {
   "cell_type": "code",
   "execution_count": 3,
   "metadata": {},
   "outputs": [
    {
     "name": "stdout",
     "output_type": "stream",
     "text": [
      "0.6415791110677276\n",
      "8\n",
      "2\n"
     ]
    }
   ],
   "source": [
    "print(random.random())\n",
    "print(random.randint(0, 10))\n",
    "print(random.choice([0, 2, 4, 6, 8]))"
   ]
  },
  {
   "cell_type": "code",
   "execution_count": 4,
   "metadata": {},
   "outputs": [
    {
     "name": "stdout",
     "output_type": "stream",
     "text": [
      "[0.8444218515250481, 0.7579544029403025, 0.420571580830845]\n",
      "[4, 8, 7]\n",
      "[6, 4, 6]\n"
     ]
    }
   ],
   "source": [
    "random.seed(0)\n",
    "print([random.random() for x in range(3)])\n",
    "print([random.randint(0, 10) for x in range(3)])\n",
    "print([random.choice([0, 2, 4, 6, 8]) for x in range(3)])"
   ]
  },
  {
   "cell_type": "markdown",
   "metadata": {},
   "source": [
    "### 2. Uniform Distribution"
   ]
  },
  {
   "cell_type": "code",
   "execution_count": 5,
   "metadata": {
    "collapsed": true
   },
   "outputs": [],
   "source": [
    "uniform = stats.uniform.rvs(loc=0, scale=10, size=10000)"
   ]
  },
  {
   "cell_type": "code",
   "execution_count": 6,
   "metadata": {},
   "outputs": [
    {
     "data": {
      "image/png": "[encoded data removed]",
      "text/plain": [
       "<matplotlib.figure.Figure at 0x202dfc4e278>"
      ]
     },
     "metadata": {},
     "output_type": "display_data"
    }
   ],
   "source": [
    "pd.DataFrame(uniform).plot(kind=\"density\", xlim=(0, 10), ylim=(0, 0.12),\n",
    "                           color=\"#000000\", linewidth=1.2, legend=False)\n",
    "plt.ylabel(\"Density\"); plt.show()"
   ]
  },
  {
   "cell_type": "code",
   "execution_count": 7,
   "metadata": {},
   "outputs": [
    {
     "name": "stdout",
     "output_type": "stream",
     "text": [
      "0.1\n",
      "0.2\n",
      "2.0\n"
     ]
    }
   ],
   "source": [
    "print(stats.uniform.pdf(loc=0, scale=10, x=2))\n",
    "print(stats.uniform.cdf(loc=0, scale=10, x=2))\n",
    "print(stats.uniform.ppf(loc=0, scale=10, q=0.2))"
   ]
  },
  {
   "cell_type": "markdown",
   "metadata": {},
   "source": [
    "### 3. Bernoulli Distribution\n",
    "The result is either 0 or 1. 'p' is the probability to get 1. How many times 1 comes out from a trial."
   ]
  },
  {
   "cell_type": "code",
   "execution_count": 8,
   "metadata": {},
   "outputs": [
    {
     "name": "stdout",
     "output_type": "stream",
     "text": [
      "col_0      0     1\n",
      "row_0             \n",
      "Counts  7927  2073\n"
     ]
    }
   ],
   "source": [
    "bernoulli = stats.bernoulli.rvs(p=0.2, size=10000)\n",
    "print(pd.crosstab(index=\"Counts\", columns=bernoulli))"
   ]
  },
  {
   "cell_type": "markdown",
   "metadata": {},
   "source": [
    "### 4. Binomial Distribution\n",
    "The result is either 0 or 1. 'p' is the probability to get 1. How many times 1 comes out from 'n' trials."
   ]
  },
  {
   "cell_type": "code",
   "execution_count": 9,
   "metadata": {},
   "outputs": [
    {
     "name": "stdout",
     "output_type": "stream",
     "text": [
      "col_0      0     1\n",
      "row_0             \n",
      "Counts  7959  2041\n"
     ]
    }
   ],
   "source": [
    "binom_as_bernoulli = stats.binom.rvs(n=1, p=0.2, size=10000)\n",
    "print(pd.crosstab(index=\"Counts\", columns=binom_as_bernoulli))"
   ]
  },
  {
   "cell_type": "code",
   "execution_count": 10,
   "metadata": {},
   "outputs": [
    {
     "name": "stdout",
     "output_type": "stream",
     "text": [
      "col_0    0    1     2     3     4     5     6    7    8   9   10  11\n",
      "row_0                                                               \n",
      "Counts  105  593  1360  2010  2196  1749  1107  538  234  86  20   2\n"
     ]
    }
   ],
   "source": [
    "binom = stats.binom.rvs(n=20, p=0.2, size=10000)\n",
    "print(pd.crosstab(index=\"Counts\", columns=binom))"
   ]
  },
  {
   "cell_type": "code",
   "execution_count": 11,
   "metadata": {},
   "outputs": [
    {
     "data": {
      "image/png": "[encoded data removed]",
      "text/plain": [
       "<matplotlib.figure.Figure at 0x202dfc74860>"
      ]
     },
     "metadata": {},
     "output_type": "display_data"
    }
   ],
   "source": [
    "pd.DataFrame(binom).plot.hist(range=(-0.5, 20.5), bins=21, xlim=(-0.5, 20.5), ylim=(0, 2500),\n",
    "                              color=\"#B4B4B4\", legend=False)\n",
    "plt.ylabel(\"Frequency\"); plt.show()"
   ]
  },
  {
   "cell_type": "code",
   "execution_count": 12,
   "metadata": {},
   "outputs": [
    {
     "name": "stdout",
     "output_type": "stream",
     "text": [
      "0.136909428672\n",
      "0.206084718948\n",
      "2.0\n"
     ]
    }
   ],
   "source": [
    "print(stats.binom.pmf(n=20, p=0.2, k=2))\n",
    "print(stats.binom.cdf(n=20, p=0.2, k=2))\n",
    "print(stats.binom.ppf(n=20, p=0.2, q=0.2))"
   ]
  },
  {
   "cell_type": "markdown",
   "metadata": {},
   "source": [
    "### 5. Hypergeometric Distribution\n",
    "'M' is the total number of objects. 'N' is the total number of objects in a sample.<br>\n",
    "'n' is the number of specific objects in M. 'k' is the the number of specific objects in N without replacement."
   ]
  },
  {
   "cell_type": "code",
   "execution_count": 13,
   "metadata": {},
   "outputs": [
    {
     "name": "stdout",
     "output_type": "stream",
     "text": [
      "0.31817062961\n",
      "0.681220063818\n",
      "2.0\n"
     ]
    }
   ],
   "source": [
    "print(stats.hypergeom.pmf(M=100, N=20, n=10, k=2))\n",
    "print(stats.hypergeom.cdf(M=100, N=20, n=10, k=2))\n",
    "print(stats.hypergeom.ppf(M=100, N=20, n=10, q=0.68))"
   ]
  },
  {
   "cell_type": "markdown",
   "metadata": {},
   "source": [
    "### 6. Geometric Distribution\n",
    "The result is either 0 or 1. It counts the number of trials to get 1 for the first time.<br>\n",
    "While the geometric distribution is discrete, the exponential distribution is continuous."
   ]
  },
  {
   "cell_type": "code",
   "execution_count": 14,
   "metadata": {},
   "outputs": [
    {
     "name": "stdout",
     "output_type": "stream",
     "text": [
      "col_0     1     2     3     4    5    6    7    8    9    10 ...  28  29  30  \\\n",
      "row_0                                                        ...               \n",
      "Counts  1981  1586  1322  1032  810  616  589  409  306  280 ...   7   3   2   \n",
      "\n",
      "col_0   31  32  33  35  39  41  42  \n",
      "row_0                               \n",
      "Counts   4   2   1   1   1   1   1  \n",
      "\n",
      "[1 rows x 37 columns]\n"
     ]
    }
   ],
   "source": [
    "geom = stats.geom.rvs(p=0.2, size=10000)\n",
    "print(pd.crosstab(index=\"Counts\", columns=geom))"
   ]
  },
  {
   "cell_type": "code",
   "execution_count": 15,
   "metadata": {},
   "outputs": [
    {
     "data": {
      "image/png": "[encoded data removed]",
      "text/plain": [
       "<matplotlib.figure.Figure at 0x202dfdec7f0>"
      ]
     },
     "metadata": {},
     "output_type": "display_data"
    }
   ],
   "source": [
    "pd.DataFrame(geom).plot.hist(range=(-0.5, 50.5), bins=51, xlim=(-0.5, 50.5), ylim=(0, 2500),\n",
    "                             color=\"#B4B4B4\", legend=False)\n",
    "plt.ylabel(\"Frequency\"); plt.show()"
   ]
  },
  {
   "cell_type": "code",
   "execution_count": 16,
   "metadata": {},
   "outputs": [
    {
     "name": "stdout",
     "output_type": "stream",
     "text": [
      "0.16\n",
      "0.96\n",
      "2.0\n"
     ]
    }
   ],
   "source": [
    "print(stats.geom.pmf(p=0.8, k=2))\n",
    "print(stats.geom.cdf(p=0.8, k=2))\n",
    "print(stats.geom.ppf(p=0.8, q=0.96))"
   ]
  },
  {
   "cell_type": "markdown",
   "metadata": {},
   "source": [
    "### 7. Poisson Distribution\n",
    "The result is either 0 or 1.\n",
    "'mu' is the average number and 'k' is the certain number of getting 1 in an unit time.<br>\n",
    "If the event happens 4 times in a second, what is the probability that no event happens for the next 5 seconds?"
   ]
  },
  {
   "cell_type": "code",
   "execution_count": 17,
   "metadata": {},
   "outputs": [
    {
     "name": "stdout",
     "output_type": "stream",
     "text": [
      "col_0    0    1     2     3     4     5     6    7    8    9   10  11  12  13\n",
      "row_0                                                                        \n",
      "Counts  191  776  1443  1923  1905  1563  1033  620  315  149  52  15  14   1\n"
     ]
    }
   ],
   "source": [
    "poisson = stats.poisson.rvs(mu=4, size=10000)\n",
    "print(pd.crosstab(index=\"Counts\", columns=poisson))"
   ]
  },
  {
   "cell_type": "code",
   "execution_count": 18,
   "metadata": {},
   "outputs": [
    {
     "data": {
      "image/png": "[encoded data removed]",
      "text/plain": [
       "<matplotlib.figure.Figure at 0x202e01cbf98>"
      ]
     },
     "metadata": {},
     "output_type": "display_data"
    }
   ],
   "source": [
    "pd.DataFrame(poisson).plot.hist(range=(-0.5, 20.5), bins=21, xlim=(-0.5, 20.5), ylim=(0, 2500),\n",
    "                                color=\"#B4B4B4\", legend=False)\n",
    "plt.ylabel(\"Frequency\"); plt.show()"
   ]
  },
  {
   "cell_type": "code",
   "execution_count": 19,
   "metadata": {},
   "outputs": [
    {
     "name": "stdout",
     "output_type": "stream",
     "text": [
      "2.06115362244e-09\n"
     ]
    }
   ],
   "source": [
    "print(stats.poisson.pmf(mu=20, k=0))"
   ]
  },
  {
   "cell_type": "markdown",
   "metadata": {},
   "source": [
    "### 8. Exponential Distribution\n",
    "The result is either 0 or 1. 'scale' is the average time between getting 1 and getting the next 1.<br>\n",
    "If the event happens 4 times in a second, what is the probability that no event happens for the next 5 seconds?"
   ]
  },
  {
   "cell_type": "code",
   "execution_count": 20,
   "metadata": {
    "collapsed": true
   },
   "outputs": [],
   "source": [
    "expon = stats.expon.rvs(loc=0, scale=(1/4), size=10000)"
   ]
  },
  {
   "cell_type": "code",
   "execution_count": 21,
   "metadata": {},
   "outputs": [
    {
     "data": {
      "image/png": "[encoded data removed]",
      "text/plain": [
       "<matplotlib.figure.Figure at 0x202e1361a20>"
      ]
     },
     "metadata": {},
     "output_type": "display_data"
    }
   ],
   "source": [
    "pd.DataFrame(expon).plot(kind=\"density\", xlim=(0, 2.5), ylim=(0, 3.5),\n",
    "                         color=\"#000000\", linewidth=1.2, legend=False)\n",
    "plt.ylabel(\"Density\"); plt.show()"
   ]
  },
  {
   "cell_type": "code",
   "execution_count": 22,
   "metadata": {},
   "outputs": [
    {
     "name": "stdout",
     "output_type": "stream",
     "text": [
      "2.06115358115e-09\n"
     ]
    }
   ],
   "source": [
    "print(1-stats.expon.cdf(loc=0, scale=(1/4), x=5))"
   ]
  },
  {
   "cell_type": "markdown",
   "metadata": {},
   "source": [
    "### 9. Normal Distribution"
   ]
  },
  {
   "cell_type": "code",
   "execution_count": 23,
   "metadata": {
    "collapsed": true
   },
   "outputs": [],
   "source": [
    "norm = stats.norm.rvs(loc=0, scale=1, size=10000)"
   ]
  },
  {
   "cell_type": "code",
   "execution_count": 24,
   "metadata": {},
   "outputs": [
    {
     "data": {
      "image/png": "[encoded data removed]",
      "text/plain": [
       "<matplotlib.figure.Figure at 0x202e158c668>"
      ]
     },
     "metadata": {},
     "output_type": "display_data"
    }
   ],
   "source": [
    "pd.DataFrame(norm).plot(kind=\"density\", xlim=(-4, 4), ylim=(0, 0.5),\n",
    "                        color=\"#000000\", linewidth=1.2, legend=False)\n",
    "plt.ylabel(\"Density\"); plt.show()"
   ]
  },
  {
   "cell_type": "code",
   "execution_count": 25,
   "metadata": {},
   "outputs": [
    {
     "name": "stdout",
     "output_type": "stream",
     "text": [
      "0.0584409443335\n",
      "0.975002104852\n",
      "1.95996398454\n"
     ]
    }
   ],
   "source": [
    "print(stats.norm.pdf(loc=0, scale=1, x=1.96))\n",
    "print(stats.norm.cdf(loc=0, scale=1, x=1.96))\n",
    "print(stats.norm.ppf(loc=0, scale=1, q=0.975))"
   ]
  }
 ],
 "metadata": {
  "kernelspec": {
   "display_name": "Python 3",
   "language": "python",
   "name": "python3"
  },
  "language_info": {
   "codemirror_mode": {
    "name": "ipython",
    "version": 3
   },
   "file_extension": ".py",
   "mimetype": "text/x-python",
   "name": "python",
   "nbconvert_exporter": "python",
   "pygments_lexer": "ipython3",
   "version": "3.6.1"
  }
 },
 "nbformat": 4,
 "nbformat_minor": 2
}
