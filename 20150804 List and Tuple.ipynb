{
 "cells": [
  {
   "cell_type": "markdown",
   "metadata": {},
   "source": [
    "# Data Structures: List\n",
    "\n",
    "Homogeneous sequences, mutable, accessed via iteration, for looping.\n",
    "Cannot be used as a key in a dictionary."
   ]
  },
  {
   "cell_type": "markdown",
   "metadata": {},
   "source": [
    "### 1.1. Create"
   ]
  },
  {
   "cell_type": "code",
   "execution_count": 1,
   "metadata": {},
   "outputs": [
    {
     "name": "stdout",
     "output_type": "stream",
     "text": [
      "['H', 'e', 'l', 'l', 'o', ' ', 'W', 'o', 'r', 'l', 'd', '!']\n"
     ]
    }
   ],
   "source": [
    "l1 = list(\"Hello World!\")\n",
    "print(l1)"
   ]
  },
  {
   "cell_type": "code",
   "execution_count": 2,
   "metadata": {},
   "outputs": [
    {
     "name": "stdout",
     "output_type": "stream",
     "text": [
      "['H', 'e', 'l', 'l', 'o', ' ', 'W', 'o', 'r', 'l', 'd', '!']\n"
     ]
    }
   ],
   "source": [
    "print(l1.copy())"
   ]
  },
  {
   "cell_type": "code",
   "execution_count": 3,
   "metadata": {},
   "outputs": [
    {
     "name": "stdout",
     "output_type": "stream",
     "text": [
      "[4, 16, 36, 64]\n"
     ]
    }
   ],
   "source": [
    "print([x**2 for x in range(0, 10, 1) if x!=0 and x%2==0])"
   ]
  },
  {
   "cell_type": "markdown",
   "metadata": {},
   "source": [
    "### 1.2. Insert"
   ]
  },
  {
   "cell_type": "code",
   "execution_count": 4,
   "metadata": {},
   "outputs": [
    {
     "name": "stdout",
     "output_type": "stream",
     "text": [
      "['Setosa', 'Versicolour', 'Virginica', [1, 2, 3]]\n"
     ]
    }
   ],
   "source": [
    "l2 = [\"Setosa\", \"Versicolour\", \"Virginica\"]\n",
    "l2.append([1, 2, 3])\n",
    "print(l2)"
   ]
  },
  {
   "cell_type": "code",
   "execution_count": 5,
   "metadata": {},
   "outputs": [
    {
     "name": "stdout",
     "output_type": "stream",
     "text": [
      "['Setosa', 'Versicolour', 'Virginica', [1, 2, 3]]\n"
     ]
    }
   ],
   "source": [
    "l3 = [\"Setosa\", \"Versicolour\", \"Virginica\"]\n",
    "l3.insert(3, [1, 2, 3])\n",
    "print(l3)"
   ]
  },
  {
   "cell_type": "code",
   "execution_count": 6,
   "metadata": {},
   "outputs": [
    {
     "name": "stdout",
     "output_type": "stream",
     "text": [
      "['Setosa', 'Versicolour', 'Virginica', 1, 2, 3]\n"
     ]
    }
   ],
   "source": [
    "l4 = [\"Setosa\", \"Versicolour\", \"Virginica\"]\n",
    "l4.extend([1, 2, 3])\n",
    "print(l4)"
   ]
  },
  {
   "cell_type": "code",
   "execution_count": 7,
   "metadata": {},
   "outputs": [
    {
     "name": "stdout",
     "output_type": "stream",
     "text": [
      "['Setosa', 'Versicolour', 'Virginica', 1, 2, 3]\n"
     ]
    }
   ],
   "source": [
    "print([\"Setosa\", \"Versicolour\", \"Virginica\"] + [1, 2, 3])"
   ]
  },
  {
   "cell_type": "markdown",
   "metadata": {},
   "source": [
    "### 1.3. Modify"
   ]
  },
  {
   "cell_type": "code",
   "execution_count": 8,
   "metadata": {},
   "outputs": [
    {
     "name": "stdout",
     "output_type": "stream",
     "text": [
      "[[1, 2, 3], 'Versicolour', 'Virginica']\n"
     ]
    }
   ],
   "source": [
    "l5 = [\"Setosa\", \"Versicolour\", \"Virginica\"]\n",
    "l5[0] = [1, 2, 3]\n",
    "print(l5)"
   ]
  },
  {
   "cell_type": "code",
   "execution_count": 9,
   "metadata": {},
   "outputs": [
    {
     "name": "stdout",
     "output_type": "stream",
     "text": [
      "[1, 2, 3]\n"
     ]
    }
   ],
   "source": [
    "l6 = [\"Setosa\", \"Versicolour\", \"Virginica\"]\n",
    "l6[0:3] = [1, 2, 3]\n",
    "print(l6)"
   ]
  },
  {
   "cell_type": "markdown",
   "metadata": {},
   "source": [
    "### 1.4. Delete"
   ]
  },
  {
   "cell_type": "code",
   "execution_count": 10,
   "metadata": {},
   "outputs": [
    {
     "name": "stdout",
     "output_type": "stream",
     "text": [
      "[1, 2, 3, 1, 2, 3, 'Setosa', 'Versicolour', 'Virginica']\n"
     ]
    }
   ],
   "source": [
    "l7 = [1, 2, 3, 1, 2, 3, \"Setosa\", \"Versicolour\", \"Virginica\"]\n",
    "print(l7)"
   ]
  },
  {
   "cell_type": "code",
   "execution_count": 11,
   "metadata": {},
   "outputs": [
    {
     "name": "stdout",
     "output_type": "stream",
     "text": [
      "[2, 3, 1, 2, 3, 'Setosa', 'Versicolour', 'Virginica']\n"
     ]
    }
   ],
   "source": [
    "l7.remove(1)\n",
    "print(l7)"
   ]
  },
  {
   "cell_type": "code",
   "execution_count": 12,
   "metadata": {},
   "outputs": [
    {
     "name": "stdout",
     "output_type": "stream",
     "text": [
      "[3, 1, 2, 3, 'Setosa', 'Versicolour', 'Virginica']\n"
     ]
    }
   ],
   "source": [
    "l7.pop(0)\n",
    "print(l7)"
   ]
  },
  {
   "cell_type": "code",
   "execution_count": 13,
   "metadata": {},
   "outputs": [
    {
     "name": "stdout",
     "output_type": "stream",
     "text": [
      "[1, 2, 3, 'Setosa', 'Versicolour', 'Virginica']\n"
     ]
    }
   ],
   "source": [
    "del l7[0]\n",
    "print(l7)"
   ]
  },
  {
   "cell_type": "code",
   "execution_count": 14,
   "metadata": {},
   "outputs": [
    {
     "name": "stdout",
     "output_type": "stream",
     "text": [
      "[]\n"
     ]
    }
   ],
   "source": [
    "l7.clear()\n",
    "print(l7)"
   ]
  },
  {
   "cell_type": "markdown",
   "metadata": {},
   "source": [
    "### 1.5. Find"
   ]
  },
  {
   "cell_type": "code",
   "execution_count": 15,
   "metadata": {},
   "outputs": [
    {
     "name": "stdout",
     "output_type": "stream",
     "text": [
      "2\n"
     ]
    }
   ],
   "source": [
    "print(list(\"Hello World!\").count(\"o\"))"
   ]
  },
  {
   "cell_type": "code",
   "execution_count": 16,
   "metadata": {},
   "outputs": [
    {
     "name": "stdout",
     "output_type": "stream",
     "text": [
      "4\n"
     ]
    }
   ],
   "source": [
    "print(list(\"Hello World!\").index(\"o\"))"
   ]
  },
  {
   "cell_type": "markdown",
   "metadata": {},
   "source": [
    "### 1.6. Sort"
   ]
  },
  {
   "cell_type": "code",
   "execution_count": 17,
   "metadata": {},
   "outputs": [
    {
     "name": "stdout",
     "output_type": "stream",
     "text": [
      "['!', 'd', 'l', 'r', 'o', 'W', ' ', 'o', 'l', 'l', 'e', 'H']\n"
     ]
    }
   ],
   "source": [
    "l8 = list(\"Hello World!\")\n",
    "l8.reverse()\n",
    "print(l8)"
   ]
  },
  {
   "cell_type": "code",
   "execution_count": 18,
   "metadata": {},
   "outputs": [
    {
     "name": "stdout",
     "output_type": "stream",
     "text": [
      "['!', 'd', 'l', 'r', 'o', 'W', ' ', 'o', 'l', 'l', 'e', 'H']\n"
     ]
    }
   ],
   "source": [
    "print(list(reversed(list(\"Hello World!\"))))"
   ]
  },
  {
   "cell_type": "code",
   "execution_count": 19,
   "metadata": {},
   "outputs": [
    {
     "name": "stdout",
     "output_type": "stream",
     "text": [
      "[' ', '!', 'd', 'e', 'H', 'l', 'l', 'l', 'o', 'o', 'r', 'W']\n"
     ]
    }
   ],
   "source": [
    "l9 = list(\"Hello World!\")\n",
    "l9.sort(key=str.lower, reverse=False)\n",
    "print(l9)"
   ]
  },
  {
   "cell_type": "code",
   "execution_count": 20,
   "metadata": {},
   "outputs": [
    {
     "name": "stdout",
     "output_type": "stream",
     "text": [
      "[' ', '!', 'd', 'e', 'H', 'l', 'l', 'l', 'o', 'o', 'r', 'W']\n"
     ]
    }
   ],
   "source": [
    "print(sorted(list(\"Hello World!\"), key=str.lower, reverse=False))"
   ]
  },
  {
   "cell_type": "markdown",
   "metadata": {},
   "source": [
    "# Data Structures: Tuple\n",
    "\n",
    "Heterogeneous sequences, immutable, accessed via unpacking, for structures.\n",
    "Can be used as a key in a dictionary."
   ]
  },
  {
   "cell_type": "code",
   "execution_count": 21,
   "metadata": {},
   "outputs": [
    {
     "name": "stdout",
     "output_type": "stream",
     "text": [
      "x 0\n",
      "y Hello World!\n"
     ]
    }
   ],
   "source": [
    "x, y = (0, \"Hello World!\")\n",
    "print(\"x\", x)\n",
    "print(\"y\", y)"
   ]
  }
 ],
 "metadata": {
  "kernelspec": {
   "display_name": "Python 3",
   "language": "python",
   "name": "python3"
  },
  "language_info": {
   "codemirror_mode": {
    "name": "ipython",
    "version": 3
   },
   "file_extension": ".py",
   "mimetype": "text/x-python",
   "name": "python",
   "nbconvert_exporter": "python",
   "pygments_lexer": "ipython3",
   "version": "3.6.1"
  }
 },
 "nbformat": 4,
 "nbformat_minor": 2
}
