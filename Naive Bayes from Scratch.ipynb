{
 "cells": [
  {
   "cell_type": "markdown",
   "metadata": {},
   "source": [
    "# Naive Bayes Classifier from Scratch"
   ]
  },
  {
   "cell_type": "code",
   "execution_count": 1,
   "metadata": {},
   "outputs": [],
   "source": [
    "import numpy as np\n",
    "import pandas as pd\n",
    "import matplotlib.pyplot as plt"
   ]
  },
  {
   "cell_type": "code",
   "execution_count": 2,
   "metadata": {},
   "outputs": [],
   "source": [
    "import scipy.stats as stats\n",
    "from sklearn.model_selection import train_test_split\n",
    "from sklearn.metrics import classification_report"
   ]
  },
  {
   "cell_type": "code",
   "execution_count": 3,
   "metadata": {},
   "outputs": [
    {
     "name": "stdout",
     "output_type": "stream",
     "text": [
      "PassengerId     int64\n",
      "Survived        int64\n",
      "Pclass          int64\n",
      "Sex            object\n",
      "Age             int64\n",
      "dtype: object\n"
     ]
    }
   ],
   "source": [
    "titanic = pd.read_csv(\"Titanic.csv\")\n",
    "print(titanic.dtypes)"
   ]
  },
  {
   "cell_type": "code",
   "execution_count": 4,
   "metadata": {},
   "outputs": [
    {
     "name": "stdout",
     "output_type": "stream",
     "text": [
      "             Survived  Pclass     Sex  Age\n",
      "PassengerId                               \n",
      "1                   0       3    male   22\n",
      "2                   1       1  female   38\n",
      "3                   1       3  female   26\n",
      "4                   1       1  female   35\n",
      "5                   0       3    male   35\n"
     ]
    }
   ],
   "source": [
    "titanic = titanic.set_index(\"PassengerId\")\n",
    "print(titanic.head(5))"
   ]
  },
  {
   "cell_type": "code",
   "execution_count": 5,
   "metadata": {},
   "outputs": [
    {
     "name": "stdout",
     "output_type": "stream",
     "text": [
      "{'Died', 'Alive'}\n"
     ]
    }
   ],
   "source": [
    "titanic[\"Survived\"] = titanic.loc[:, [\"Survived\"]].replace(0, \"Died\")\n",
    "titanic[\"Survived\"] = titanic.loc[:, [\"Survived\"]].replace(1, \"Alive\")\n",
    "print(set(titanic[\"Survived\"]))"
   ]
  },
  {
   "cell_type": "markdown",
   "metadata": {},
   "source": [
    "### 1. Data Split"
   ]
  },
  {
   "cell_type": "code",
   "execution_count": 6,
   "metadata": {},
   "outputs": [
    {
     "name": "stdout",
     "output_type": "stream",
     "text": [
      "Train: (800, 3) (800,)\n",
      "Test: (201, 3) (201,)\n"
     ]
    }
   ],
   "source": [
    "X_train, X_test, y_train, y_test = train_test_split(titanic.loc[:, [\"Pclass\", \"Sex\", \"Age\"]], titanic[\"Survived\"],\n",
    "                                                    test_size=0.2, random_state=96)\n",
    "print(\"Train:\", X_train.shape, y_train.shape)\n",
    "print(\"Test:\", X_test.shape, y_test.shape)"
   ]
  },
  {
   "cell_type": "markdown",
   "metadata": {},
   "source": [
    "### 2.1. Prior"
   ]
  },
  {
   "cell_type": "code",
   "execution_count": 8,
   "metadata": {},
   "outputs": [
    {
     "name": "stdout",
     "output_type": "stream",
     "text": [
      "col_0      Prior\n",
      "Survived        \n",
      "Alive     0.4075\n",
      "Died      0.5925\n"
     ]
    }
   ],
   "source": [
    "prior = pd.crosstab(index=y_train, columns=\"Prior\")\n",
    "prior = prior/prior.sum()\n",
    "print(prior)"
   ]
  },
  {
   "cell_type": "markdown",
   "metadata": {},
   "source": [
    "### 2.2. Likelihood for Categorical Features"
   ]
  },
  {
   "cell_type": "code",
   "execution_count": 9,
   "metadata": {},
   "outputs": [
    {
     "name": "stdout",
     "output_type": "stream",
     "text": [
      "Pclass           1         2         3\n",
      "Survived                              \n",
      "Alive     0.420245  0.263804  0.315951\n",
      "Died      0.191983  0.265823  0.542194\n"
     ]
    }
   ],
   "source": [
    "likeli_pclass = pd.crosstab(index=X_train[\"Pclass\"], columns=y_train)\n",
    "likeli_pclass = (likeli_pclass/likeli_pclass.sum()).T\n",
    "print(likeli_pclass)"
   ]
  },
  {
   "cell_type": "code",
   "execution_count": 10,
   "metadata": {},
   "outputs": [
    {
     "name": "stdout",
     "output_type": "stream",
     "text": [
      "Sex         female      male\n",
      "Survived                    \n",
      "Alive     0.782209  0.217791\n",
      "Died      0.101266  0.898734\n"
     ]
    }
   ],
   "source": [
    "likeli_sex = pd.crosstab(index=X_train[\"Sex\"], columns=y_train)\n",
    "likeli_sex = (likeli_sex/likeli_sex.sum()).T\n",
    "print(likeli_sex)"
   ]
  },
  {
   "cell_type": "markdown",
   "metadata": {},
   "source": [
    "### 2.3. Likelihood for Numerical Features"
   ]
  },
  {
   "cell_type": "code",
   "execution_count": 11,
   "metadata": {},
   "outputs": [
    {
     "name": "stdout",
     "output_type": "stream",
     "text": [
      "               Mean        Std\n",
      "Survived                      \n",
      "Alive     29.588957  14.586076\n",
      "Died      30.651899  13.966553\n"
     ]
    }
   ],
   "source": [
    "param_age = pd.DataFrame()\n",
    "param_age[\"Mean\"] = X_train[\"Age\"].groupby(y_train).mean()\n",
    "param_age[\"Std\"] = X_train[\"Age\"].groupby(y_train).std()\n",
    "print(param_age)"
   ]
  },
  {
   "cell_type": "code",
   "execution_count": 12,
   "metadata": {},
   "outputs": [],
   "source": [
    "def Likeli_Age(age):\n",
    "    likeli_age = pd.DataFrame(index=prior.index)\n",
    "    likeli_age[\"Age\"] = [stats.norm.pdf(loc=param_age[\"Mean\"][y], scale=param_age[\"Std\"][y],\n",
    "                                        x=age) for y in prior.index]\n",
    "    return likeli_age"
   ]
  },
  {
   "cell_type": "markdown",
   "metadata": {},
   "source": [
    "### 2.4. Posterior"
   ]
  },
  {
   "cell_type": "code",
   "execution_count": 13,
   "metadata": {},
   "outputs": [],
   "source": [
    "def Posterior(data):\n",
    "    posterior = pd.DataFrame()\n",
    "    product = likeli_pclass[data[\"Pclass\"]]*likeli_sex[data[\"Sex\"]]*Likeli_Age(data[\"Age\"])[\"Age\"]\n",
    "    posterior[\"Posterior\"] = product*prior[\"Prior\"]/sum(product*prior[\"Prior\"])\n",
    "    return posterior"
   ]
  },
  {
   "cell_type": "markdown",
   "metadata": {},
   "source": [
    "### 3. Class Prediction"
   ]
  },
  {
   "cell_type": "code",
   "execution_count": 14,
   "metadata": {},
   "outputs": [
    {
     "name": "stdout",
     "output_type": "stream",
     "text": [
      "          Posterior\n",
      "Survived           \n",
      "Alive       0.08603\n",
      "Died        0.91397\n"
     ]
    }
   ],
   "source": [
    "print([Posterior(data=X_test.loc[ix, :]) for ix in X_test.index][0])"
   ]
  },
  {
   "cell_type": "code",
   "execution_count": 15,
   "metadata": {},
   "outputs": [
    {
     "name": "stdout",
     "output_type": "stream",
     "text": [
      "             precision    recall  f1-score   support\n",
      "\n",
      "      Alive       0.82      0.79      0.80        80\n",
      "       Died       0.86      0.88      0.87       121\n",
      "\n",
      "avg / total       0.85      0.85      0.85       201\n",
      "\n"
     ]
    }
   ],
   "source": [
    "## Maximum a Posteriori\n",
    "y_pred = [Posterior(data=X_test.loc[ix, :])[\"Posterior\"].idxmax() for ix in X_test.index]\n",
    "print(classification_report(y_true=y_test, y_pred=y_pred))"
   ]
  }
 ],
 "metadata": {
  "kernelspec": {
   "display_name": "Python 3",
   "language": "python",
   "name": "python3"
  },
  "language_info": {
   "codemirror_mode": {
    "name": "ipython",
    "version": 3
   },
   "file_extension": ".py",
   "mimetype": "text/x-python",
   "name": "python",
   "nbconvert_exporter": "python",
   "pygments_lexer": "ipython3",
   "version": "3.6.5"
  }
 },
 "nbformat": 4,
 "nbformat_minor": 2
}
