{
 "cells": [
  {
   "cell_type": "markdown",
   "id": "collect-hacker",
   "metadata": {},
   "source": [
    "# <class 'list'> mutable sequence"
   ]
  },
  {
   "cell_type": "code",
   "execution_count": 1,
   "id": "corresponding-recipient",
   "metadata": {},
   "outputs": [
    {
     "name": "stdout",
     "output_type": "stream",
     "text": [
      "<class 'list'>\n"
     ]
    }
   ],
   "source": [
    "print(type(['Hello','World']))"
   ]
  },
  {
   "cell_type": "markdown",
   "id": "representative-canadian",
   "metadata": {},
   "source": [
    "### [ sequence ] ordered, via index, duplicates"
   ]
  },
  {
   "cell_type": "code",
   "execution_count": 2,
   "id": "increasing-beverage",
   "metadata": {},
   "outputs": [
    {
     "name": "stdout",
     "output_type": "stream",
     "text": [
      "9\n",
      "[9, 8, 7, 6, 5]\n"
     ]
    }
   ],
   "source": [
    "my_list = [9,8,7,6,5,4,3,2,1]\n",
    "print(my_list[0]) # get item: list[i] -> O(1)\n",
    "print(my_list[0:5]) # get slice: list[i:j:k] -> O(k)"
   ]
  },
  {
   "cell_type": "code",
   "execution_count": 3,
   "id": "cardiac-finder",
   "metadata": {},
   "outputs": [
    {
     "name": "stdout",
     "output_type": "stream",
     "text": [
      "[9, 7, 5, 3, 1]\n",
      "[1, 2, 3, 4, 5, 6, 7, 8, 9]\n"
     ]
    }
   ],
   "source": [
    "my_list = [9,8,7,6,5,4,3,2,1]\n",
    "print(my_list[::2]) # by step\n",
    "print(my_list[::-1]) # reverse"
   ]
  },
  {
   "cell_type": "code",
   "execution_count": 4,
   "id": "competitive-houston",
   "metadata": {},
   "outputs": [
    {
     "name": "stdout",
     "output_type": "stream",
     "text": [
      "[9, 8, 7, 6, 5, 4, 3, 2, 1, 9, 8, 7, 6, 5, 4, 3, 2, 1]\n",
      "[9, 8, 7, 6, 5, 4, 3, 2, 1, 9, 8, 7, 6, 5, 4, 3, 2, 1]\n"
     ]
    }
   ],
   "source": [
    "my_list = [9,8,7,6,5,4,3,2,1]\n",
    "print(my_list + my_list) # concatenate: list + list\n",
    "print(my_list * 2) # repeat: list * int"
   ]
  },
  {
   "cell_type": "markdown",
   "id": "laughing-participation",
   "metadata": {},
   "source": [
    "### methods: find, count"
   ]
  },
  {
   "cell_type": "code",
   "execution_count": 5,
   "id": "novel-diesel",
   "metadata": {},
   "outputs": [
    {
     "data": {
      "text/plain": [
       "3"
      ]
     },
     "execution_count": 5,
     "metadata": {},
     "output_type": "execute_result"
    }
   ],
   "source": [
    "# list.index(x,i,j) -> O(N)\n",
    "# return the first index # ValueError when unfound\n",
    "my_list = list('#FF0000')\n",
    "my_list.index('0')"
   ]
  },
  {
   "cell_type": "code",
   "execution_count": 6,
   "id": "toxic-aside",
   "metadata": {},
   "outputs": [
    {
     "data": {
      "text/plain": [
       "4"
      ]
     },
     "execution_count": 6,
     "metadata": {},
     "output_type": "execute_result"
    }
   ],
   "source": [
    "# list.count(x) -> O(N)\n",
    "# return the number of items\n",
    "my_list = list('#FF0000')\n",
    "my_list.count('0')"
   ]
  },
  {
   "cell_type": "markdown",
   "id": "happy-secret",
   "metadata": {},
   "source": [
    "### [ mutable ] insert, delete"
   ]
  },
  {
   "cell_type": "code",
   "execution_count": 7,
   "id": "friendly-brush",
   "metadata": {},
   "outputs": [
    {
     "name": "stdout",
     "output_type": "stream",
     "text": [
      "[9, 8, 7, 6, 5, 4, 3, 2, 1, 'X']\n"
     ]
    }
   ],
   "source": [
    "# <in-place> list.append(x) -> O(1)\n",
    "# insert an item at the end\n",
    "my_list = [9,8,7,6,5,4,3,2,1]\n",
    "my_list.append('X')\n",
    "print(my_list)"
   ]
  },
  {
   "cell_type": "code",
   "execution_count": 8,
   "id": "democratic-fountain",
   "metadata": {},
   "outputs": [
    {
     "name": "stdout",
     "output_type": "stream",
     "text": [
      "[9, 8, 7, 6, 5, 4, 3, 2, 1, 'X', 'Y', 'Z']\n"
     ]
    }
   ],
   "source": [
    "# <in-place> list.extend(iterable) -> O(k)\n",
    "# insert items at the end # concatenate\n",
    "my_list = [9,8,7,6,5,4,3,2,1]\n",
    "my_list.extend(['X','Y','Z'])\n",
    "print(my_list)"
   ]
  },
  {
   "cell_type": "code",
   "execution_count": 9,
   "id": "available-leadership",
   "metadata": {},
   "outputs": [
    {
     "name": "stdout",
     "output_type": "stream",
     "text": [
      "[9, 8, 7, 6, 5, 4, 3, 2, 1, 'X']\n"
     ]
    }
   ],
   "source": [
    "# <in-place> list.insert(i,x) -> O(N)\n",
    "# insert an item by index\n",
    "my_list = [9,8,7,6,5,4,3,2,1]\n",
    "my_list.insert(9,'X')\n",
    "print(my_list)"
   ]
  },
  {
   "cell_type": "code",
   "execution_count": 10,
   "id": "civic-india",
   "metadata": {},
   "outputs": [
    {
     "name": "stdout",
     "output_type": "stream",
     "text": [
      "['#', 'F', 'F', '8', 'D', '8']\n"
     ]
    }
   ],
   "source": [
    "# <in-place> list.remove(x) -> O(N)\n",
    "# delete the first item # ValueError when unfound\n",
    "my_list = list('#FFD8D8')\n",
    "my_list.remove('D')\n",
    "print(my_list)"
   ]
  },
  {
   "cell_type": "code",
   "execution_count": 11,
   "id": "latin-topic",
   "metadata": {},
   "outputs": [
    {
     "name": "stdout",
     "output_type": "stream",
     "text": [
      "['#', 'F', 'F', '8', 'D', '8']\n"
     ]
    }
   ],
   "source": [
    "# <in-place> list.pop(i) -> O(N)\n",
    "# delete and return an item by index\n",
    "my_list = list('#FFD8D8')\n",
    "my_list.pop(3)\n",
    "print(my_list)"
   ]
  },
  {
   "cell_type": "code",
   "execution_count": 12,
   "id": "spiritual-forestry",
   "metadata": {},
   "outputs": [
    {
     "name": "stdout",
     "output_type": "stream",
     "text": [
      "['#', 'F', 'F', 'D', '8']\n"
     ]
    }
   ],
   "source": [
    "# <in-place> del list[i:j:k] -> O(N)\n",
    "# delete by slice\n",
    "my_list = list('#FFD8D8')\n",
    "del my_list[3:5]\n",
    "print(my_list)"
   ]
  },
  {
   "cell_type": "code",
   "execution_count": 13,
   "id": "limited-digit",
   "metadata": {},
   "outputs": [
    {
     "name": "stdout",
     "output_type": "stream",
     "text": [
      "[]\n"
     ]
    }
   ],
   "source": [
    "# <in-place> list.clear() -> O(1)\n",
    "# delete all items\n",
    "my_list = list('#FFD8D8')\n",
    "my_list.clear()\n",
    "print(my_list)"
   ]
  },
  {
   "cell_type": "markdown",
   "id": "proprietary-auditor",
   "metadata": {},
   "source": [
    "### methods: sort, reverse"
   ]
  },
  {
   "cell_type": "code",
   "execution_count": 14,
   "id": "molecular-night",
   "metadata": {},
   "outputs": [
    {
     "name": "stdout",
     "output_type": "stream",
     "text": [
      "[1, 2, 3, 4, 5, 6, 7, 8, 9]\n"
     ]
    }
   ],
   "source": [
    "# <in-place> list.sort(key=None, reverse=False) -> O(NlogN)\n",
    "# sort # TypeError when heterogeneous\n",
    "my_list = [1,3,5,7,9,2,4,6,8]\n",
    "my_list.sort(key=None, reverse=False)\n",
    "print(my_list)"
   ]
  },
  {
   "cell_type": "code",
   "execution_count": 15,
   "id": "hungarian-camcorder",
   "metadata": {},
   "outputs": [
    {
     "name": "stdout",
     "output_type": "stream",
     "text": [
      "[8, 6, 4, 2, 9, 7, 5, 3, 1]\n"
     ]
    }
   ],
   "source": [
    "# <in-place> list.reverse() -> O(N)\n",
    "# reverse\n",
    "my_list = [1,3,5,7,9,2,4,6,8]\n",
    "my_list.reverse()\n",
    "print(my_list)"
   ]
  }
 ],
 "metadata": {
  "kernelspec": {
   "display_name": "Python 3",
   "language": "python",
   "name": "python3"
  },
  "language_info": {
   "codemirror_mode": {
    "name": "ipython",
    "version": 3
   },
   "file_extension": ".py",
   "mimetype": "text/x-python",
   "name": "python",
   "nbconvert_exporter": "python",
   "pygments_lexer": "ipython3",
   "version": "3.8.5"
  }
 },
 "nbformat": 4,
 "nbformat_minor": 5
}
