{
 "cells": [
  {
   "cell_type": "markdown",
   "metadata": {},
   "source": [
    "# Descriptive Statistics for Quantitative Data"
   ]
  },
  {
   "cell_type": "code",
   "execution_count": 1,
   "metadata": {
    "collapsed": true
   },
   "outputs": [],
   "source": [
    "import numpy as np\n",
    "import pandas as pd\n",
    "import matplotlib.pyplot as plt"
   ]
  },
  {
   "cell_type": "code",
   "execution_count": 2,
   "metadata": {
    "collapsed": true
   },
   "outputs": [],
   "source": [
    "pd.set_option(\"display.max_columns\", 99)"
   ]
  },
  {
   "cell_type": "markdown",
   "metadata": {},
   "source": [
    "### 1. Quantitative Data"
   ]
  },
  {
   "cell_type": "code",
   "execution_count": 3,
   "metadata": {},
   "outputs": [
    {
     "name": "stdout",
     "output_type": "stream",
     "text": [
      "   Sepal_Length  Sepal_Width  Petal_Length  Petal_Width Species\n",
      "0           5.1          3.5           1.4          0.2  Setosa\n",
      "1           4.9          3.0           1.4          0.2  Setosa\n",
      "2           4.7          3.2           1.3          0.2  Setosa\n",
      "3           4.6          3.1           1.5          0.2  Setosa\n",
      "4           5.0          3.6           1.4          0.2  Setosa\n"
     ]
    }
   ],
   "source": [
    "iris = pd.read_csv(\"Iris.csv\")\n",
    "print(iris.head())"
   ]
  },
  {
   "cell_type": "markdown",
   "metadata": {},
   "source": [
    "### 2. Numerical Summary"
   ]
  },
  {
   "cell_type": "code",
   "execution_count": 4,
   "metadata": {},
   "outputs": [
    {
     "name": "stdout",
     "output_type": "stream",
     "text": [
      "       Sepal_Length  Sepal_Width  Petal_Length  Petal_Width\n",
      "count    150.000000   150.000000    150.000000   150.000000\n",
      "mean       5.843333     3.054000      3.758667     1.198667\n",
      "std        0.828066     0.433594      1.764420     0.763161\n",
      "min        4.300000     2.000000      1.000000     0.100000\n",
      "25%        5.100000     2.800000      1.600000     0.300000\n",
      "50%        5.800000     3.000000      4.350000     1.300000\n",
      "75%        6.400000     3.300000      5.100000     1.800000\n",
      "max        7.900000     4.400000      6.900000     2.500000\n"
     ]
    }
   ],
   "source": [
    "print(iris.describe())"
   ]
  },
  {
   "cell_type": "code",
   "execution_count": 5,
   "metadata": {},
   "outputs": [
    {
     "name": "stdout",
     "output_type": "stream",
     "text": [
      "            Petal_Length                                               \\\n",
      "                   count   mean       std  min  25%   50%    75%  max   \n",
      "Species                                                                 \n",
      "Setosa              50.0  1.464  0.173511  1.0  1.4  1.50  1.575  1.9   \n",
      "Versicolour         50.0  4.260  0.469911  3.0  4.0  4.35  4.600  5.1   \n",
      "Virginica           50.0  5.552  0.551895  4.5  5.1  5.55  5.875  6.9   \n",
      "\n",
      "            Petal_Width                                            \\\n",
      "                  count   mean       std  min  25%  50%  75%  max   \n",
      "Species                                                             \n",
      "Setosa             50.0  0.244  0.107210  0.1  0.2  0.2  0.3  0.6   \n",
      "Versicolour        50.0  1.326  0.197753  1.0  1.2  1.3  1.5  1.8   \n",
      "Virginica          50.0  2.026  0.274650  1.4  1.8  2.0  2.3  2.5   \n",
      "\n",
      "            Sepal_Length                                              \\\n",
      "                   count   mean       std  min    25%  50%  75%  max   \n",
      "Species                                                                \n",
      "Setosa              50.0  5.006  0.352490  4.3  4.800  5.0  5.2  5.8   \n",
      "Versicolour         50.0  5.936  0.516171  4.9  5.600  5.9  6.3  7.0   \n",
      "Virginica           50.0  6.588  0.635880  4.9  6.225  6.5  6.9  7.9   \n",
      "\n",
      "            Sepal_Width                                                \n",
      "                  count   mean       std  min    25%  50%    75%  max  \n",
      "Species                                                                \n",
      "Setosa             50.0  3.418  0.381024  2.3  3.125  3.4  3.675  4.4  \n",
      "Versicolour        50.0  2.770  0.313798  2.0  2.525  2.8  3.000  3.4  \n",
      "Virginica          50.0  2.974  0.322497  2.2  2.800  3.0  3.175  3.8  \n"
     ]
    }
   ],
   "source": [
    "print(iris.groupby(\"Species\").describe())"
   ]
  },
  {
   "cell_type": "markdown",
   "metadata": {},
   "source": [
    "### 2.1. Center"
   ]
  },
  {
   "cell_type": "code",
   "execution_count": 6,
   "metadata": {},
   "outputs": [
    {
     "name": "stdout",
     "output_type": "stream",
     "text": [
      "Sepal_Length    5.843333\n",
      "Sepal_Width     3.054000\n",
      "Petal_Length    3.758667\n",
      "Petal_Width     1.198667\n",
      "dtype: float64\n"
     ]
    }
   ],
   "source": [
    "## Mean\n",
    "print(iris.mean())"
   ]
  },
  {
   "cell_type": "code",
   "execution_count": 7,
   "metadata": {},
   "outputs": [
    {
     "name": "stdout",
     "output_type": "stream",
     "text": [
      "Sepal_Length    5.80\n",
      "Sepal_Width     3.00\n",
      "Petal_Length    4.35\n",
      "Petal_Width     1.30\n",
      "dtype: float64\n"
     ]
    }
   ],
   "source": [
    "## Median\n",
    "print(iris.median())"
   ]
  },
  {
   "cell_type": "markdown",
   "metadata": {},
   "source": [
    "### 2.2. Variability"
   ]
  },
  {
   "cell_type": "code",
   "execution_count": 8,
   "metadata": {},
   "outputs": [
    {
     "name": "stdout",
     "output_type": "stream",
     "text": [
      "Sepal_Length    0.685694\n",
      "Sepal_Width     0.188004\n",
      "Petal_Length    3.113179\n",
      "Petal_Width     0.582414\n",
      "dtype: float64\n"
     ]
    }
   ],
   "source": [
    "## Variance\n",
    "print(iris.var())"
   ]
  },
  {
   "cell_type": "code",
   "execution_count": 9,
   "metadata": {},
   "outputs": [
    {
     "name": "stdout",
     "output_type": "stream",
     "text": [
      "Sepal_Length    0.828066\n",
      "Sepal_Width     0.433594\n",
      "Petal_Length    1.764420\n",
      "Petal_Width     0.763161\n",
      "dtype: float64\n"
     ]
    }
   ],
   "source": [
    "## Standard Deviation\n",
    "print(iris.std())"
   ]
  },
  {
   "cell_type": "code",
   "execution_count": 10,
   "metadata": {},
   "outputs": [
    {
     "name": "stdout",
     "output_type": "stream",
     "text": [
      "Sepal_Length    14.171126\n",
      "Sepal_Width     14.197587\n",
      "Petal_Length    46.942721\n",
      "Petal_Width     63.667470\n",
      "dtype: float64\n"
     ]
    }
   ],
   "source": [
    "## Coefficient of Variation\n",
    "print((iris.std()/iris.mean())*100)"
   ]
  },
  {
   "cell_type": "code",
   "execution_count": 11,
   "metadata": {},
   "outputs": [
    {
     "name": "stdout",
     "output_type": "stream",
     "text": [
      "Sepal_Length    3.6\n",
      "Sepal_Width     2.4\n",
      "Petal_Length    5.9\n",
      "Petal_Width     2.4\n",
      "dtype: float64\n"
     ]
    }
   ],
   "source": [
    "## Range\n",
    "print(iris.quantile(1)-iris.quantile(0))"
   ]
  },
  {
   "cell_type": "code",
   "execution_count": 12,
   "metadata": {},
   "outputs": [
    {
     "name": "stdout",
     "output_type": "stream",
     "text": [
      "Sepal_Length    1.3\n",
      "Sepal_Width     0.5\n",
      "Petal_Length    3.5\n",
      "Petal_Width     1.5\n",
      "dtype: float64\n"
     ]
    }
   ],
   "source": [
    "## Interquartile Range\n",
    "print(iris.quantile(0.75)-iris.quantile(0.25))"
   ]
  },
  {
   "cell_type": "markdown",
   "metadata": {},
   "source": [
    "### 2.3. Shape"
   ]
  },
  {
   "cell_type": "code",
   "execution_count": 13,
   "metadata": {},
   "outputs": [
    {
     "name": "stdout",
     "output_type": "stream",
     "text": [
      "Sepal_Length    0.314911\n",
      "Sepal_Width     0.334053\n",
      "Petal_Length   -0.274464\n",
      "Petal_Width    -0.104997\n",
      "dtype: float64\n"
     ]
    }
   ],
   "source": [
    "## Skewness\n",
    "print(iris.skew())"
   ]
  },
  {
   "cell_type": "code",
   "execution_count": 14,
   "metadata": {},
   "outputs": [
    {
     "name": "stdout",
     "output_type": "stream",
     "text": [
      "Sepal_Length   -0.552064\n",
      "Sepal_Width     0.290781\n",
      "Petal_Length   -1.401921\n",
      "Petal_Width    -1.339754\n",
      "dtype: float64\n"
     ]
    }
   ],
   "source": [
    "## Kurtosis\n",
    "print(iris.kurt())"
   ]
  },
  {
   "cell_type": "markdown",
   "metadata": {},
   "source": [
    "### 3. Graphical Summary"
   ]
  },
  {
   "cell_type": "code",
   "execution_count": 15,
   "metadata": {},
   "outputs": [
    {
     "data": {
      "image/png": "[encoded data removed]",
      "text/plain": [
       "<matplotlib.figure.Figure at 0x21607cef588>"
      ]
     },
     "metadata": {},
     "output_type": "display_data"
    }
   ],
   "source": [
    "bins = np.linspace(1, 7, 30)\n",
    "iris[iris[\"Species\"]==\"Setosa\"].Petal_Length.hist(bins=bins, color=\"#D1C4E9\", alpha=0.9)\n",
    "iris[iris[\"Species\"]==\"Versicolour\"].Petal_Length.hist(bins=bins, color=\"#B39DDB\", alpha=0.9)\n",
    "iris[iris[\"Species\"]==\"Virginica\"].Petal_Length.hist(bins=bins, color=\"#9575CD\", alpha=0.9)\n",
    "plt.xlim(1, 7); plt.ylim(0, 25); plt.xlabel(\"Petal Length\"); plt.ylabel(\"Frequency\")\n",
    "plt.legend([\"Setosa\", \"Versicolour\", \"Virginica\"]); plt.grid(False); plt.show()"
   ]
  },
  {
   "cell_type": "code",
   "execution_count": 16,
   "metadata": {},
   "outputs": [
    {
     "data": {
      "image/png": "[encoded data removed]",
      "text/plain": [
       "<matplotlib.figure.Figure at 0x2160ba246d8>"
      ]
     },
     "metadata": {},
     "output_type": "display_data"
    }
   ],
   "source": [
    "iris[\"Petal_Length\"].plot(kind=\"density\",\n",
    "                          xlim=(-2, 10), ylim=(0, 0.3), color=\"#000000\", label=\"\")\n",
    "plt.vlines(iris[\"Petal_Length\"].mean(),\n",
    "           ymin=0, ymax=0.3, linewidth=3, color=\"#311B92\", label=\"Mean\")\n",
    "plt.vlines(iris[\"Petal_Length\"].median(),\n",
    "           ymin=0, ymax=0.3, linewidth=3, color=\"#9575CD\", label=\"Median\")\n",
    "plt.xlabel(\"Petal Length\"); plt.ylabel(\"Density\"); plt.legend(); plt.show()"
   ]
  },
  {
   "cell_type": "code",
   "execution_count": 17,
   "metadata": {},
   "outputs": [
    {
     "data": {
      "image/png": "[encoded data removed]",
      "text/plain": [
       "<matplotlib.figure.Figure at 0x2160ba8d588>"
      ]
     },
     "metadata": {},
     "output_type": "display_data"
    }
   ],
   "source": [
    "lines = {\"linewidth\":2}\n",
    "colors = {\"boxes\":\"#9575CD\", \"whiskers\":\"#B39DDB\", \"medians\":\"#9575CD\", \"caps\":\"#9575CD\"}\n",
    "iris.reset_index().pivot(\"index\", \"Species\", \"Petal_Length\").plot.box(vert=True,\n",
    "                                                                      boxprops=lines,\n",
    "                                                                      whiskerprops=lines,\n",
    "                                                                      medianprops=lines,\n",
    "                                                                      capprops=lines,\n",
    "                                                                      color=colors)\n",
    "plt.ylim(0, 8); plt.ylabel(\"Petal Length\"); plt.grid(True); plt.show()"
   ]
  }
 ],
 "metadata": {
  "kernelspec": {
   "display_name": "Python 3",
   "language": "python",
   "name": "python3"
  },
  "language_info": {
   "codemirror_mode": {
    "name": "ipython",
    "version": 3
   },
   "file_extension": ".py",
   "mimetype": "text/x-python",
   "name": "python",
   "nbconvert_exporter": "python",
   "pygments_lexer": "ipython3",
   "version": "3.6.1"
  }
 },
 "nbformat": 4,
 "nbformat_minor": 2
}
