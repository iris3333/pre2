{
 "cells": [
  {
   "cell_type": "markdown",
   "metadata": {},
   "source": [
    "# Data Structures: Dictionary\n",
    "\n",
    "Unordered, mapping, accessed via key, hashable."
   ]
  },
  {
   "cell_type": "markdown",
   "metadata": {},
   "source": [
    "### 1.1. Create"
   ]
  },
  {
   "cell_type": "code",
   "execution_count": 1,
   "metadata": {},
   "outputs": [
    {
     "name": "stdout",
     "output_type": "stream",
     "text": [
      "{'Species': 'Iris', 'Sepal_Length': 5.84, 'Petal_Length': 3.76}\n"
     ]
    }
   ],
   "source": [
    "d1 = dict(Species=\"Iris\", Sepal_Length=5.84, Petal_Length=3.76)\n",
    "print(d1)"
   ]
  },
  {
   "cell_type": "code",
   "execution_count": 2,
   "metadata": {},
   "outputs": [
    {
     "name": "stdout",
     "output_type": "stream",
     "text": [
      "dict_keys(['Species', 'Sepal_Length', 'Petal_Length'])\n",
      "dict_values(['Iris', 5.84, 3.76])\n",
      "dict_items([('Species', 'Iris'), ('Sepal_Length', 5.84), ('Petal_Length', 3.76)])\n"
     ]
    }
   ],
   "source": [
    "print(d1.keys())\n",
    "print(d1.values())\n",
    "print(d1.items())"
   ]
  },
  {
   "cell_type": "code",
   "execution_count": 3,
   "metadata": {},
   "outputs": [
    {
     "name": "stdout",
     "output_type": "stream",
     "text": [
      "{2: 4, 4: 16, 6: 36, 8: 64}\n"
     ]
    }
   ],
   "source": [
    "print({x:x**2 for x in range(0, 10, 1) if x!=0 and x%2==0})"
   ]
  },
  {
   "cell_type": "markdown",
   "metadata": {},
   "source": [
    "### 1.2. Insert"
   ]
  },
  {
   "cell_type": "code",
   "execution_count": 4,
   "metadata": {},
   "outputs": [
    {
     "name": "stdout",
     "output_type": "stream",
     "text": [
      "{'Species': 'Iris'}\n"
     ]
    }
   ],
   "source": [
    "d2 = dict()\n",
    "d2.setdefault(\"Species\", \"Iris\")\n",
    "print(d2)"
   ]
  },
  {
   "cell_type": "code",
   "execution_count": 5,
   "metadata": {},
   "outputs": [
    {
     "name": "stdout",
     "output_type": "stream",
     "text": [
      "{'Species': 'Iris', 'Sepal_Length': 5.84, 'Petal_Length': 3.76}\n"
     ]
    }
   ],
   "source": [
    "d2[\"Sepal_Length\"] = 5.84\n",
    "d2[\"Petal_Length\"] = 3.76\n",
    "print(d2)"
   ]
  },
  {
   "cell_type": "markdown",
   "metadata": {},
   "source": [
    "### 1.3. Modify"
   ]
  },
  {
   "cell_type": "code",
   "execution_count": 6,
   "metadata": {},
   "outputs": [
    {
     "name": "stdout",
     "output_type": "stream",
     "text": [
      "{'Species': 'Iris', 'Sepal_Length': 5.84, 'Petal_Length': 3.76}\n"
     ]
    }
   ],
   "source": [
    "d3 = dict(Species=\"Iris\", Sepal_Length=5.84, Petal_Length=3.76)\n",
    "print(d3)"
   ]
  },
  {
   "cell_type": "code",
   "execution_count": 7,
   "metadata": {},
   "outputs": [
    {
     "name": "stdout",
     "output_type": "stream",
     "text": [
      "{'Species': 'Iris', 'Sepal_Length': 6.0, 'Petal_Length': 4.0}\n"
     ]
    }
   ],
   "source": [
    "d3[\"Sepal_Length\"] = round(d3[\"Sepal_Length\"], 0)\n",
    "d3[\"Petal_Length\"] = round(d3[\"Petal_Length\"], 0)\n",
    "print(d3)"
   ]
  },
  {
   "cell_type": "markdown",
   "metadata": {},
   "source": [
    "### 1.4. Delete"
   ]
  },
  {
   "cell_type": "code",
   "execution_count": 8,
   "metadata": {},
   "outputs": [
    {
     "name": "stdout",
     "output_type": "stream",
     "text": [
      "{'Species': 'Iris', 'Sepal_Length': 5.84, 'Petal_Length': 3.76}\n"
     ]
    }
   ],
   "source": [
    "d4 = dict(Species=\"Iris\", Sepal_Length=5.84, Petal_Length=3.76)\n",
    "print(d4)"
   ]
  },
  {
   "cell_type": "code",
   "execution_count": 9,
   "metadata": {},
   "outputs": [
    {
     "name": "stdout",
     "output_type": "stream",
     "text": [
      "{'Sepal_Length': 5.84, 'Petal_Length': 3.76}\n"
     ]
    }
   ],
   "source": [
    "del d4[\"Species\"]\n",
    "print(d4)"
   ]
  },
  {
   "cell_type": "code",
   "execution_count": 10,
   "metadata": {},
   "outputs": [
    {
     "name": "stdout",
     "output_type": "stream",
     "text": [
      "{}\n"
     ]
    }
   ],
   "source": [
    "d4.clear()\n",
    "print(d4)"
   ]
  },
  {
   "cell_type": "markdown",
   "metadata": {},
   "source": [
    "### 1.5. Find "
   ]
  },
  {
   "cell_type": "code",
   "execution_count": 11,
   "metadata": {},
   "outputs": [
    {
     "name": "stdout",
     "output_type": "stream",
     "text": [
      "{'Species': 'Iris', 'Sepal_Length': 5.84, 'Petal_Length': 3.76}\n"
     ]
    }
   ],
   "source": [
    "d5 = dict(Species=\"Iris\", Sepal_Length=5.84, Petal_Length=3.76)\n",
    "print(d5)"
   ]
  },
  {
   "cell_type": "code",
   "execution_count": 12,
   "metadata": {},
   "outputs": [
    {
     "name": "stdout",
     "output_type": "stream",
     "text": [
      "Iris\n"
     ]
    }
   ],
   "source": [
    "print(d5.get(\"Species\", \"No Data\"))"
   ]
  },
  {
   "cell_type": "code",
   "execution_count": 13,
   "metadata": {},
   "outputs": [
    {
     "name": "stdout",
     "output_type": "stream",
     "text": [
      "No Data\n"
     ]
    }
   ],
   "source": [
    "print(d5.get(\"species\", \"No Data\"))"
   ]
  },
  {
   "cell_type": "markdown",
   "metadata": {},
   "source": [
    "### 1.6. Sort"
   ]
  },
  {
   "cell_type": "code",
   "execution_count": 14,
   "metadata": {},
   "outputs": [
    {
     "name": "stdout",
     "output_type": "stream",
     "text": [
      "{'Sepal_Length': 5.84, 'Sepal_Width': 3.05, 'Petal_Length': 3.76, 'Petal_Width': 1.2}\n"
     ]
    }
   ],
   "source": [
    "d6 = dict(Sepal_Length=5.84, Sepal_Width=3.05, Petal_Length=3.76, Petal_Width=1.20)\n",
    "print(d6)"
   ]
  },
  {
   "cell_type": "code",
   "execution_count": 15,
   "metadata": {},
   "outputs": [
    {
     "name": "stdout",
     "output_type": "stream",
     "text": [
      "[('Petal_Length', 3.76), ('Petal_Width', 1.2), ('Sepal_Length', 5.84), ('Sepal_Width', 3.05)]\n",
      "[('Petal_Width', 1.2), ('Sepal_Width', 3.05), ('Petal_Length', 3.76), ('Sepal_Length', 5.84)]\n"
     ]
    }
   ],
   "source": [
    "import operator\n",
    "print(sorted(d6.items(), key=operator.itemgetter(0), reverse=False))\n",
    "print(sorted(d6.items(), key=operator.itemgetter(1), reverse=False))"
   ]
  },
  {
   "cell_type": "markdown",
   "metadata": {},
   "source": [
    "# Data Structures: Set\n",
    "\n",
    "Unordered, collections, no duplicates."
   ]
  },
  {
   "cell_type": "markdown",
   "metadata": {},
   "source": [
    "### 2.1. Insert"
   ]
  },
  {
   "cell_type": "code",
   "execution_count": 16,
   "metadata": {},
   "outputs": [
    {
     "name": "stdout",
     "output_type": "stream",
     "text": [
      "{'Setosa', 'Versicolour', 'Virginica'}\n"
     ]
    }
   ],
   "source": [
    "s1 = set()\n",
    "s1.add(\"Setosa\")\n",
    "s1.add(\"Versicolour\")\n",
    "s1.add(\"Virginica\")\n",
    "print(s1)"
   ]
  },
  {
   "cell_type": "code",
   "execution_count": 17,
   "metadata": {},
   "outputs": [
    {
     "name": "stdout",
     "output_type": "stream",
     "text": [
      "{1, 2, 3, 'Setosa', 'Versicolour', 'Virginica'}\n"
     ]
    }
   ],
   "source": [
    "s1.update({1, 2, 3})\n",
    "print(s1)"
   ]
  },
  {
   "cell_type": "markdown",
   "metadata": {},
   "source": [
    "### 2.2. Delete"
   ]
  },
  {
   "cell_type": "code",
   "execution_count": 18,
   "metadata": {},
   "outputs": [
    {
     "name": "stdout",
     "output_type": "stream",
     "text": [
      "{1, 2, 3, 'Setosa', 'Versicolour', 'Virginica'}\n"
     ]
    }
   ],
   "source": [
    "s2 = {\"Setosa\", \"Versicolour\", \"Virginica\", 1, 2, 3}\n",
    "print(s2)"
   ]
  },
  {
   "cell_type": "code",
   "execution_count": 19,
   "metadata": {},
   "outputs": [
    {
     "name": "stdout",
     "output_type": "stream",
     "text": [
      "{1, 2, 3, 'Versicolour', 'Virginica'}\n"
     ]
    }
   ],
   "source": [
    "s2.remove(\"Setosa\")\n",
    "print(s2)"
   ]
  },
  {
   "cell_type": "code",
   "execution_count": 20,
   "metadata": {},
   "outputs": [
    {
     "name": "stdout",
     "output_type": "stream",
     "text": [
      "{1, 2, 3, 'Virginica'}\n"
     ]
    }
   ],
   "source": [
    "s2.discard(\"Versicolour\")\n",
    "print(s2)"
   ]
  },
  {
   "cell_type": "code",
   "execution_count": 21,
   "metadata": {},
   "outputs": [
    {
     "name": "stdout",
     "output_type": "stream",
     "text": [
      "set()\n"
     ]
    }
   ],
   "source": [
    "s2.clear()\n",
    "print(s2)"
   ]
  },
  {
   "cell_type": "markdown",
   "metadata": {},
   "source": [
    "### 2.3. Calculate"
   ]
  },
  {
   "cell_type": "code",
   "execution_count": 22,
   "metadata": {},
   "outputs": [
    {
     "name": "stdout",
     "output_type": "stream",
     "text": [
      "{0, 1, 2, 3, 4, 5, 6, 7, 8, 9}\n"
     ]
    }
   ],
   "source": [
    "print({1, 2, 3, 4, 5, 6, 7, 8, 9}.union({0, 2, 4, 6, 8}))"
   ]
  },
  {
   "cell_type": "code",
   "execution_count": 23,
   "metadata": {},
   "outputs": [
    {
     "name": "stdout",
     "output_type": "stream",
     "text": [
      "{8, 2, 4, 6}\n"
     ]
    }
   ],
   "source": [
    "print({1, 2, 3, 4, 5, 6, 7, 8, 9}.intersection({0, 2, 4, 6, 8}))"
   ]
  },
  {
   "cell_type": "code",
   "execution_count": 24,
   "metadata": {},
   "outputs": [
    {
     "name": "stdout",
     "output_type": "stream",
     "text": [
      "{1, 3, 5, 7, 9}\n"
     ]
    }
   ],
   "source": [
    "print({1, 2, 3, 4, 5, 6, 7, 8, 9}.difference({0, 2, 4, 6, 8}))"
   ]
  }
 ],
 "metadata": {
  "kernelspec": {
   "display_name": "Python 3",
   "language": "python",
   "name": "python3"
  },
  "language_info": {
   "codemirror_mode": {
    "name": "ipython",
    "version": 3
   },
   "file_extension": ".py",
   "mimetype": "text/x-python",
   "name": "python",
   "nbconvert_exporter": "python",
   "pygments_lexer": "ipython3",
   "version": "3.6.1"
  }
 },
 "nbformat": 4,
 "nbformat_minor": 2
}
