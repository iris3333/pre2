{
 "cells": [
  {
   "cell_type": "markdown",
   "metadata": {},
   "source": [
    "# Linear Data Structures\n",
    "\n",
    "In linear data stuctures, items are ordered depending on how they are added or removed.<br>\n",
    "Once an item is added, it stays in the position relative to the others that came before and after it.<br>\n",
    "What distinguishes one linear data stucture from another is the location where additions and removals occur."
   ]
  },
  {
   "cell_type": "markdown",
   "metadata": {
    "collapsed": true
   },
   "source": [
    "### 1. Stack: LIFO (Last-In-First-Out)\n",
    "\n",
    "The addition of new items and the removal of existing items always takes place at the same end (top).<br>\n",
    "Ex) Stacked books, Viewed web-pages"
   ]
  },
  {
   "cell_type": "code",
   "execution_count": 1,
   "metadata": {},
   "outputs": [],
   "source": [
    "class Stack:\n",
    "    def __init__(self):\n",
    "        self.items = []\n",
    "    def is_empty(self):\n",
    "        return self.items == []\n",
    "    def push(self, item):\n",
    "        return self.items.append(item)\n",
    "    def pop(self):\n",
    "        return self.items.pop(-1)\n",
    "    def top(self):\n",
    "        return self.items[-1]\n",
    "    def size(self):\n",
    "        return len(self.items)"
   ]
  },
  {
   "cell_type": "code",
   "execution_count": 2,
   "metadata": {},
   "outputs": [],
   "source": [
    "st = Stack()"
   ]
  },
  {
   "cell_type": "code",
   "execution_count": 3,
   "metadata": {},
   "outputs": [
    {
     "name": "stdout",
     "output_type": "stream",
     "text": [
      "[1]\n",
      "[1, 2]\n",
      "[1, 2, 3]\n"
     ]
    }
   ],
   "source": [
    "st.push(1); print(st.items)\n",
    "st.push(2); print(st.items)\n",
    "st.push(3); print(st.items)"
   ]
  },
  {
   "cell_type": "code",
   "execution_count": 4,
   "metadata": {},
   "outputs": [
    {
     "name": "stdout",
     "output_type": "stream",
     "text": [
      "[1, 2]\n",
      "[1]\n",
      "[]\n"
     ]
    }
   ],
   "source": [
    "st.pop(); print(st.items)\n",
    "st.pop(); print(st.items)\n",
    "st.pop(); print(st.items)"
   ]
  },
  {
   "cell_type": "markdown",
   "metadata": {},
   "source": [
    "### 2. Queue: FIFO (First-In-First-Out)\n",
    "\n",
    "The addition of new items happens at one end (rear)\n",
    "and the removal of existing items happens at the other end (front).<br>\n",
    "Ex) Waiting lines"
   ]
  },
  {
   "cell_type": "code",
   "execution_count": 5,
   "metadata": {},
   "outputs": [],
   "source": [
    "class Queue:\n",
    "    def __init__(self):\n",
    "        self.items = []\n",
    "    def is_empty(self):\n",
    "        return self.items == []\n",
    "    def enqueue(self, item):\n",
    "        return self.items.append(item)\n",
    "    def dequeue(self):\n",
    "        return self.items.pop(0)\n",
    "    def front(self):\n",
    "        return self.items[0]\n",
    "    def size(self):\n",
    "        return len(self.items)"
   ]
  },
  {
   "cell_type": "code",
   "execution_count": 6,
   "metadata": {},
   "outputs": [],
   "source": [
    "qu = Queue()"
   ]
  },
  {
   "cell_type": "code",
   "execution_count": 7,
   "metadata": {},
   "outputs": [
    {
     "name": "stdout",
     "output_type": "stream",
     "text": [
      "[1]\n",
      "[1, 2]\n",
      "[1, 2, 3]\n"
     ]
    }
   ],
   "source": [
    "qu.enqueue(1); print(qu.items)\n",
    "qu.enqueue(2); print(qu.items)\n",
    "qu.enqueue(3); print(qu.items)"
   ]
  },
  {
   "cell_type": "code",
   "execution_count": 8,
   "metadata": {},
   "outputs": [
    {
     "name": "stdout",
     "output_type": "stream",
     "text": [
      "[2, 3]\n",
      "[3]\n",
      "[]\n"
     ]
    }
   ],
   "source": [
    "qu.dequeue(); print(qu.items)\n",
    "qu.dequeue(); print(qu.items)\n",
    "qu.dequeue(); print(qu.items)"
   ]
  },
  {
   "cell_type": "markdown",
   "metadata": {},
   "source": [
    "### 3. Deque: Double-Ended Queue\n",
    "\n",
    "New items can be added at either the front or the rear\n",
    "and existing items can be removed from either end."
   ]
  },
  {
   "cell_type": "code",
   "execution_count": 9,
   "metadata": {},
   "outputs": [],
   "source": [
    "class Deque:\n",
    "    def __init__(self):\n",
    "        self.items = []\n",
    "    def is_empty(self):\n",
    "        return self.items == []\n",
    "    def add_front(self, item):\n",
    "        return self.items.insert(0, item)\n",
    "    def add_rear(self, item):\n",
    "        return self.items.append(item)\n",
    "    def remove_front(self):\n",
    "        return self.items.pop(0)\n",
    "    def remove_rear(self):\n",
    "        return self.items.pop(-1)\n",
    "    def size(self):\n",
    "        return len(self.items)"
   ]
  },
  {
   "cell_type": "code",
   "execution_count": 10,
   "metadata": {},
   "outputs": [],
   "source": [
    "dq = Deque()"
   ]
  },
  {
   "cell_type": "code",
   "execution_count": 11,
   "metadata": {},
   "outputs": [
    {
     "name": "stdout",
     "output_type": "stream",
     "text": [
      "[1]\n",
      "[2, 1]\n",
      "[3, 2, 1]\n"
     ]
    }
   ],
   "source": [
    "dq.add_front(1); print(dq.items)\n",
    "dq.add_front(2); print(dq.items)\n",
    "dq.add_front(3); print(dq.items)"
   ]
  },
  {
   "cell_type": "code",
   "execution_count": 12,
   "metadata": {},
   "outputs": [
    {
     "name": "stdout",
     "output_type": "stream",
     "text": [
      "[3, 2, 1, 4]\n",
      "[3, 2, 1, 4, 5]\n",
      "[3, 2, 1, 4, 5, 6]\n"
     ]
    }
   ],
   "source": [
    "dq.add_rear(4); print(dq.items)\n",
    "dq.add_rear(5); print(dq.items)\n",
    "dq.add_rear(6); print(dq.items)"
   ]
  },
  {
   "cell_type": "code",
   "execution_count": 13,
   "metadata": {},
   "outputs": [
    {
     "name": "stdout",
     "output_type": "stream",
     "text": [
      "[2, 1, 4, 5, 6]\n",
      "[1, 4, 5, 6]\n",
      "[4, 5, 6]\n"
     ]
    }
   ],
   "source": [
    "dq.remove_front(); print(dq.items)\n",
    "dq.remove_front(); print(dq.items)\n",
    "dq.remove_front(); print(dq.items)"
   ]
  },
  {
   "cell_type": "code",
   "execution_count": 14,
   "metadata": {},
   "outputs": [
    {
     "name": "stdout",
     "output_type": "stream",
     "text": [
      "[4, 5]\n",
      "[4]\n",
      "[]\n"
     ]
    }
   ],
   "source": [
    "dq.remove_rear(); print(dq.items)\n",
    "dq.remove_rear(); print(dq.items)\n",
    "dq.remove_rear(); print(dq.items)"
   ]
  }
 ],
 "metadata": {
  "kernelspec": {
   "display_name": "Python 3",
   "language": "python",
   "name": "python3"
  },
  "language_info": {
   "codemirror_mode": {
    "name": "ipython",
    "version": 3
   },
   "file_extension": ".py",
   "mimetype": "text/x-python",
   "name": "python",
   "nbconvert_exporter": "python",
   "pygments_lexer": "ipython3",
   "version": "3.6.5"
  }
 },
 "nbformat": 4,
 "nbformat_minor": 2
}
