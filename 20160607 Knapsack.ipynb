{
 "cells": [
  {
   "cell_type": "markdown",
   "metadata": {},
   "source": [
    "# DP: 0/1 Knapsack Algorithm"
   ]
  },
  {
   "cell_type": "markdown",
   "metadata": {},
   "source": [
    "For combinatorial optimization problem. Knapsack algorithm determines the number of each item to include in a collection. Since a knapsack has a fixed capacity and each item has a weight as well as a value, the total weight should be less than or equal to the limit of the given knapsack, while maximizing the total value."
   ]
  },
  {
   "cell_type": "markdown",
   "metadata": {},
   "source": [
    "There are 2 types of knapsack algorithm. Here, 0/1 knapsack algorithm is mainly discussed. It restricts the number of each kind of item to one. The other is called fractional knapsack algorithm, which allows splitting an item. While fractional knapsack algorithm is a greedy algorithm, 0/1 knapsack algorithm is a dynamic programming approach."
   ]
  },
  {
   "cell_type": "code",
   "execution_count": 1,
   "metadata": {
    "collapsed": true
   },
   "outputs": [],
   "source": [
    "import numpy as np"
   ]
  },
  {
   "cell_type": "markdown",
   "metadata": {
    "collapsed": true
   },
   "source": [
    "### Initialize"
   ]
  },
  {
   "cell_type": "code",
   "execution_count": 2,
   "metadata": {
    "collapsed": true
   },
   "outputs": [],
   "source": [
    "C = 10\n",
    "X = {1:[5, 10], 2:[4, 40], 3:[6, 30], 4:[3, 50]} ## {item:[weight, value]}\n",
    "n = len(X)"
   ]
  },
  {
   "cell_type": "code",
   "execution_count": 3,
   "metadata": {
    "collapsed": true
   },
   "outputs": [],
   "source": [
    "K = np.zeros((n+1, C+1))"
   ]
  },
  {
   "cell_type": "code",
   "execution_count": 4,
   "metadata": {},
   "outputs": [
    {
     "name": "stdout",
     "output_type": "stream",
     "text": [
      "[[ 0.  0.  0.  0.  0.  0.  0.  0.  0.  0.  0.]\n",
      " [ 0.  0.  0.  0.  0.  0.  0.  0.  0.  0.  0.]\n",
      " [ 0.  0.  0.  0.  0.  0.  0.  0.  0.  0.  0.]\n",
      " [ 0.  0.  0.  0.  0.  0.  0.  0.  0.  0.  0.]\n",
      " [ 0.  0.  0.  0.  0.  0.  0.  0.  0.  0.  0.]]\n"
     ]
    }
   ],
   "source": [
    "print(K)"
   ]
  },
  {
   "cell_type": "markdown",
   "metadata": {},
   "source": [
    "### Execute"
   ]
  },
  {
   "cell_type": "code",
   "execution_count": 5,
   "metadata": {
    "collapsed": true
   },
   "outputs": [],
   "source": [
    "for i in range(1, n+1):\n",
    "    for w in range(1, C+1):\n",
    "        if X[i][0] > w:\n",
    "            K[i][w] = K[i-1][w]\n",
    "        else:\n",
    "            K[i][w] = max(K[i-1][w], (K[i-1][w-X[i][0]] + X[i][1]))"
   ]
  },
  {
   "cell_type": "code",
   "execution_count": 6,
   "metadata": {},
   "outputs": [
    {
     "name": "stdout",
     "output_type": "stream",
     "text": [
      "[[  0.   0.   0.   0.   0.   0.   0.   0.   0.   0.   0.]\n",
      " [  0.   0.   0.   0.   0.  10.  10.  10.  10.  10.  10.]\n",
      " [  0.   0.   0.   0.  40.  40.  40.  40.  40.  50.  50.]\n",
      " [  0.   0.   0.   0.  40.  40.  40.  40.  40.  50.  70.]\n",
      " [  0.   0.   0.  50.  50.  50.  50.  90.  90.  90.  90.]]\n"
     ]
    }
   ],
   "source": [
    "print(K)"
   ]
  },
  {
   "cell_type": "code",
   "execution_count": 7,
   "metadata": {},
   "outputs": [
    {
     "name": "stdout",
     "output_type": "stream",
     "text": [
      "Value: 90.0\n"
     ]
    }
   ],
   "source": [
    "print(\"Value:\", K[n][C])"
   ]
  },
  {
   "cell_type": "code",
   "execution_count": 8,
   "metadata": {
    "collapsed": true
   },
   "outputs": [],
   "source": [
    "l = []"
   ]
  },
  {
   "cell_type": "code",
   "execution_count": 9,
   "metadata": {
    "collapsed": true
   },
   "outputs": [],
   "source": [
    "for i in reversed(range(1, n+1)):\n",
    "    if K[i][C] != K[i-1][C]:\n",
    "        l.append(i)\n",
    "        C = C - X[i][0]"
   ]
  },
  {
   "cell_type": "code",
   "execution_count": 10,
   "metadata": {},
   "outputs": [
    {
     "name": "stdout",
     "output_type": "stream",
     "text": [
      "Item: [2, 4]\n"
     ]
    }
   ],
   "source": [
    "print(\"Item:\", sorted(l))"
   ]
  }
 ],
 "metadata": {
  "kernelspec": {
   "display_name": "Python 3",
   "language": "python",
   "name": "python3"
  },
  "language_info": {
   "codemirror_mode": {
    "name": "ipython",
    "version": 3
   },
   "file_extension": ".py",
   "mimetype": "text/x-python",
   "name": "python",
   "nbconvert_exporter": "python",
   "pygments_lexer": "ipython3",
   "version": "3.6.5"
  }
 },
 "nbformat": 4,
 "nbformat_minor": 2
}
