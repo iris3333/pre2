{
 "cells": [
  {
   "cell_type": "code",
   "execution_count": 1,
   "metadata": {},
   "outputs": [],
   "source": [
    "import numpy as np\n",
    "import pandas as pd\n",
    "import matplotlib.pyplot as plt"
   ]
  },
  {
   "cell_type": "code",
   "execution_count": 2,
   "metadata": {},
   "outputs": [],
   "source": [
    "from statistics import median"
   ]
  },
  {
   "cell_type": "code",
   "execution_count": 3,
   "metadata": {},
   "outputs": [],
   "source": [
    "df0 = pd.read_csv(\"train.csv\")\n",
    "df1 = pd.read_csv(\"test.csv\")"
   ]
  },
  {
   "cell_type": "code",
   "execution_count": 4,
   "metadata": {},
   "outputs": [],
   "source": [
    "df0[\"Set\"] = [0]*len(df0)\n",
    "df1[\"Set\"] = [1]*len(df1)"
   ]
  },
  {
   "cell_type": "code",
   "execution_count": 5,
   "metadata": {},
   "outputs": [],
   "source": [
    "df = pd.merge(df0, df1, how=\"outer\")"
   ]
  },
  {
   "cell_type": "code",
   "execution_count": 6,
   "metadata": {},
   "outputs": [],
   "source": [
    "## 범주형 Dummy 생성\n",
    "df = pd.get_dummies(df, columns=[\"Sex\"]).drop([\"Sex_male\"], axis=1)\n",
    "df = df.join(pd.get_dummies(df[[\"Embarked\"]], columns=[\"Embarked\"]))"
   ]
  },
  {
   "cell_type": "code",
   "execution_count": 7,
   "metadata": {},
   "outputs": [
    {
     "data": {
      "text/plain": [
       "Index(['PassengerId', 'Survived', 'Pclass', 'Name', 'Age', 'SibSp', 'Parch',\n",
       "       'Ticket', 'Fare', 'Cabin', 'Embarked', 'Set', 'Sex_female',\n",
       "       'Embarked_C', 'Embarked_Q', 'Embarked_S'],\n",
       "      dtype='object')"
      ]
     },
     "execution_count": 7,
     "metadata": {},
     "output_type": "execute_result"
    }
   ],
   "source": [
    "df.columns"
   ]
  },
  {
   "cell_type": "code",
   "execution_count": 8,
   "metadata": {},
   "outputs": [],
   "source": [
    "## 일관된 형식을 위해 Name2 생성\n",
    "df[\"Name2\"] = df[\"Name\"].replace({\n",
    "    'Duff Gordon, Lady. (Lucille Christiana Sutherland) (\"Mrs Morgan\")':\n",
    "    'Duff Gordon, Mrs. Morgan',\n",
    "    'Duff Gordon, Sir. Cosmo Edmund (\"Mr Morgan\")':\n",
    "    'Duff Gordon, Mr. Morgan',\n",
    "    'Mayne, Mlle. Berthe Antonine (\"Mrs de Villiers\")':\n",
    "    'Mayne, Mrs. Villiers',\n",
    "    'Phillips, Miss. Kate Florence (\"Mrs Kate Louise Phillips Marshall\")':\n",
    "    'Phillips, Mrs. Kate Louise Phillips Marshall',\n",
    "    'Rothes, the Countess. of (Lucy Noel Martha Dyer-Edwards)':\n",
    "    'Rothes, Countess. Lucy Noel Martha Dyer-Edwards',\n",
    "    'Yrois, Miss. Henriette (\"Mrs Harbeck\")':\n",
    "    'Yrois, Mrs. Harbeck'})"
   ]
  },
  {
   "cell_type": "code",
   "execution_count": 9,
   "metadata": {},
   "outputs": [],
   "source": [
    "## Title\n",
    "df[\"Title\"] = df[\"Name2\"].apply(lambda x: x.split(\",\")[1].strip().split(\".\")[0].strip())\n",
    "df[\"Title\"] = df[\"Title\"].replace({\"Capt\": \"Mr\", \"Don\": \"Mr\", \"Dona\": \"Ms\", \"Mlle\": \"Ms\", \"Mme\": \"Ms\"})"
   ]
  },
  {
   "cell_type": "code",
   "execution_count": 10,
   "metadata": {},
   "outputs": [],
   "source": [
    "## Last Name\n",
    "df[\"LName\"] = df[\"Name2\"].apply(lambda x: x.split(\",\")[0].strip())\n",
    "df[\"LName\"] = df[\"LName\"].apply(lambda x: x.title().translate(str.maketrans({\" \": None, \"-\": None, \"'\": None, '\"': None})))"
   ]
  },
  {
   "cell_type": "code",
   "execution_count": 11,
   "metadata": {},
   "outputs": [],
   "source": [
    "## First Name\n",
    "df[\"FName\"] = df[\"Name2\"].apply(lambda x: x.split(\".\")[1].strip().replace(\"/\", \" \").split(\" \")[0].strip())\n",
    "df[\"FName\"] = df[\"FName\"].apply(lambda x: x.translate(str.maketrans({\"(\": None, \")\": None, \"'\": None, '\"': None})))"
   ]
  },
  {
   "cell_type": "code",
   "execution_count": 12,
   "metadata": {},
   "outputs": [
    {
     "data": {
      "text/html": [
       "<div>\n",
       "<style scoped>\n",
       "    .dataframe tbody tr th:only-of-type {\n",
       "        vertical-align: middle;\n",
       "    }\n",
       "\n",
       "    .dataframe tbody tr th {\n",
       "        vertical-align: top;\n",
       "    }\n",
       "\n",
       "    .dataframe thead th {\n",
       "        text-align: right;\n",
       "    }\n",
       "</style>\n",
       "<table border=\"1\" class=\"dataframe\">\n",
       "  <thead>\n",
       "    <tr style=\"text-align: right;\">\n",
       "      <th></th>\n",
       "      <th>Name2</th>\n",
       "      <th>Title</th>\n",
       "      <th>LName</th>\n",
       "      <th>FName</th>\n",
       "    </tr>\n",
       "  </thead>\n",
       "  <tbody>\n",
       "    <tr>\n",
       "      <th>0</th>\n",
       "      <td>Braund, Mr. Owen Harris</td>\n",
       "      <td>Mr</td>\n",
       "      <td>Braund</td>\n",
       "      <td>Owen</td>\n",
       "    </tr>\n",
       "    <tr>\n",
       "      <th>1</th>\n",
       "      <td>Cumings, Mrs. John Bradley (Florence Briggs Th...</td>\n",
       "      <td>Mrs</td>\n",
       "      <td>Cumings</td>\n",
       "      <td>John</td>\n",
       "    </tr>\n",
       "    <tr>\n",
       "      <th>2</th>\n",
       "      <td>Heikkinen, Miss. Laina</td>\n",
       "      <td>Miss</td>\n",
       "      <td>Heikkinen</td>\n",
       "      <td>Laina</td>\n",
       "    </tr>\n",
       "    <tr>\n",
       "      <th>3</th>\n",
       "      <td>Futrelle, Mrs. Jacques Heath (Lily May Peel)</td>\n",
       "      <td>Mrs</td>\n",
       "      <td>Futrelle</td>\n",
       "      <td>Jacques</td>\n",
       "    </tr>\n",
       "    <tr>\n",
       "      <th>4</th>\n",
       "      <td>Allen, Mr. William Henry</td>\n",
       "      <td>Mr</td>\n",
       "      <td>Allen</td>\n",
       "      <td>William</td>\n",
       "    </tr>\n",
       "  </tbody>\n",
       "</table>\n",
       "</div>"
      ],
      "text/plain": [
       "                                               Name2 Title      LName    FName\n",
       "0                            Braund, Mr. Owen Harris    Mr     Braund     Owen\n",
       "1  Cumings, Mrs. John Bradley (Florence Briggs Th...   Mrs    Cumings     John\n",
       "2                             Heikkinen, Miss. Laina  Miss  Heikkinen    Laina\n",
       "3       Futrelle, Mrs. Jacques Heath (Lily May Peel)   Mrs   Futrelle  Jacques\n",
       "4                           Allen, Mr. William Henry    Mr      Allen  William"
      ]
     },
     "execution_count": 12,
     "metadata": {},
     "output_type": "execute_result"
    }
   ],
   "source": [
    "df[[\"Name2\", \"Title\", \"LName\", \"FName\"]].head()"
   ]
  },
  {
   "cell_type": "code",
   "execution_count": 13,
   "metadata": {},
   "outputs": [],
   "source": [
    "## 일관된 형식을 위해 Ticket2 생성\n",
    "df[\"Ticket2\"] = df[\"Ticket\"].apply(lambda x: x.upper().translate(str.maketrans({\"/\": None, \".\": None})).strip())\n",
    "df[\"Ticket2\"] = df[\"Ticket2\"].apply(lambda x: \"LINE/\" if \"LINE\" in x else \"\".join(x.split(\" \")[:-1]) + \"/\" + x.split(\" \")[-1])"
   ]
  },
  {
   "cell_type": "code",
   "execution_count": 14,
   "metadata": {},
   "outputs": [],
   "source": [
    "## Spouse\n",
    "sp = {k: v[\"PassengerId\"].tolist()\n",
    "      for k, v in df[(df[\"SibSp\"] > 0)\n",
    "                     & (df[\"Title\"].apply(lambda x: x in [\"Mr\", \"Mrs\"]))\n",
    "                     & (df[\"Name2\"].apply(lambda x: \" Jr\" not in x))].groupby([\"LName\", \"FName\", \"Ticket2\"])\n",
    "      if len(v[\"PassengerId\"]) > 1}"
   ]
  },
  {
   "cell_type": "code",
   "execution_count": 15,
   "metadata": {},
   "outputs": [],
   "source": [
    "del sp[('Goodwin', 'Charles', 'CA/2144')]"
   ]
  },
  {
   "cell_type": "code",
   "execution_count": 16,
   "metadata": {},
   "outputs": [],
   "source": [
    "## [Mr, Mrs] 순서로 정렬\n",
    "sp = {(k if df[df[\"PassengerId\"]==v[0]][\"Sex_female\"].values[0]==0 else k):\n",
    "      (v if df[df[\"PassengerId\"]==v[0]][\"Sex_female\"].values[0]==0 else list(reversed(v)))\n",
    "      for k, v in sp.items()}"
   ]
  },
  {
   "cell_type": "code",
   "execution_count": 17,
   "metadata": {},
   "outputs": [],
   "source": [
    "sp = {k: [(v[0], df[df[\"PassengerId\"]==v[0]][\"Age\"].values[0]),\n",
    "          (v[1], df[df[\"PassengerId\"]==v[1]][\"Age\"].values[0])]\n",
    "      for k, v in sp.items()}"
   ]
  },
  {
   "cell_type": "code",
   "execution_count": 18,
   "metadata": {},
   "outputs": [
    {
     "data": {
      "text/plain": [
       "(('Abelson', 'Samuel', 'PPP/3381'), [(309, 30.0), (875, 28.0)])"
      ]
     },
     "execution_count": 18,
     "metadata": {},
     "output_type": "execute_result"
    }
   ],
   "source": [
    "list(sp.items())[0]"
   ]
  },
  {
   "cell_type": "code",
   "execution_count": 19,
   "metadata": {},
   "outputs": [
    {
     "data": {
      "text/plain": [
       "(array([ 1.,  0.,  1.,  0.,  0.,  0.,  3.,  7., 37., 17., 12.,  3.,  1.]),\n",
       " array([-40, -35, -30, -25, -20, -15, -10,  -5,   0,   5,  10,  15,  20,\n",
       "         25]),\n",
       " <a list of 13 Patch objects>)"
      ]
     },
     "execution_count": 19,
     "metadata": {},
     "output_type": "execute_result"
    },
    {
     "data": {
      "image/png": "[encoded data removed]",
      "text/plain": [
       "<Figure size 432x288 with 1 Axes>"
      ]
     },
     "metadata": {
      "needs_background": "light"
     },
     "output_type": "display_data"
    }
   ],
   "source": [
    "## 배우자 나이 차이\n",
    "diff = [v[0][1] - v[1][1] for v in sp.values()]\n",
    "plt.hist(diff, bins=range(-40, 30, 5))"
   ]
  },
  {
   "cell_type": "code",
   "execution_count": 20,
   "metadata": {},
   "outputs": [
    {
     "data": {
      "text/plain": [
       "'median: 3.5'"
      ]
     },
     "execution_count": 20,
     "metadata": {},
     "output_type": "execute_result"
    }
   ],
   "source": [
    "\"median: {}\".format(round(median([v for v in diff if np.isnan(v)==False]), 3))"
   ]
  },
  {
   "cell_type": "code",
   "execution_count": 21,
   "metadata": {},
   "outputs": [],
   "source": [
    "df[\"Age2\"] = df[\"Age\"].copy()\n",
    "\n",
    "for v in sp.values():\n",
    "    if (np.isnan(v[0][1])==True) & (np.isnan(v[1][1])==False):\n",
    "        df.loc[df[\"PassengerId\"]==v[0][0], \"Age2\"] = v[1][1] + 3.5\n",
    "    elif (np.isnan(v[0][1])==False) & (np.isnan(v[1][1])==True):\n",
    "        df.loc[df[\"PassengerId\"]==v[1][0], \"Age2\"] = v[0][1] - 3.5"
   ]
  }
 ],
 "metadata": {
  "kernelspec": {
   "display_name": "Python 3",
   "language": "python",
   "name": "python3"
  },
  "language_info": {
   "codemirror_mode": {
    "name": "ipython",
    "version": 3
   },
   "file_extension": ".py",
   "mimetype": "text/x-python",
   "name": "python",
   "nbconvert_exporter": "python",
   "pygments_lexer": "ipython3",
   "version": "3.6.7"
  }
 },
 "nbformat": 4,
 "nbformat_minor": 2
}
