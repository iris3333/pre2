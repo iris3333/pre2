{
 "cells": [
  {
   "cell_type": "markdown",
   "metadata": {},
   "source": [
    "# Normal Distribution Plot"
   ]
  },
  {
   "cell_type": "code",
   "execution_count": 1,
   "metadata": {
    "collapsed": true
   },
   "outputs": [],
   "source": [
    "import numpy as np\n",
    "import pandas as pd\n",
    "import matplotlib.pyplot as plt"
   ]
  },
  {
   "cell_type": "code",
   "execution_count": 2,
   "metadata": {
    "collapsed": true
   },
   "outputs": [],
   "source": [
    "import scipy.stats as stats"
   ]
  },
  {
   "cell_type": "code",
   "execution_count": 3,
   "metadata": {},
   "outputs": [
    {
     "data": {
      "image/png": "[encoded data removed]",
      "text/plain": [
       "<matplotlib.figure.Figure at 0x246743d6518>"
      ]
     },
     "metadata": {},
     "output_type": "display_data"
    }
   ],
   "source": [
    "plt.fill_between(x=np.arange(-4, -1.96, 0.01),\n",
    "                 y1=stats.norm.pdf(np.arange(-4, -1.96, 0.01)),\n",
    "                 facecolor=\"#C8E6C9\", alpha=0.9)\n",
    "plt.fill_between(x=np.arange(1.96, 4, 0.01),\n",
    "                 y1=stats.norm.pdf(np.arange(1.96, 4, 0.01)),\n",
    "                 facecolor=\"#C8E6C9\", alpha=0.9)\n",
    "plt.fill_between(x=np.arange(-1.96, 1.96, 0.01),\n",
    "                 y1=stats.norm.pdf(np.arange(-1.96, 1.96, 0.01)),\n",
    "                 facecolor=\"#81C784\", alpha=0.7)\n",
    "\n",
    "prob = {\"left\":stats.norm.cdf(loc=0, scale=1, x=-1.96),\n",
    "        \"right\":1-stats.norm.cdf(loc=0, scale=1, x=1.96)}\n",
    "\n",
    "plt.text(x=-3, y=0.05, s=round(prob[\"left\"], 3))\n",
    "plt.text(x=2.35, y=0.05, s=round(prob[\"right\"], 3))\n",
    "plt.text(x=-0.25, y=0.2, s=round(1-prob[\"left\"]-prob[\"right\"], 3))\n",
    "plt.xlim(-4, 4); plt.ylim(0, 0.5); plt.ylabel(\"Density\"); plt.show()"
   ]
  }
 ],
 "metadata": {
  "kernelspec": {
   "display_name": "Python 3",
   "language": "python",
   "name": "python3"
  },
  "language_info": {
   "codemirror_mode": {
    "name": "ipython",
    "version": 3
   },
   "file_extension": ".py",
   "mimetype": "text/x-python",
   "name": "python",
   "nbconvert_exporter": "python",
   "pygments_lexer": "ipython3",
   "version": "3.6.1"
  }
 },
 "nbformat": 4,
 "nbformat_minor": 2
}
