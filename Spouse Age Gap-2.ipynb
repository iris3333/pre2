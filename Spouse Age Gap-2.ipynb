{
 "cells": [
  {
   "cell_type": "code",
   "execution_count": 1,
   "metadata": {},
   "outputs": [],
   "source": [
    "import numpy as np\n",
    "import pandas as pd\n",
    "import matplotlib.pyplot as plt"
   ]
  },
  {
   "cell_type": "code",
   "execution_count": 16,
   "metadata": {},
   "outputs": [],
   "source": [
    "import re\n",
    "from collections import Counter\n",
    "from statistics import median"
   ]
  },
  {
   "cell_type": "code",
   "execution_count": 3,
   "metadata": {},
   "outputs": [],
   "source": [
    "df0 = pd.read_csv(\"train.csv\")\n",
    "df1 = pd.read_csv(\"test.csv\")"
   ]
  },
  {
   "cell_type": "code",
   "execution_count": 4,
   "metadata": {},
   "outputs": [],
   "source": [
    "df0[\"Set\"] = [0]*len(df0)\n",
    "df1[\"Set\"] = [1]*len(df1)"
   ]
  },
  {
   "cell_type": "code",
   "execution_count": 5,
   "metadata": {},
   "outputs": [],
   "source": [
    "df = pd.merge(df0, df1, how=\"outer\")"
   ]
  },
  {
   "cell_type": "code",
   "execution_count": 6,
   "metadata": {},
   "outputs": [],
   "source": [
    "## 범주형 Dummy 생성\n",
    "df = pd.get_dummies(df, columns=[\"Sex\"]).drop([\"Sex_male\"], axis=1)"
   ]
  },
  {
   "cell_type": "code",
   "execution_count": 7,
   "metadata": {},
   "outputs": [
    {
     "data": {
      "text/plain": [
       "Index(['PassengerId', 'Survived', 'Pclass', 'Name', 'Age', 'SibSp', 'Parch',\n",
       "       'Ticket', 'Fare', 'Cabin', 'Embarked', 'Set', 'Sex_female',\n",
       "       'Embarked_C', 'Embarked_Q', 'Embarked_S'],\n",
       "      dtype='object')"
      ]
     },
     "execution_count": 7,
     "metadata": {},
     "output_type": "execute_result"
    }
   ],
   "source": [
    "df.columns"
   ]
  },
  {
   "cell_type": "code",
   "execution_count": 8,
   "metadata": {},
   "outputs": [],
   "source": [
    "## 일관된 형식을 위해 Name2 생성\n",
    "df[\"Name2\"] = df[\"Name\"].replace({\n",
    "    'Duff Gordon, Lady. (Lucille Christiana Sutherland) (\"Mrs Morgan\")':\n",
    "    'Duff Gordon, Mrs. Morgan',\n",
    "    'Duff Gordon, Sir. Cosmo Edmund (\"Mr Morgan\")':\n",
    "    'Duff Gordon, Mr. Morgan',\n",
    "    'Mayne, Mlle. Berthe Antonine (\"Mrs de Villiers\")':\n",
    "    'Mayne, Mrs. Villiers',\n",
    "    'Phillips, Miss. Kate Florence (\"Mrs Kate Louise Phillips Marshall\")':\n",
    "    'Phillips, Mrs. Kate Louise Phillips Marshall',\n",
    "    'Rothes, the Countess. of (Lucy Noel Martha Dyer-Edwards)':\n",
    "    'Rothes, Countess. Lucy Noel Martha Dyer-Edwards',\n",
    "    'Yrois, Miss. Henriette (\"Mrs Harbeck\")':\n",
    "    'Yrois, Mrs. Harbeck'})"
   ]
  },
  {
   "cell_type": "code",
   "execution_count": 9,
   "metadata": {},
   "outputs": [],
   "source": [
    "## Title\n",
    "df[\"Title\"] = df[\"Name2\"].apply(lambda x: x.split(\",\")[1].strip().split(\".\")[0].strip())\n",
    "df[\"Title\"] = df[\"Title\"].replace({\"Don\": \"Mr\", \"Dona\": \"Ms\", \"Mlle\": \"Ms\", \"Mme\": \"Ms\"})"
   ]
  },
  {
   "cell_type": "code",
   "execution_count": 10,
   "metadata": {},
   "outputs": [],
   "source": [
    "df[\"Title\"] = df[\"Title\"].replace({\"Capt\": \"Mr\", \"Col\": \"Mr\", \"Countess\": \"Ms\",\n",
    "                                   \"Dr\": \"Mr\", \"Jonkheer\": \"Mr\", \"Major\": \"Mr\", \"Rev\": \"Mr\"})"
   ]
  },
  {
   "cell_type": "code",
   "execution_count": 11,
   "metadata": {},
   "outputs": [],
   "source": [
    "## Last Name\n",
    "df[\"LName\"] = df[\"Name2\"].apply(lambda x: x.split(\",\")[0].strip())\n",
    "df[\"LName\"] = df[\"LName\"].apply(lambda x: re.sub('[-()\\'\\\"]', \"\", x.title()))\n",
    "df[\"LName\"] = df[\"LName\"].apply(lambda x: x.replace(\" \", \"\"))"
   ]
  },
  {
   "cell_type": "code",
   "execution_count": 12,
   "metadata": {},
   "outputs": [],
   "source": [
    "## First Name\n",
    "df[\"FName\"] = df[\"Name2\"].apply(lambda x: x.split(\".\")[1].strip())\n",
    "df[\"FName\"] = df[\"FName\"].apply(lambda x: x.replace(\"/\", \" \").split(\" \")[0].strip())\n",
    "df[\"FName\"] = df[\"FName\"].apply(lambda x: re.sub('[-()\\'\\\"]', \"\", x))"
   ]
  },
  {
   "cell_type": "code",
   "execution_count": 13,
   "metadata": {},
   "outputs": [
    {
     "data": {
      "text/html": [
       "<div>\n",
       "<style scoped>\n",
       "    .dataframe tbody tr th:only-of-type {\n",
       "        vertical-align: middle;\n",
       "    }\n",
       "\n",
       "    .dataframe tbody tr th {\n",
       "        vertical-align: top;\n",
       "    }\n",
       "\n",
       "    .dataframe thead th {\n",
       "        text-align: right;\n",
       "    }\n",
       "</style>\n",
       "<table border=\"1\" class=\"dataframe\">\n",
       "  <thead>\n",
       "    <tr style=\"text-align: right;\">\n",
       "      <th></th>\n",
       "      <th>Name2</th>\n",
       "      <th>Title</th>\n",
       "      <th>LName</th>\n",
       "      <th>FName</th>\n",
       "    </tr>\n",
       "  </thead>\n",
       "  <tbody>\n",
       "    <tr>\n",
       "      <th>0</th>\n",
       "      <td>Braund, Mr. Owen Harris</td>\n",
       "      <td>Mr</td>\n",
       "      <td>Braund</td>\n",
       "      <td>Owen</td>\n",
       "    </tr>\n",
       "    <tr>\n",
       "      <th>1</th>\n",
       "      <td>Cumings, Mrs. John Bradley (Florence Briggs Th...</td>\n",
       "      <td>Mrs</td>\n",
       "      <td>Cumings</td>\n",
       "      <td>John</td>\n",
       "    </tr>\n",
       "    <tr>\n",
       "      <th>2</th>\n",
       "      <td>Heikkinen, Miss. Laina</td>\n",
       "      <td>Miss</td>\n",
       "      <td>Heikkinen</td>\n",
       "      <td>Laina</td>\n",
       "    </tr>\n",
       "    <tr>\n",
       "      <th>3</th>\n",
       "      <td>Futrelle, Mrs. Jacques Heath (Lily May Peel)</td>\n",
       "      <td>Mrs</td>\n",
       "      <td>Futrelle</td>\n",
       "      <td>Jacques</td>\n",
       "    </tr>\n",
       "    <tr>\n",
       "      <th>4</th>\n",
       "      <td>Allen, Mr. William Henry</td>\n",
       "      <td>Mr</td>\n",
       "      <td>Allen</td>\n",
       "      <td>William</td>\n",
       "    </tr>\n",
       "  </tbody>\n",
       "</table>\n",
       "</div>"
      ],
      "text/plain": [
       "                                               Name2 Title      LName    FName\n",
       "0                            Braund, Mr. Owen Harris    Mr     Braund     Owen\n",
       "1  Cumings, Mrs. John Bradley (Florence Briggs Th...   Mrs    Cumings     John\n",
       "2                             Heikkinen, Miss. Laina  Miss  Heikkinen    Laina\n",
       "3       Futrelle, Mrs. Jacques Heath (Lily May Peel)   Mrs   Futrelle  Jacques\n",
       "4                           Allen, Mr. William Henry    Mr      Allen  William"
      ]
     },
     "execution_count": 13,
     "metadata": {},
     "output_type": "execute_result"
    }
   ],
   "source": [
    "df[[\"Name2\", \"Title\", \"LName\", \"FName\"]].head()"
   ]
  },
  {
   "cell_type": "code",
   "execution_count": 14,
   "metadata": {},
   "outputs": [],
   "source": [
    "## 일관된 형식을 위해 Ticket2 생성\n",
    "df[\"Ticket2\"] = df[\"Ticket\"].apply(lambda x: re.sub('[./]', \"\", x.upper()))\n",
    "df[\"Ticket2\"] = df[\"Ticket2\"].apply(lambda x: \"/\".join(x.rsplit(\" \", 1)))\n",
    "df[\"Ticket2\"] = df[\"Ticket2\"].apply(lambda x: x.replace(\" \", \"\"))"
   ]
  },
  {
   "cell_type": "code",
   "execution_count": 15,
   "metadata": {},
   "outputs": [
    {
     "data": {
      "text/html": [
       "<div>\n",
       "<style scoped>\n",
       "    .dataframe tbody tr th:only-of-type {\n",
       "        vertical-align: middle;\n",
       "    }\n",
       "\n",
       "    .dataframe tbody tr th {\n",
       "        vertical-align: top;\n",
       "    }\n",
       "\n",
       "    .dataframe thead th {\n",
       "        text-align: right;\n",
       "    }\n",
       "</style>\n",
       "<table border=\"1\" class=\"dataframe\">\n",
       "  <thead>\n",
       "    <tr style=\"text-align: right;\">\n",
       "      <th></th>\n",
       "      <th>Ticket2</th>\n",
       "    </tr>\n",
       "  </thead>\n",
       "  <tbody>\n",
       "    <tr>\n",
       "      <th>0</th>\n",
       "      <td>A5/21171</td>\n",
       "    </tr>\n",
       "    <tr>\n",
       "      <th>1</th>\n",
       "      <td>PC/17599</td>\n",
       "    </tr>\n",
       "    <tr>\n",
       "      <th>2</th>\n",
       "      <td>STONO2/3101282</td>\n",
       "    </tr>\n",
       "    <tr>\n",
       "      <th>3</th>\n",
       "      <td>113803</td>\n",
       "    </tr>\n",
       "    <tr>\n",
       "      <th>4</th>\n",
       "      <td>373450</td>\n",
       "    </tr>\n",
       "  </tbody>\n",
       "</table>\n",
       "</div>"
      ],
      "text/plain": [
       "          Ticket2\n",
       "0        A5/21171\n",
       "1        PC/17599\n",
       "2  STONO2/3101282\n",
       "3          113803\n",
       "4          373450"
      ]
     },
     "execution_count": 15,
     "metadata": {},
     "output_type": "execute_result"
    }
   ],
   "source": [
    "df[[\"Ticket2\"]].head()"
   ]
  },
  {
   "cell_type": "code",
   "execution_count": 18,
   "metadata": {},
   "outputs": [],
   "source": [
    "#######################################################################"
   ]
  },
  {
   "cell_type": "code",
   "execution_count": 21,
   "metadata": {},
   "outputs": [
    {
     "data": {
      "text/plain": [
       "Counter({1: 1174, 2: 9})"
      ]
     },
     "execution_count": 21,
     "metadata": {},
     "output_type": "execute_result"
    }
   ],
   "source": [
    "## 가정: 부부이면 티켓 동일하다\n",
    "## 예외: LName FName 같은데 티켓 2종류 >> 9건\n",
    "Counter({k: len(set(v[\"Ticket2\"].tolist()))\n",
    "         for k, v in df[[\"LName\", \"FName\", \"Ticket2\"]].groupby([\"LName\", \"FName\"])}.values())"
   ]
  },
  {
   "cell_type": "code",
   "execution_count": 22,
   "metadata": {},
   "outputs": [
    {
     "data": {
      "text/plain": [
       "{('Connolly', 'Kate'): {'330972', '370373'},\n",
       " ('Crosby', 'Edward'): {'112901', 'WEP/5735'},\n",
       " ('Davies', 'John'): {'A4/48871', 'CA/33112'},\n",
       " ('DuffGordon', 'Morgan'): {'11755', 'PC/17485'},\n",
       " ('Elias', 'Joseph'): {'2675', '2690'},\n",
       " ('Flynn', 'John'): {'368323', 'PC/17474'},\n",
       " ('Kelly', 'James'): {'330911', '363592'},\n",
       " ('Svensson', 'Johan'): {'347060', '7538'},\n",
       " ('Williams', 'Charles'): {'244373', 'PC/17597'}}"
      ]
     },
     "execution_count": 22,
     "metadata": {},
     "output_type": "execute_result"
    }
   ],
   "source": [
    "{k: set(v[\"Ticket2\"].tolist())\n",
    " for k, v in df[[\"Name2\", \"LName\", \"FName\", \"Ticket2\"]].groupby([\"LName\", \"FName\"])\n",
    " if len(set(v[\"Ticket2\"].tolist())) > 1}"
   ]
  },
  {
   "cell_type": "code",
   "execution_count": 24,
   "metadata": {},
   "outputs": [
    {
     "data": {
      "text/plain": [
       "Index(['PassengerId', 'Survived', 'Pclass', 'Name', 'Age', 'SibSp', 'Parch',\n",
       "       'Ticket', 'Fare', 'Cabin', 'Embarked', 'Set', 'Sex_female',\n",
       "       'Embarked_C', 'Embarked_Q', 'Embarked_S', 'Name2', 'Title', 'LName',\n",
       "       'FName', 'Ticket2'],\n",
       "      dtype='object')"
      ]
     },
     "execution_count": 24,
     "metadata": {},
     "output_type": "execute_result"
    }
   ],
   "source": [
    "df.columns"
   ]
  },
  {
   "cell_type": "code",
   "execution_count": 18,
   "metadata": {},
   "outputs": [],
   "source": [
    "#######################################################################"
   ]
  },
  {
   "cell_type": "code",
   "execution_count": 25,
   "metadata": {},
   "outputs": [],
   "source": [
    "cols = [\"PassengerId\", \"Name2\", \"Ticket2\", \"Pclass\", \"Embarked\", \"Age\", \"SibSp\", \"Parch\"]"
   ]
  },
  {
   "cell_type": "code",
   "execution_count": 23,
   "metadata": {},
   "outputs": [
    {
     "data": {
      "text/html": [
       "<div>\n",
       "<style scoped>\n",
       "    .dataframe tbody tr th:only-of-type {\n",
       "        vertical-align: middle;\n",
       "    }\n",
       "\n",
       "    .dataframe tbody tr th {\n",
       "        vertical-align: top;\n",
       "    }\n",
       "\n",
       "    .dataframe thead th {\n",
       "        text-align: right;\n",
       "    }\n",
       "</style>\n",
       "<table border=\"1\" class=\"dataframe\">\n",
       "  <thead>\n",
       "    <tr style=\"text-align: right;\">\n",
       "      <th></th>\n",
       "      <th>PassengerId</th>\n",
       "      <th>Survived</th>\n",
       "      <th>Pclass</th>\n",
       "      <th>Name</th>\n",
       "      <th>Age</th>\n",
       "      <th>SibSp</th>\n",
       "      <th>Parch</th>\n",
       "      <th>Ticket</th>\n",
       "      <th>Fare</th>\n",
       "      <th>Cabin</th>\n",
       "      <th>...</th>\n",
       "      <th>Set</th>\n",
       "      <th>Sex_female</th>\n",
       "      <th>Embarked_C</th>\n",
       "      <th>Embarked_Q</th>\n",
       "      <th>Embarked_S</th>\n",
       "      <th>Name2</th>\n",
       "      <th>Title</th>\n",
       "      <th>LName</th>\n",
       "      <th>FName</th>\n",
       "      <th>Ticket2</th>\n",
       "    </tr>\n",
       "  </thead>\n",
       "  <tbody>\n",
       "    <tr>\n",
       "      <th>289</th>\n",
       "      <td>290</td>\n",
       "      <td>1.0</td>\n",
       "      <td>3</td>\n",
       "      <td>Connolly, Miss. Kate</td>\n",
       "      <td>22.0</td>\n",
       "      <td>0</td>\n",
       "      <td>0</td>\n",
       "      <td>370373</td>\n",
       "      <td>7.7500</td>\n",
       "      <td>NaN</td>\n",
       "      <td>...</td>\n",
       "      <td>0</td>\n",
       "      <td>1</td>\n",
       "      <td>0</td>\n",
       "      <td>1</td>\n",
       "      <td>0</td>\n",
       "      <td>Connolly, Miss. Kate</td>\n",
       "      <td>Miss</td>\n",
       "      <td>Connolly</td>\n",
       "      <td>Kate</td>\n",
       "      <td>370373</td>\n",
       "    </tr>\n",
       "    <tr>\n",
       "      <th>897</th>\n",
       "      <td>898</td>\n",
       "      <td>NaN</td>\n",
       "      <td>3</td>\n",
       "      <td>Connolly, Miss. Kate</td>\n",
       "      <td>30.0</td>\n",
       "      <td>0</td>\n",
       "      <td>0</td>\n",
       "      <td>330972</td>\n",
       "      <td>7.6292</td>\n",
       "      <td>NaN</td>\n",
       "      <td>...</td>\n",
       "      <td>1</td>\n",
       "      <td>1</td>\n",
       "      <td>0</td>\n",
       "      <td>1</td>\n",
       "      <td>0</td>\n",
       "      <td>Connolly, Miss. Kate</td>\n",
       "      <td>Miss</td>\n",
       "      <td>Connolly</td>\n",
       "      <td>Kate</td>\n",
       "      <td>330972</td>\n",
       "    </tr>\n",
       "  </tbody>\n",
       "</table>\n",
       "<p>2 rows × 21 columns</p>\n",
       "</div>"
      ],
      "text/plain": [
       "     PassengerId  Survived  Pclass                  Name   Age  SibSp  Parch  \\\n",
       "289          290       1.0       3  Connolly, Miss. Kate  22.0      0      0   \n",
       "897          898       NaN       3  Connolly, Miss. Kate  30.0      0      0   \n",
       "\n",
       "     Ticket    Fare Cabin  ... Set  Sex_female  Embarked_C  Embarked_Q  \\\n",
       "289  370373  7.7500   NaN  ...   0           1           0           1   \n",
       "897  330972  7.6292   NaN  ...   1           1           0           1   \n",
       "\n",
       "     Embarked_S                 Name2 Title     LName FName Ticket2  \n",
       "289           0  Connolly, Miss. Kate  Miss  Connolly  Kate  370373  \n",
       "897           0  Connolly, Miss. Kate  Miss  Connolly  Kate  330972  \n",
       "\n",
       "[2 rows x 21 columns]"
      ]
     },
     "execution_count": 23,
     "metadata": {},
     "output_type": "execute_result"
    }
   ],
   "source": [
    "## 남녀 조합, SibSp > 0, 결혼 mr mrs 조합\n",
    "df[(df.LName==\"Connolly\") & (df.FName==\"Kate\")]\n",
    "#df[(df.LName==\"Flynn\") & (df.FName==\"John\")]\n",
    "#df[(df.LName==\"Kelly\") & (df.FName==\"James\")]\n",
    "#df[(df.LName==\"Svensson\") & (df.FName==\"Johan\")]\n",
    "#df[(df.LName==\"Williams\") & (df.FName==\"Charles\")]"
   ]
  },
  {
   "cell_type": "code",
   "execution_count": null,
   "metadata": {},
   "outputs": [],
   "source": [
    "## 주니어 제외 조건 추가\n",
    "df[(df.LName==\"Davies\") & (df.FName==\"John\")]\n",
    "df[(df.LName==\"Elias\") & (df.FName==\"Joseph\")]"
   ]
  },
  {
   "cell_type": "code",
   "execution_count": null,
   "metadata": {},
   "outputs": [],
   "source": [
    "## 가족 >> id 1197번 티켓2 수정\n",
    "df[(df.LName==\"Crosby\") & (df.FName==\"Edward\")]\n",
    "df[(df.LName==\"Crosby\")]"
   ]
  },
  {
   "cell_type": "code",
   "execution_count": null,
   "metadata": {},
   "outputs": [],
   "source": [
    "## id 600번 티켓2 수정\n",
    "df[(df.LName==\"DuffGordon\") & (df.FName==\"Morgan\")]\n",
    "df[(df.Ticket==\"11755\") | (df.Ticket==\"PC 17485\") ]"
   ]
  },
  {
   "cell_type": "code",
   "execution_count": null,
   "metadata": {},
   "outputs": [],
   "source": [
    "## Spouse\n",
    "sp = {k: v[\"PassengerId\"].tolist() for k, v in df[\n",
    "    (df[\"SibSp\"] > 0) &\n",
    "    (df[\"Title\"].apply(lambda x: x in [\"Mr\", \"Mrs\"])) &\n",
    "    (df[\"Name2\"].apply(lambda x: \" Jr\" not in x))].groupby([\"LName\", \"FName\", \"Ticket2\"])\n",
    "      if (len(v[\"PassengerId\"]) > 1) &\n",
    "      (sum([df[df[\"PassengerId\"]==x][\"Sex_female\"].values[0] for x in v[\"PassengerId\"].tolist()])==1 )}"
   ]
  },
  {
   "cell_type": "code",
   "execution_count": null,
   "metadata": {},
   "outputs": [],
   "source": [
    "## [Mr, Mrs] 순서로 정렬\n",
    "## 코드 합쳐서 나이까지 한 번에\n",
    "sp = {(k if df[df[\"PassengerId\"]==v[0]][\"Sex_female\"].values[0]==0 else k):\n",
    "      (v if df[df[\"PassengerId\"]==v[0]][\"Sex_female\"].values[0]==0 else list(reversed(v)))\n",
    "      for k, v in sp.items()}\n",
    "\n",
    "sp = {k: [(v[0], df[df[\"PassengerId\"]==v[0]][\"Age\"].values[0]),\n",
    "          (v[1], df[df[\"PassengerId\"]==v[1]][\"Age\"].values[0])]\n",
    "      for k, v in sp.items()}"
   ]
  },
  {
   "cell_type": "code",
   "execution_count": null,
   "metadata": {},
   "outputs": [],
   "source": [
    "list(sp.items())[0]"
   ]
  },
  {
   "cell_type": "code",
   "execution_count": null,
   "metadata": {},
   "outputs": [],
   "source": [
    "## 배우자 나이 차이\n",
    "diff = [v[0][1] - v[1][1] for v in sp.values()]\n",
    "plt.hist(diff, bins=range(-40, 30, 5))"
   ]
  },
  {
   "cell_type": "code",
   "execution_count": null,
   "metadata": {},
   "outputs": [],
   "source": [
    "\"median: {}\".format(round(median([v for v in diff if np.isnan(v)==False]), 3))"
   ]
  },
  {
   "cell_type": "code",
   "execution_count": null,
   "metadata": {},
   "outputs": [],
   "source": [
    "## 중앙값 활용해서 결측값 처리\n",
    "df[\"Age2\"] = df[\"Age\"].copy()\n",
    "\n",
    "for v in sp.values():\n",
    "    if (np.isnan(v[0][1])==True) & (np.isnan(v[1][1])==False):\n",
    "        df.loc[df[\"PassengerId\"]==v[0][0], \"Age2\"] = v[1][1] + 3.5\n",
    "    elif (np.isnan(v[0][1])==False) & (np.isnan(v[1][1])==True):\n",
    "        df.loc[df[\"PassengerId\"]==v[1][0], \"Age2\"] = v[0][1] - 3.5"
   ]
  },
  {
   "cell_type": "code",
   "execution_count": null,
   "metadata": {},
   "outputs": [],
   "source": []
  }
 ],
 "metadata": {
  "kernelspec": {
   "display_name": "Python 3",
   "language": "python",
   "name": "python3"
  },
  "language_info": {
   "codemirror_mode": {
    "name": "ipython",
    "version": 3
   },
   "file_extension": ".py",
   "mimetype": "text/x-python",
   "name": "python",
   "nbconvert_exporter": "python",
   "pygments_lexer": "ipython3",
   "version": "3.7.3"
  }
 },
 "nbformat": 4,
 "nbformat_minor": 2
}
