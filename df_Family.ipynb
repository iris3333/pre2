{
 "cells": [
  {
   "cell_type": "code",
   "execution_count": 1,
   "metadata": {},
   "outputs": [],
   "source": [
    "import numpy as np\n",
    "import pandas as pd\n",
    "import matplotlib.pyplot as plt"
   ]
  },
  {
   "cell_type": "code",
   "execution_count": 2,
   "metadata": {},
   "outputs": [],
   "source": [
    "df0 = pd.read_csv(\"train.csv\")\n",
    "df1 = pd.read_csv(\"test.csv\")"
   ]
  },
  {
   "cell_type": "code",
   "execution_count": 3,
   "metadata": {},
   "outputs": [],
   "source": [
    "df0[\"Set\"] = [0]*len(df0)\n",
    "df1[\"Set\"] = [1]*len(df1)"
   ]
  },
  {
   "cell_type": "code",
   "execution_count": 4,
   "metadata": {},
   "outputs": [],
   "source": [
    "df = pd.merge(df0, df1, how=\"outer\")"
   ]
  },
  {
   "cell_type": "code",
   "execution_count": 5,
   "metadata": {},
   "outputs": [],
   "source": [
    "## 일관된 형식을 위해 Name2 생성\n",
    "df[\"Name2\"] = df[\"Name\"].replace({\n",
    "    'Duff Gordon, Lady. (Lucille Christiana Sutherland) (\"Mrs Morgan\")': 'Duff Gordon, Mrs. Morgan',\n",
    "    'Duff Gordon, Sir. Cosmo Edmund (\"Mr Morgan\")': 'Duff Gordon, Mr. Morgan',\n",
    "    'Mayne, Mlle. Berthe Antonine (\"Mrs de Villiers\")': 'Mayne, Mrs. Villiers',\n",
    "    'Phillips, Miss. Kate Florence (\"Mrs Kate Louise Phillips Marshall\")': 'Phillips, Mrs. Kate Louise Phillips Marshall',\n",
    "    'Rothes, the Countess. of (Lucy Noel Martha Dyer-Edwards)': 'Rothes, Countess. Lucy Noel Martha Dyer-Edwards',\n",
    "    'Yrois, Miss. Henriette (\"Mrs Harbeck\")': 'Yrois, Mrs. Harbeck'})"
   ]
  },
  {
   "cell_type": "code",
   "execution_count": 6,
   "metadata": {},
   "outputs": [],
   "source": [
    "## Last Name\n",
    "df[\"LName\"] = df[\"Name2\"].apply(lambda x: x.split(\",\")[0].strip())\n",
    "df[\"LName\"] = df[\"LName\"].apply(lambda x: x.title().translate(str.maketrans({\" \": None, \"-\": None, \"'\": None, '\"': None})))"
   ]
  },
  {
   "cell_type": "code",
   "execution_count": 7,
   "metadata": {},
   "outputs": [],
   "source": [
    "## 일관된 형식을 위해 Ticket2 생성\n",
    "df[\"Ticket2\"] = df[\"Ticket\"].apply(lambda x: x.upper().translate(str.maketrans({\"/\": None, \".\": None})).strip())\n",
    "df[\"Ticket2\"] = df[\"Ticket2\"].apply(lambda x: \"LINE/\" if \"LINE\" in x else \"\".join(x.split(\" \")[:-1]) + \"/\" + x.split(\" \")[-1])"
   ]
  },
  {
   "cell_type": "code",
   "execution_count": 8,
   "metadata": {},
   "outputs": [],
   "source": [
    "## Ticket 문자\n",
    "df[\"THead\"] = df[\"Ticket2\"].apply(lambda x: x.split(\"/\")[0])"
   ]
  },
  {
   "cell_type": "code",
   "execution_count": 9,
   "metadata": {},
   "outputs": [],
   "source": [
    "## Ticket 숫자\n",
    "df[\"TTail\"] = df[\"Ticket2\"].apply(lambda x: x.split(\"/\")[1])"
   ]
  },
  {
   "cell_type": "code",
   "execution_count": null,
   "metadata": {},
   "outputs": [],
   "source": []
  },
  {
   "cell_type": "code",
   "execution_count": null,
   "metadata": {},
   "outputs": [],
   "source": []
  },
  {
   "cell_type": "code",
   "execution_count": 10,
   "metadata": {},
   "outputs": [],
   "source": [
    "## Family Size\n",
    "df[\"FSize\"] = df[\"SibSp\"] + df[\"Parch\"] + 1"
   ]
  },
  {
   "cell_type": "code",
   "execution_count": 11,
   "metadata": {},
   "outputs": [],
   "source": [
    "## LName vs. Ticket >> (LName, Ticket) 조합을 가족 키로 사용 가능??"
   ]
  },
  {
   "cell_type": "code",
   "execution_count": 12,
   "metadata": {},
   "outputs": [
    {
     "data": {
      "text/plain": [
       "[(1, 181), (2, 25), (3, 3)]"
      ]
     },
     "execution_count": 12,
     "metadata": {},
     "output_type": "execute_result"
    }
   ],
   "source": [
    "## LName 1개의 Ticket 개수\n",
    "from collections import Counter\n",
    "Counter({k: len(set(v[\"Ticket2\"].tolist())) for k, v in df[df[\"FSize\"] > 1].groupby(\"LName\")}.values()).most_common()"
   ]
  },
  {
   "cell_type": "code",
   "execution_count": 13,
   "metadata": {},
   "outputs": [
    {
     "data": {
      "text/plain": [
       "[(1, 220), (2, 10)]"
      ]
     },
     "execution_count": 13,
     "metadata": {},
     "output_type": "execute_result"
    }
   ],
   "source": [
    "## Ticket 1개의 LName 개수\n",
    "Counter({k: len(set(v[\"LName\"].tolist())) for k, v in df[df[\"FSize\"] > 1].groupby(\"Ticket2\")}.values()).most_common()"
   ]
  },
  {
   "cell_type": "code",
   "execution_count": null,
   "metadata": {},
   "outputs": [],
   "source": []
  },
  {
   "cell_type": "code",
   "execution_count": null,
   "metadata": {},
   "outputs": [],
   "source": []
  },
  {
   "cell_type": "code",
   "execution_count": null,
   "metadata": {},
   "outputs": [],
   "source": []
  }
 ],
 "metadata": {
  "kernelspec": {
   "display_name": "Python 3",
   "language": "python",
   "name": "python3"
  },
  "language_info": {
   "codemirror_mode": {
    "name": "ipython",
    "version": 3
   },
   "file_extension": ".py",
   "mimetype": "text/x-python",
   "name": "python",
   "nbconvert_exporter": "python",
   "pygments_lexer": "ipython3",
   "version": "3.6.7"
  }
 },
 "nbformat": 4,
 "nbformat_minor": 2
}
