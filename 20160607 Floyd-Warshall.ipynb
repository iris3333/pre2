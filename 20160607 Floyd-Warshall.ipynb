{
 "cells": [
  {
   "cell_type": "markdown",
   "metadata": {},
   "source": [
    "# DP: Floyd-Warshall Algorithm"
   ]
  },
  {
   "cell_type": "markdown",
   "metadata": {},
   "source": [
    "For all pairs shortest paths problem. Floyd-Warshall algorithm finds the shortest paths between all pairs of vertices in a weighted graph with positive or negative edge weights (but with no negative cycles)."
   ]
  },
  {
   "cell_type": "code",
   "execution_count": 1,
   "metadata": {
    "collapsed": true
   },
   "outputs": [],
   "source": [
    "import numpy as np"
   ]
  },
  {
   "cell_type": "markdown",
   "metadata": {},
   "source": [
    "### Initialize\n",
    "\n",
    "'n' is the total number of vertices and 'D' is an array representing the edge weights. Because the objective of this algorithm is to find the shortest paths, the value in D is set to infinite if the two vertices are not connected."
   ]
  },
  {
   "cell_type": "code",
   "execution_count": 2,
   "metadata": {
    "collapsed": true
   },
   "outputs": [],
   "source": [
    "n = 4"
   ]
  },
  {
   "cell_type": "code",
   "execution_count": 3,
   "metadata": {
    "collapsed": true
   },
   "outputs": [],
   "source": [
    "v0 = [0, 8, float(\"inf\"), 1]\n",
    "v1 = [float(\"inf\"), 0, 1, float(\"inf\")]\n",
    "v2 = [4, float(\"inf\"), 0, float(\"inf\")]\n",
    "v3 = [float(\"inf\"), 2, 9, 0]"
   ]
  },
  {
   "cell_type": "code",
   "execution_count": 4,
   "metadata": {},
   "outputs": [
    {
     "name": "stdout",
     "output_type": "stream",
     "text": [
      "[[  0.   8.  inf   1.]\n",
      " [ inf   0.   1.  inf]\n",
      " [  4.  inf   0.  inf]\n",
      " [ inf   2.   9.   0.]]\n"
     ]
    }
   ],
   "source": [
    "D = np.array(v0 + v1 + v2 + v3).reshape(n, n)\n",
    "print(D)"
   ]
  },
  {
   "cell_type": "code",
   "execution_count": 5,
   "metadata": {},
   "outputs": [
    {
     "name": "stdout",
     "output_type": "stream",
     "text": [
      "[['#' '#' '#' '#']\n",
      " ['#' '#' '#' '#']\n",
      " ['#' '#' '#' '#']\n",
      " ['#' '#' '#' '#']]\n"
     ]
    }
   ],
   "source": [
    "V = np.full((n, n), \"#\")\n",
    "print(V)"
   ]
  },
  {
   "cell_type": "markdown",
   "metadata": {},
   "source": [
    "### Execute\n",
    "\n",
    "'k' means the intermediate vertex. On each step, the algorithm compares weights from the direct path and the path via k. If the latter has a lower value, D is updated and k is recorded on array V. For instance, when k is 0, since 2-0-1(weight=12) has a lower value than 2-1(weight=infinite), the value of V[2][1] becomes 0."
   ]
  },
  {
   "cell_type": "code",
   "execution_count": 6,
   "metadata": {
    "collapsed": true
   },
   "outputs": [],
   "source": [
    "k = 0"
   ]
  },
  {
   "cell_type": "code",
   "execution_count": 7,
   "metadata": {},
   "outputs": [
    {
     "name": "stdout",
     "output_type": "stream",
     "text": [
      "2-1(inf)\n",
      "2-0-1(12.0)\n",
      "2-3(inf)\n",
      "2-0-3(5.0)\n"
     ]
    }
   ],
   "source": [
    "for i in range(0, n):\n",
    "    if i != k:\n",
    "        for j in range(0, n):\n",
    "            if j != k and j != i:\n",
    "                if (D[i][k] + D[k][j]) < D[i][j]:\n",
    "                    print(\"{}-{}({})\".format(i, j, D[i][j]))\n",
    "                    print(\"{}-{}-{}({})\".format(i, k, j, (D[i][k] + D[k][j])))\n",
    "                    D[i][j] = D[i][k] + D[k][j]\n",
    "                    V[i][j] = k"
   ]
  },
  {
   "cell_type": "code",
   "execution_count": 8,
   "metadata": {},
   "outputs": [
    {
     "name": "stdout",
     "output_type": "stream",
     "text": [
      "[[  0.   8.  inf   1.]\n",
      " [ inf   0.   1.  inf]\n",
      " [  4.  12.   0.   5.]\n",
      " [ inf   2.   9.   0.]]\n"
     ]
    }
   ],
   "source": [
    "print(D)"
   ]
  },
  {
   "cell_type": "code",
   "execution_count": 9,
   "metadata": {},
   "outputs": [
    {
     "name": "stdout",
     "output_type": "stream",
     "text": [
      "[['#' '#' '#' '#']\n",
      " ['#' '#' '#' '#']\n",
      " ['#' '0' '#' '0']\n",
      " ['#' '#' '#' '#']]\n"
     ]
    }
   ],
   "source": [
    "print(V)"
   ]
  },
  {
   "cell_type": "code",
   "execution_count": 10,
   "metadata": {
    "collapsed": true
   },
   "outputs": [],
   "source": [
    "k = 1"
   ]
  },
  {
   "cell_type": "code",
   "execution_count": 11,
   "metadata": {},
   "outputs": [
    {
     "name": "stdout",
     "output_type": "stream",
     "text": [
      "0-2(inf)\n",
      "0-1-2(9.0)\n",
      "3-2(9.0)\n",
      "3-1-2(3.0)\n"
     ]
    }
   ],
   "source": [
    "for i in range(0, n):\n",
    "    if i != k:\n",
    "        for j in range(0, n):\n",
    "            if j != k and j != i:\n",
    "                if (D[i][k] + D[k][j]) < D[i][j]:\n",
    "                    print(\"{}-{}({})\".format(i, j, D[i][j]))\n",
    "                    print(\"{}-{}-{}({})\".format(i, k, j, (D[i][k] + D[k][j])))\n",
    "                    D[i][j] = D[i][k] + D[k][j]\n",
    "                    V[i][j] = k"
   ]
  },
  {
   "cell_type": "code",
   "execution_count": 12,
   "metadata": {},
   "outputs": [
    {
     "name": "stdout",
     "output_type": "stream",
     "text": [
      "[[  0.   8.   9.   1.]\n",
      " [ inf   0.   1.  inf]\n",
      " [  4.  12.   0.   5.]\n",
      " [ inf   2.   3.   0.]]\n"
     ]
    }
   ],
   "source": [
    "print(D)"
   ]
  },
  {
   "cell_type": "code",
   "execution_count": 13,
   "metadata": {},
   "outputs": [
    {
     "name": "stdout",
     "output_type": "stream",
     "text": [
      "[['#' '#' '1' '#']\n",
      " ['#' '#' '#' '#']\n",
      " ['#' '0' '#' '0']\n",
      " ['#' '#' '1' '#']]\n"
     ]
    }
   ],
   "source": [
    "print(V)"
   ]
  },
  {
   "cell_type": "code",
   "execution_count": 14,
   "metadata": {
    "collapsed": true
   },
   "outputs": [],
   "source": [
    "k = 2"
   ]
  },
  {
   "cell_type": "code",
   "execution_count": 15,
   "metadata": {},
   "outputs": [
    {
     "name": "stdout",
     "output_type": "stream",
     "text": [
      "1-0(inf)\n",
      "1-2-0(5.0)\n",
      "1-3(inf)\n",
      "1-2-3(6.0)\n",
      "3-0(inf)\n",
      "3-2-0(7.0)\n"
     ]
    }
   ],
   "source": [
    "for i in range(0, n):\n",
    "    if i != k:\n",
    "        for j in range(0, n):\n",
    "            if j != k and j != i:\n",
    "                if (D[i][k] + D[k][j]) < D[i][j]:\n",
    "                    print(\"{}-{}({})\".format(i, j, D[i][j]))\n",
    "                    print(\"{}-{}-{}({})\".format(i, k, j, (D[i][k] + D[k][j])))\n",
    "                    D[i][j] = D[i][k] + D[k][j]\n",
    "                    V[i][j] = k"
   ]
  },
  {
   "cell_type": "code",
   "execution_count": 16,
   "metadata": {},
   "outputs": [
    {
     "name": "stdout",
     "output_type": "stream",
     "text": [
      "[[  0.   8.   9.   1.]\n",
      " [  5.   0.   1.   6.]\n",
      " [  4.  12.   0.   5.]\n",
      " [  7.   2.   3.   0.]]\n"
     ]
    }
   ],
   "source": [
    "print(D)"
   ]
  },
  {
   "cell_type": "code",
   "execution_count": 17,
   "metadata": {},
   "outputs": [
    {
     "name": "stdout",
     "output_type": "stream",
     "text": [
      "[['#' '#' '1' '#']\n",
      " ['2' '#' '#' '2']\n",
      " ['#' '0' '#' '0']\n",
      " ['2' '#' '1' '#']]\n"
     ]
    }
   ],
   "source": [
    "print(V)"
   ]
  },
  {
   "cell_type": "code",
   "execution_count": 18,
   "metadata": {
    "collapsed": true
   },
   "outputs": [],
   "source": [
    "k = 3"
   ]
  },
  {
   "cell_type": "code",
   "execution_count": 19,
   "metadata": {},
   "outputs": [
    {
     "name": "stdout",
     "output_type": "stream",
     "text": [
      "0-1(8.0)\n",
      "0-3-1(3.0)\n",
      "0-2(9.0)\n",
      "0-3-2(4.0)\n",
      "2-1(12.0)\n",
      "2-3-1(7.0)\n"
     ]
    }
   ],
   "source": [
    "for i in range(0, n):\n",
    "    if i != k:\n",
    "        for j in range(0, n):\n",
    "            if j != k and j != i:\n",
    "                if (D[i][k] + D[k][j]) < D[i][j]:\n",
    "                    print(\"{}-{}({})\".format(i, j, D[i][j]))\n",
    "                    print(\"{}-{}-{}({})\".format(i, k, j, (D[i][k] + D[k][j])))\n",
    "                    D[i][j] = D[i][k] + D[k][j]\n",
    "                    V[i][j] = k"
   ]
  },
  {
   "cell_type": "code",
   "execution_count": 20,
   "metadata": {},
   "outputs": [
    {
     "name": "stdout",
     "output_type": "stream",
     "text": [
      "[[ 0.  3.  4.  1.]\n",
      " [ 5.  0.  1.  6.]\n",
      " [ 4.  7.  0.  5.]\n",
      " [ 7.  2.  3.  0.]]\n"
     ]
    }
   ],
   "source": [
    "print(D)"
   ]
  },
  {
   "cell_type": "code",
   "execution_count": 21,
   "metadata": {},
   "outputs": [
    {
     "name": "stdout",
     "output_type": "stream",
     "text": [
      "[['#' '3' '3' '#']\n",
      " ['2' '#' '#' '2']\n",
      " ['#' '3' '#' '0']\n",
      " ['2' '#' '1' '#']]\n"
     ]
    }
   ],
   "source": [
    "print(V)"
   ]
  }
 ],
 "metadata": {
  "kernelspec": {
   "display_name": "Python 3",
   "language": "python",
   "name": "python3"
  },
  "language_info": {
   "codemirror_mode": {
    "name": "ipython",
    "version": 3
   },
   "file_extension": ".py",
   "mimetype": "text/x-python",
   "name": "python",
   "nbconvert_exporter": "python",
   "pygments_lexer": "ipython3",
   "version": "3.6.1"
  }
 },
 "nbformat": 4,
 "nbformat_minor": 2
}
